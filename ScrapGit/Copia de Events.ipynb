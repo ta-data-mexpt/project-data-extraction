{
 "cells": [
  {
   "cell_type": "code",
   "execution_count": 45,
   "metadata": {},
   "outputs": [],
   "source": [
    "import requests\n",
    "from bs4 import BeautifulSoup\n",
    "import pandas as pd\n",
    "from pprint import pprint\n",
    "from lxml import html\n",
    "from lxml.html import fromstring\n",
    "import urllib.request\n",
    "from urllib.request import urlopen\n",
    "import random\n",
    "import re"
   ]
  },
  {
   "cell_type": "code",
   "execution_count": 56,
   "metadata": {},
   "outputs": [],
   "source": [
    "url = 'http://www.ufcstats.com/event-details/4565d435005319c0'\n",
    "html = requests.get(url).content\n",
    "soup = BeautifulSoup(html)"
   ]
  },
  {
   "cell_type": "code",
   "execution_count": 57,
   "metadata": {},
   "outputs": [
    {
     "name": "stdout",
     "output_type": "stream",
     "text": [
      "UFC 245: Usman vs. Covington\n"
     ]
    }
   ],
   "source": [
    "event = soup.find_all('span',{'class':'b-content__title-highlight'})[0]\n",
    "event = event.text.replace('\\n\\n','\\n').strip().split(\"\\n\")\n",
    "print (event[0])\n"
   ]
  },
  {
   "cell_type": "code",
   "execution_count": 58,
   "metadata": {},
   "outputs": [
    {
     "name": "stdout",
     "output_type": "stream",
     "text": [
      "December,14,2019\n",
      "LasVegas,Nevada,\n",
      "16,811\n"
     ]
    }
   ],
   "source": [
    "table = soup.find_all('ul',{'class':'b-list__box-list'})[0]\n",
    "tags = table.find_all('li',{'class':'b-list__box-list-item'})\n",
    "specs = []\n",
    "for tag in tags:\n",
    "    specs.append(tag.text.replace('\\n\\n','\\n').strip().split())\n",
    "    \n",
    "\n",
    "\n",
    "date = (specs[0][1]+','+specs[0][2]+specs[0][3])\n",
    "location = (specs[1][1]+specs[1][2]+specs[1][3])\n",
    "attendance = (specs[2][1])\n",
    "\n",
    "print (date)\n",
    "print (location)\n",
    "print (attendance)"
   ]
  },
  {
   "cell_type": "code",
   "execution_count": 59,
   "metadata": {},
   "outputs": [
    {
     "name": "stdout",
     "output_type": "stream",
     "text": [
      "['http://www.ufcstats.com/fight-details/82177c0f91d9618a', 'http://www.ufcstats.com/fight-details/efc40ec41114d8fa', 'http://www.ufcstats.com/fight-details/36fcfd186a8d6df7', 'http://www.ufcstats.com/fight-details/b5ec939fd1edf048', 'http://www.ufcstats.com/fight-details/a0c82ba11a373008', 'http://www.ufcstats.com/fight-details/ad5ef8d8678ff97f', 'http://www.ufcstats.com/fight-details/c4eaeec8ac778b27', 'http://www.ufcstats.com/fight-details/dd88960598219eba', 'http://www.ufcstats.com/fight-details/98dd88d83f57c17a', 'http://www.ufcstats.com/fight-details/d42410f6f1039ab5', 'http://www.ufcstats.com/fight-details/1881b1e85cceee13', 'http://www.ufcstats.com/fight-details/35d0ef51fede263c', 'http://www.ufcstats.com/fight-details/30523303e8d85c25']\n"
     ]
    },
    {
     "data": {
      "text/plain": [
       "\"\\nrows = [row.text.replace('\\n\\n','\\n').strip().split() for row in rows]\\nrows\\ncolnames = ['stat','winner_firstName','winner_lastName','looser_firstName','looser_lastName','str','str',\\n            '0','0','0','0','0','0','division','method','methodDetail','round','min']\\ndata = rows[0:]\\ndf = pd.DataFrame(data,columns = colnames)\\ndf\\n\""
      ]
     },
     "execution_count": 59,
     "metadata": {},
     "output_type": "execute_result"
    }
   ],
   "source": [
    "table = soup.find_all('tbody',{'class':'b-fight-details__table-body'})[0]\n",
    "rows = table.find_all('tr')\n",
    "links=[]\n",
    "for row in rows:\n",
    "    a = (row.find_all('a',{'class':'b-flag b-flag_style_green'}))\n",
    "    a = (a[0])\n",
    "    links.append (a['href'])\n",
    "\n",
    "print (links)\n",
    "\n",
    "'''\n",
    "rows = [row.text.replace('\\n\\n','\\n').strip().split() for row in rows]\n",
    "rows\n",
    "colnames = ['stat','winner_firstName','winner_lastName','looser_firstName','looser_lastName','str','str',\n",
    "            '0','0','0','0','0','0','division','method','methodDetail','round','min']\n",
    "data = rows[0:]\n",
    "df = pd.DataFrame(data,columns = colnames)\n",
    "df\n",
    "'''"
   ]
  },
  {
   "cell_type": "code",
   "execution_count": 60,
   "metadata": {},
   "outputs": [
    {
     "name": "stdout",
     "output_type": "stream",
     "text": [
      "UFC 245: Usman vs. Covington\n",
      "December,14,2019\n",
      "LasVegas,Nevada,\n",
      "16,811\n",
      "['http://www.ufcstats.com/fight-details/82177c0f91d9618a', 'http://www.ufcstats.com/fight-details/efc40ec41114d8fa', 'http://www.ufcstats.com/fight-details/36fcfd186a8d6df7', 'http://www.ufcstats.com/fight-details/b5ec939fd1edf048', 'http://www.ufcstats.com/fight-details/a0c82ba11a373008', 'http://www.ufcstats.com/fight-details/ad5ef8d8678ff97f', 'http://www.ufcstats.com/fight-details/c4eaeec8ac778b27', 'http://www.ufcstats.com/fight-details/dd88960598219eba', 'http://www.ufcstats.com/fight-details/98dd88d83f57c17a', 'http://www.ufcstats.com/fight-details/d42410f6f1039ab5', 'http://www.ufcstats.com/fight-details/1881b1e85cceee13', 'http://www.ufcstats.com/fight-details/35d0ef51fede263c', 'http://www.ufcstats.com/fight-details/30523303e8d85c25']\n"
     ]
    }
   ],
   "source": [
    "print (event[0])\n",
    "print (date)\n",
    "print (location)\n",
    "print (attendance)\n",
    "print (links)"
   ]
  },
  {
   "cell_type": "code",
   "execution_count": 61,
   "metadata": {},
   "outputs": [
    {
     "data": {
      "text/html": [
       "<div>\n",
       "<style scoped>\n",
       "    .dataframe tbody tr th:only-of-type {\n",
       "        vertical-align: middle;\n",
       "    }\n",
       "\n",
       "    .dataframe tbody tr th {\n",
       "        vertical-align: top;\n",
       "    }\n",
       "\n",
       "    .dataframe thead th {\n",
       "        text-align: right;\n",
       "    }\n",
       "</style>\n",
       "<table border=\"1\" class=\"dataframe\">\n",
       "  <thead>\n",
       "    <tr style=\"text-align: right;\">\n",
       "      <th></th>\n",
       "      <th>id</th>\n",
       "      <th>mes</th>\n",
       "      <th>dia</th>\n",
       "      <th>anio</th>\n",
       "      <th>attendance</th>\n",
       "      <th>city</th>\n",
       "      <th>state</th>\n",
       "      <th>country</th>\n",
       "      <th>fight</th>\n",
       "    </tr>\n",
       "  </thead>\n",
       "  <tbody>\n",
       "    <tr>\n",
       "      <th>0</th>\n",
       "      <td>UFC 245: Usman vs. Covington</td>\n",
       "      <td>December</td>\n",
       "      <td>14,</td>\n",
       "      <td>2019</td>\n",
       "      <td>16,811</td>\n",
       "      <td>Las</td>\n",
       "      <td>Vegas,</td>\n",
       "      <td>Nevada,</td>\n",
       "      <td>http://www.ufcstats.com/fight-details/82177c0f...</td>\n",
       "    </tr>\n",
       "    <tr>\n",
       "      <th>1</th>\n",
       "      <td>UFC 245: Usman vs. Covington</td>\n",
       "      <td>December</td>\n",
       "      <td>14,</td>\n",
       "      <td>2019</td>\n",
       "      <td>16,811</td>\n",
       "      <td>Las</td>\n",
       "      <td>Vegas,</td>\n",
       "      <td>Nevada,</td>\n",
       "      <td>http://www.ufcstats.com/fight-details/efc40ec4...</td>\n",
       "    </tr>\n",
       "    <tr>\n",
       "      <th>2</th>\n",
       "      <td>UFC 245: Usman vs. Covington</td>\n",
       "      <td>December</td>\n",
       "      <td>14,</td>\n",
       "      <td>2019</td>\n",
       "      <td>16,811</td>\n",
       "      <td>Las</td>\n",
       "      <td>Vegas,</td>\n",
       "      <td>Nevada,</td>\n",
       "      <td>http://www.ufcstats.com/fight-details/36fcfd18...</td>\n",
       "    </tr>\n",
       "    <tr>\n",
       "      <th>3</th>\n",
       "      <td>UFC 245: Usman vs. Covington</td>\n",
       "      <td>December</td>\n",
       "      <td>14,</td>\n",
       "      <td>2019</td>\n",
       "      <td>16,811</td>\n",
       "      <td>Las</td>\n",
       "      <td>Vegas,</td>\n",
       "      <td>Nevada,</td>\n",
       "      <td>http://www.ufcstats.com/fight-details/b5ec939f...</td>\n",
       "    </tr>\n",
       "    <tr>\n",
       "      <th>4</th>\n",
       "      <td>UFC 245: Usman vs. Covington</td>\n",
       "      <td>December</td>\n",
       "      <td>14,</td>\n",
       "      <td>2019</td>\n",
       "      <td>16,811</td>\n",
       "      <td>Las</td>\n",
       "      <td>Vegas,</td>\n",
       "      <td>Nevada,</td>\n",
       "      <td>http://www.ufcstats.com/fight-details/a0c82ba1...</td>\n",
       "    </tr>\n",
       "    <tr>\n",
       "      <th>5</th>\n",
       "      <td>UFC 245: Usman vs. Covington</td>\n",
       "      <td>December</td>\n",
       "      <td>14,</td>\n",
       "      <td>2019</td>\n",
       "      <td>16,811</td>\n",
       "      <td>Las</td>\n",
       "      <td>Vegas,</td>\n",
       "      <td>Nevada,</td>\n",
       "      <td>http://www.ufcstats.com/fight-details/ad5ef8d8...</td>\n",
       "    </tr>\n",
       "    <tr>\n",
       "      <th>6</th>\n",
       "      <td>UFC 245: Usman vs. Covington</td>\n",
       "      <td>December</td>\n",
       "      <td>14,</td>\n",
       "      <td>2019</td>\n",
       "      <td>16,811</td>\n",
       "      <td>Las</td>\n",
       "      <td>Vegas,</td>\n",
       "      <td>Nevada,</td>\n",
       "      <td>http://www.ufcstats.com/fight-details/c4eaeec8...</td>\n",
       "    </tr>\n",
       "    <tr>\n",
       "      <th>7</th>\n",
       "      <td>UFC 245: Usman vs. Covington</td>\n",
       "      <td>December</td>\n",
       "      <td>14,</td>\n",
       "      <td>2019</td>\n",
       "      <td>16,811</td>\n",
       "      <td>Las</td>\n",
       "      <td>Vegas,</td>\n",
       "      <td>Nevada,</td>\n",
       "      <td>http://www.ufcstats.com/fight-details/dd889605...</td>\n",
       "    </tr>\n",
       "    <tr>\n",
       "      <th>8</th>\n",
       "      <td>UFC 245: Usman vs. Covington</td>\n",
       "      <td>December</td>\n",
       "      <td>14,</td>\n",
       "      <td>2019</td>\n",
       "      <td>16,811</td>\n",
       "      <td>Las</td>\n",
       "      <td>Vegas,</td>\n",
       "      <td>Nevada,</td>\n",
       "      <td>http://www.ufcstats.com/fight-details/98dd88d8...</td>\n",
       "    </tr>\n",
       "    <tr>\n",
       "      <th>9</th>\n",
       "      <td>UFC 245: Usman vs. Covington</td>\n",
       "      <td>December</td>\n",
       "      <td>14,</td>\n",
       "      <td>2019</td>\n",
       "      <td>16,811</td>\n",
       "      <td>Las</td>\n",
       "      <td>Vegas,</td>\n",
       "      <td>Nevada,</td>\n",
       "      <td>http://www.ufcstats.com/fight-details/d42410f6...</td>\n",
       "    </tr>\n",
       "    <tr>\n",
       "      <th>10</th>\n",
       "      <td>UFC 245: Usman vs. Covington</td>\n",
       "      <td>December</td>\n",
       "      <td>14,</td>\n",
       "      <td>2019</td>\n",
       "      <td>16,811</td>\n",
       "      <td>Las</td>\n",
       "      <td>Vegas,</td>\n",
       "      <td>Nevada,</td>\n",
       "      <td>http://www.ufcstats.com/fight-details/1881b1e8...</td>\n",
       "    </tr>\n",
       "    <tr>\n",
       "      <th>11</th>\n",
       "      <td>UFC 245: Usman vs. Covington</td>\n",
       "      <td>December</td>\n",
       "      <td>14,</td>\n",
       "      <td>2019</td>\n",
       "      <td>16,811</td>\n",
       "      <td>Las</td>\n",
       "      <td>Vegas,</td>\n",
       "      <td>Nevada,</td>\n",
       "      <td>http://www.ufcstats.com/fight-details/35d0ef51...</td>\n",
       "    </tr>\n",
       "    <tr>\n",
       "      <th>12</th>\n",
       "      <td>UFC 245: Usman vs. Covington</td>\n",
       "      <td>December</td>\n",
       "      <td>14,</td>\n",
       "      <td>2019</td>\n",
       "      <td>16,811</td>\n",
       "      <td>Las</td>\n",
       "      <td>Vegas,</td>\n",
       "      <td>Nevada,</td>\n",
       "      <td>http://www.ufcstats.com/fight-details/30523303...</td>\n",
       "    </tr>\n",
       "  </tbody>\n",
       "</table>\n",
       "</div>"
      ],
      "text/plain": [
       "                              id       mes  dia  anio attendance city   state  \\\n",
       "0   UFC 245: Usman vs. Covington  December  14,  2019     16,811  Las  Vegas,   \n",
       "1   UFC 245: Usman vs. Covington  December  14,  2019     16,811  Las  Vegas,   \n",
       "2   UFC 245: Usman vs. Covington  December  14,  2019     16,811  Las  Vegas,   \n",
       "3   UFC 245: Usman vs. Covington  December  14,  2019     16,811  Las  Vegas,   \n",
       "4   UFC 245: Usman vs. Covington  December  14,  2019     16,811  Las  Vegas,   \n",
       "5   UFC 245: Usman vs. Covington  December  14,  2019     16,811  Las  Vegas,   \n",
       "6   UFC 245: Usman vs. Covington  December  14,  2019     16,811  Las  Vegas,   \n",
       "7   UFC 245: Usman vs. Covington  December  14,  2019     16,811  Las  Vegas,   \n",
       "8   UFC 245: Usman vs. Covington  December  14,  2019     16,811  Las  Vegas,   \n",
       "9   UFC 245: Usman vs. Covington  December  14,  2019     16,811  Las  Vegas,   \n",
       "10  UFC 245: Usman vs. Covington  December  14,  2019     16,811  Las  Vegas,   \n",
       "11  UFC 245: Usman vs. Covington  December  14,  2019     16,811  Las  Vegas,   \n",
       "12  UFC 245: Usman vs. Covington  December  14,  2019     16,811  Las  Vegas,   \n",
       "\n",
       "    country                                              fight  \n",
       "0   Nevada,  http://www.ufcstats.com/fight-details/82177c0f...  \n",
       "1   Nevada,  http://www.ufcstats.com/fight-details/efc40ec4...  \n",
       "2   Nevada,  http://www.ufcstats.com/fight-details/36fcfd18...  \n",
       "3   Nevada,  http://www.ufcstats.com/fight-details/b5ec939f...  \n",
       "4   Nevada,  http://www.ufcstats.com/fight-details/a0c82ba1...  \n",
       "5   Nevada,  http://www.ufcstats.com/fight-details/ad5ef8d8...  \n",
       "6   Nevada,  http://www.ufcstats.com/fight-details/c4eaeec8...  \n",
       "7   Nevada,  http://www.ufcstats.com/fight-details/dd889605...  \n",
       "8   Nevada,  http://www.ufcstats.com/fight-details/98dd88d8...  \n",
       "9   Nevada,  http://www.ufcstats.com/fight-details/d42410f6...  \n",
       "10  Nevada,  http://www.ufcstats.com/fight-details/1881b1e8...  \n",
       "11  Nevada,  http://www.ufcstats.com/fight-details/35d0ef51...  \n",
       "12  Nevada,  http://www.ufcstats.com/fight-details/30523303...  "
      ]
     },
     "execution_count": 61,
     "metadata": {},
     "output_type": "execute_result"
    }
   ],
   "source": [
    "df = pd.DataFrame(\n",
    "    {'id': event[0],\n",
    "     'mes': specs[0][1],\n",
    "     'dia': specs[0][2],\n",
    "     'anio': specs[0][3],\n",
    "     'attendance': specs[2][1],\n",
    "     'city': specs[1][1],\n",
    "     'state': specs[1][2],\n",
    "     'country': specs[1][3],\n",
    "     'fight': links,\n",
    "    })\n",
    "df\n"
   ]
  },
  {
   "cell_type": "code",
   "execution_count": 62,
   "metadata": {},
   "outputs": [],
   "source": [
    "df.to_csv(str(event[0])+'.csv',index = False, header=True)\n"
   ]
  },
  {
   "cell_type": "code",
   "execution_count": null,
   "metadata": {},
   "outputs": [],
   "source": []
  },
  {
   "cell_type": "code",
   "execution_count": null,
   "metadata": {},
   "outputs": [],
   "source": []
  }
 ],
 "metadata": {
  "kernelspec": {
   "display_name": "Python 3",
   "language": "python",
   "name": "python3"
  },
  "language_info": {
   "codemirror_mode": {
    "name": "ipython",
    "version": 3
   },
   "file_extension": ".py",
   "mimetype": "text/x-python",
   "name": "python",
   "nbconvert_exporter": "python",
   "pygments_lexer": "ipython3",
   "version": "3.7.0"
  }
 },
 "nbformat": 4,
 "nbformat_minor": 2
}
