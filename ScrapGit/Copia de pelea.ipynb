{
 "cells": [
  {
   "cell_type": "code",
   "execution_count": 425,
   "metadata": {},
   "outputs": [],
   "source": [
    "import requests\n",
    "from bs4 import BeautifulSoup\n",
    "import pandas as pd\n",
    "from pprint import pprint\n",
    "from lxml import html\n",
    "from lxml.html import fromstring\n",
    "import urllib.request\n",
    "from urllib.request import urlopen\n",
    "import random\n",
    "import re"
   ]
  },
  {
   "cell_type": "code",
   "execution_count": 522,
   "metadata": {},
   "outputs": [],
   "source": [
    "url = 'http://www.ufcstats.com/fight-details/b70dfff154b135bf'\n",
    "html = requests.get(url).content\n",
    "soup = BeautifulSoup(html)"
   ]
  },
  {
   "cell_type": "code",
   "execution_count": 523,
   "metadata": {},
   "outputs": [
    {
     "name": "stdout",
     "output_type": "stream",
     "text": [
      "UFC 249: Ferguson vs. Gaethje\n"
     ]
    }
   ],
   "source": [
    "event = soup.find_all('h2',{'class':'b-content__title'})[0]\n",
    "event = event.text.replace('\\n\\n','\\n').strip().split(\"\\n\")\n",
    "print (event[0])"
   ]
  },
  {
   "cell_type": "code",
   "execution_count": 524,
   "metadata": {},
   "outputs": [
    {
     "name": "stdout",
     "output_type": "stream",
     "text": [
      "['http://www.ufcstats.com/fighter-details/a67f5afa8d6a1b80', 'Ryan Spann ', 'W']\n",
      "['http://www.ufcstats.com/fighter-details/d156513a19acf856', 'Sam Alvey ', 'L']\n"
     ]
    }
   ],
   "source": [
    "details = soup.find_all('div',{'class':'b-fight-details__person'})\n",
    "fighters = []\n",
    "for detail in details:\n",
    "    stat = detail.find_all(('i',{'class':'b-fight-details__person-status b-fight-details__person-status_style_gray'})\n",
    "                           or('i',{'class':'b-fight-details__person-status b-fight-details__person-status_style_green'}))\n",
    "    for x in stat:\n",
    "        w = (x.text.replace('\\n\\n','\\n').strip().split(\"\\n\"))\n",
    "    #print (w)\n",
    "    links=[]\n",
    "    for a in detail.find_all('a', href=True):\n",
    "        links.append(a['href'])\n",
    "        links.append(a.text)\n",
    "    links.append(w[0])\n",
    "    fighters.append(links)\n",
    "print (fighters[0])\n",
    "print (fighters[1])"
   ]
  },
  {
   "cell_type": "code",
   "execution_count": 525,
   "metadata": {},
   "outputs": [
    {
     "name": "stdout",
     "output_type": "stream",
     "text": [
      "['Light Heavyweight Bout']\n"
     ]
    }
   ],
   "source": [
    "event_type = soup.find_all('div',{'class':'b-fight-details__fight-head'})[0]\n",
    "event_type = (event_type.text.replace('\\n\\n','\\n').strip().split(\"\\n\"))\n",
    "print (event_type)"
   ]
  },
  {
   "cell_type": "code",
   "execution_count": 526,
   "metadata": {},
   "outputs": [
    {
     "name": "stdout",
     "output_type": "stream",
     "text": [
      "['Method:', 'Decision - Split']\n",
      "['Round:', '3']\n",
      "['Time:', '5:00']\n",
      "['Time format:', '3 Rnd (5-5-5)']\n",
      "['Referee:', 'Dan Miragliotta']\n"
     ]
    }
   ],
   "source": [
    "details = soup.find_all('div',{'class':'b-fight-details__content'})\n",
    "#print (details)\n",
    "\n",
    "\n",
    "val = []\n",
    "for detail in details:\n",
    "    row = detail.find_all('p',{'class':'b-fight-details__text'})\n",
    "    for r in row:\n",
    "        d = r.find_all('i')\n",
    "        #print (d)\n",
    "        for a in d:\n",
    "            val.append((a.text.replace('\\n\\n','\\n').strip().split(\"\\n\")))\n",
    "\n",
    "method =  (val[0][0].replace('\\n\\n','\\n').strip().split(\"\\n\"),val[0][2].replace('\\n\\n','\\n').strip().split(\"\\n\"))\n",
    "Round = (val[3][0].replace('\\n\\n','\\n').strip().split(\"\\n\"),val[3][2].replace('\\n\\n','\\n').strip().split(\"\\n\"))\n",
    "time = (val[5][0].replace('\\n\\n','\\n').strip().split(\"\\n\"),val[5][3].replace('\\n\\n','\\n').strip().split(\"\\n\"))\n",
    "time_format = (val[7][0].replace('\\n\\n','\\n').strip().split(\"\\n\"),val[7][2].replace('\\n\\n','\\n').strip().split(\"\\n\"))\n",
    "referee = (val[9][0].replace('\\n\\n','\\n').strip().split(\"\\n\"),val[9][2].replace('\\n\\n','\\n').strip().split(\"\\n\"))\n",
    "\n",
    "\n",
    "method = [i[0] for i in method]\n",
    "Round = [i[0] for i in Round]\n",
    "time = [i[0] for i in time]\n",
    "time_format = [i[0] for i in time_format]\n",
    "referee = [i[0] for i in referee]\n",
    "\n",
    "print (method)\n",
    "print (Round)\n",
    "print (time)\n",
    "print (time_format)\n",
    "print (referee)"
   ]
  },
  {
   "cell_type": "code",
   "execution_count": 527,
   "metadata": {},
   "outputs": [
    {
     "data": {
      "text/html": [
       "<div>\n",
       "<style scoped>\n",
       "    .dataframe tbody tr th:only-of-type {\n",
       "        vertical-align: middle;\n",
       "    }\n",
       "\n",
       "    .dataframe tbody tr th {\n",
       "        vertical-align: top;\n",
       "    }\n",
       "\n",
       "    .dataframe thead th {\n",
       "        text-align: right;\n",
       "    }\n",
       "</style>\n",
       "<table border=\"1\" class=\"dataframe\">\n",
       "  <thead>\n",
       "    <tr style=\"text-align: right;\">\n",
       "      <th></th>\n",
       "      <th>event</th>\n",
       "      <th>peleador1</th>\n",
       "      <th>peleador2</th>\n",
       "      <th>title</th>\n",
       "      <th>method</th>\n",
       "      <th>rounds</th>\n",
       "      <th>time</th>\n",
       "      <th>time_format</th>\n",
       "      <th>referee</th>\n",
       "    </tr>\n",
       "  </thead>\n",
       "  <tbody>\n",
       "    <tr>\n",
       "      <th>0</th>\n",
       "      <td>UFC 249: Ferguson vs. Gaethje</td>\n",
       "      <td>http://www.ufcstats.com/fighter-details/a67f5a...</td>\n",
       "      <td>http://www.ufcstats.com/fighter-details/d15651...</td>\n",
       "      <td>Light Heavyweight Bout</td>\n",
       "      <td>Decision - Split</td>\n",
       "      <td>3</td>\n",
       "      <td>5:00</td>\n",
       "      <td>3 Rnd (5-5-5)</td>\n",
       "      <td>Dan Miragliotta</td>\n",
       "    </tr>\n",
       "    <tr>\n",
       "      <th>1</th>\n",
       "      <td>UFC 249: Ferguson vs. Gaethje</td>\n",
       "      <td>Ryan Spann</td>\n",
       "      <td>Sam Alvey</td>\n",
       "      <td>Light Heavyweight Bout</td>\n",
       "      <td>Decision - Split</td>\n",
       "      <td>3</td>\n",
       "      <td>5:00</td>\n",
       "      <td>3 Rnd (5-5-5)</td>\n",
       "      <td>Dan Miragliotta</td>\n",
       "    </tr>\n",
       "    <tr>\n",
       "      <th>2</th>\n",
       "      <td>UFC 249: Ferguson vs. Gaethje</td>\n",
       "      <td>W</td>\n",
       "      <td>L</td>\n",
       "      <td>Light Heavyweight Bout</td>\n",
       "      <td>Decision - Split</td>\n",
       "      <td>3</td>\n",
       "      <td>5:00</td>\n",
       "      <td>3 Rnd (5-5-5)</td>\n",
       "      <td>Dan Miragliotta</td>\n",
       "    </tr>\n",
       "  </tbody>\n",
       "</table>\n",
       "</div>"
      ],
      "text/plain": [
       "                           event  \\\n",
       "0  UFC 249: Ferguson vs. Gaethje   \n",
       "1  UFC 249: Ferguson vs. Gaethje   \n",
       "2  UFC 249: Ferguson vs. Gaethje   \n",
       "\n",
       "                                           peleador1  \\\n",
       "0  http://www.ufcstats.com/fighter-details/a67f5a...   \n",
       "1                                        Ryan Spann    \n",
       "2                                                  W   \n",
       "\n",
       "                                           peleador2                   title  \\\n",
       "0  http://www.ufcstats.com/fighter-details/d15651...  Light Heavyweight Bout   \n",
       "1                                         Sam Alvey   Light Heavyweight Bout   \n",
       "2                                                  L  Light Heavyweight Bout   \n",
       "\n",
       "             method rounds  time    time_format          referee  \n",
       "0  Decision - Split      3  5:00  3 Rnd (5-5-5)  Dan Miragliotta  \n",
       "1  Decision - Split      3  5:00  3 Rnd (5-5-5)  Dan Miragliotta  \n",
       "2  Decision - Split      3  5:00  3 Rnd (5-5-5)  Dan Miragliotta  "
      ]
     },
     "execution_count": 527,
     "metadata": {},
     "output_type": "execute_result"
    }
   ],
   "source": [
    "df_details = pd.DataFrame(\n",
    "    {'event': event[0],\n",
    "     'peleador1': fighters[0],\n",
    "     'peleador2': fighters[1],\n",
    "     'title': event_type[0],\n",
    "     'method': method[1],\n",
    "     'rounds': Round[1],\n",
    "     'time': time[1],\n",
    "     'time_format': time_format[1],\n",
    "     'referee': referee[1],\n",
    "    })\n",
    "df_details"
   ]
  },
  {
   "cell_type": "code",
   "execution_count": 528,
   "metadata": {
    "scrolled": true
   },
   "outputs": [],
   "source": [
    "#TOTALES\n",
    "table = soup.find_all('table',{'class':'b-fight-details__table js-fight-table'})[0]\n",
    "#event = event.text.replace('\\n\\n','\\n').strip().split(\"\\n\")\n",
    "#print (table)\n",
    "rows = table.find_all('td')\n",
    "rows = [row.text.strip().split(\"\\n\") for row in rows]\n",
    "#rows\n",
    "\n",
    "colnames = ['Peleador1','','','Peleador2']\n",
    "#print (colnames)\n",
    "data = rows[0:]\n",
    " \n",
    "df = pd.DataFrame(data,columns = colnames)\n",
    "df = df[['Peleador1', 'Peleador2']]\n",
    "#df"
   ]
  },
  {
   "cell_type": "code",
   "execution_count": 529,
   "metadata": {},
   "outputs": [],
   "source": [
    "rounds = int(len(df)/10)\n",
    "#print (rounds)\n",
    "if rounds == 5:\n",
    "    df_t_1 = df.iloc[:10]\n",
    "    df_t_1 = df_t_1.T\n",
    "    df_t_1.columns = ['r1_Fighter','r1_KD','r1_Sig.Strikes','r1_Sig.Strikes%','r1_TotalStrikes','r1_TD','r1_TD%','r1_SubATT','r1_PASS','r1_REV']\n",
    "    df_t_2 = df.iloc[10:20]\n",
    "    df_t_2 = df_t_2.T\n",
    "    df_t_2.columns = ['r2_Fighter','r2_KD','r2_Sig.Strikes','r2_Sig.Strikes%','r2_TotalStrikes','r2_TD','r2_TD%','r2_SubATT','r2_PASS','r2_REV']\n",
    "    df_t_3 = df.iloc[20:30]\n",
    "    df_t_3 = df_t_3.T\n",
    "    df_t_3.columns = ['r3_Fighter','r3_KD','r3_Sig.Strikes','r3_Sig.Strikes%','r3_TotalStrikes','r3_TD','r3_TD%','r3_SubATT','r3_PASS','r3_REV']\n",
    "    df_t_4 = df.iloc[30:40]\n",
    "    df_t_4 = df_t_4.T\n",
    "    df_t_4.columns = ['r4_Fighter','r4_KD','r4_Sig.Strikes','r4_Sig.Strikes%','r4_TotalStrikes','r4_TD','r4_TD%','r4_SubATT','r4_PASS','r4_REV']\n",
    "    df_t_5 = df.iloc[40:50]\n",
    "    df_t_5 = df_t_5.T\n",
    "    df_t_5.columns = ['r5_Fighter','r5_KD','r5_Sig.Strikes','r5_Sig.Strikes%','r5_TotalStrikes','r5_TD','r5_TD%','r5_SubATT','r5_PASS','r5_REV']\n",
    "elif rounds == 4:\n",
    "    df_t_1 = df.iloc[:10]\n",
    "    df_t_1 = df_t_1.T\n",
    "    df_t_1.columns = ['r1_Fighter','r1_KD','r1_Sig.Strikes','r1_Sig.Strikes%','r1_TotalStrikes','r1_TD','r1_TD%','r1_SubATT','r1_PASS','r1_REV']\n",
    "    df_t_2 = df.iloc[10:20]\n",
    "    df_t_2 = df_t_2.T\n",
    "    df_t_2.columns = ['r2_Fighter','r2_KD','r2_Sig.Strikes','r2_Sig.Strikes%','r2_TotalStrikes','r2_TD','r2_TD%','r2_SubATT','r2_PASS','r2_REV']\n",
    "    df_t_3 = df.iloc[20:30]\n",
    "    df_t_3 = df_t_3.T\n",
    "    df_t_3.columns = ['r3_Fighter','r3_KD','r3_Sig.Strikes','r3_Sig.Strikes%','r3_TotalStrikes','r3_TD','r3_TD%','r3_SubATT','r3_PASS','r3_REV']\n",
    "    df_t_4 = df.iloc[30:40]\n",
    "    df_t_4 = df_t_4.T\n",
    "    df_t_4.columns = ['r4_Fighter','r4_KD','r4_Sig.Strikes','r4_Sig.Strikes%','r4_TotalStrikes','r4_TD','r4_TD%','r4_SubATT','r4_PASS','r4_REV']\n",
    "elif rounds == 3:\n",
    "    df_t_1 = df.iloc[:10]\n",
    "    df_t_1 = df_t_1.T\n",
    "    df_t_1.columns = ['r1_Fighter','r1_KD','r1_Sig.Strikes','r1_Sig.Strikes%','r1_TotalStrikes','r1_TD','r1_TD%','r1_SubATT','r1_PASS','r1_REV']\n",
    "    df_t_2 = df.iloc[10:20]\n",
    "    df_t_2 = df_t_2.T\n",
    "    df_t_2.columns = ['r2_Fighter','r2_KD','r2_Sig.Strikes','r2_Sig.Strikes%','r2_TotalStrikes','r2_TD','r2_TD%','r2_SubATT','r2_PASS','r2_REV']\n",
    "    df_t_3 = df.iloc[20:30]\n",
    "    df_t_3 = df_t_3.T\n",
    "    df_t_3.columns = ['r3_Fighter','r3_KD','r3_Sig.Strikes','r3_Sig.Strikes%','r3_TotalStrikes','r3_TD','r3_TD%','r3_SubATT','r3_PASS','r3_REV']\n",
    "elif rounds == 2:\n",
    "    df_t_1 = df.iloc[:10]\n",
    "    df_t_1 = df_t_1.T\n",
    "    df_t_1.columns = ['r1_Fighter','r1_KD','r1_Sig.Strikes','r1_Sig.Strikes%','r1_TotalStrikes','r1_TD','r1_TD%','r1_SubATT','r1_PASS','r1_REV']\n",
    "    df_t_2 = df.iloc[10:20]\n",
    "    df_t_2 = df_t_2.T\n",
    "    df_t_2.columns = ['r2_Fighter','r2_KD','r2_Sig.Strikes','r2_Sig.Strikes%','r2_TotalStrikes','r2_TD','r2_TD%','r2_SubATT','r2_PASS','r2_REV'] \n",
    "elif rounds == 1:\n",
    "    df_t_1 = df.iloc[:10]\n",
    "    df_t_1 = df_t_1.T\n",
    "    df_t_1.columns = ['r1_Fighter','r1_KD','r1_Sig.Strikes','r1_Sig.Strikes%','r1_TotalStrikes','r1_TD','r1_TD%','r1_SubATT','r1_PASS','r1_REV']"
   ]
  },
  {
   "cell_type": "code",
   "execution_count": 530,
   "metadata": {},
   "outputs": [],
   "source": [
    "#SIGNIFICANT STRIKES\n",
    "table = soup.find_all('table',{'class':'b-fight-details__table js-fight-table'})[1]\n",
    "#event = event.text.replace('\\n\\n','\\n').strip().split(\"\\n\")\n",
    "#print (table)\n",
    "rows = table.find_all('td')\n",
    "rows = [row.text.strip().split(\"\\n\") for row in rows]\n",
    "#rows\n",
    "\n",
    "colnames = ['Peleador1','','','Peleador2']\n",
    "data = rows[0:]\n",
    "\n",
    "df = pd.DataFrame(data,columns = colnames)\n",
    "df = df[['Peleador1', 'Peleador2']]\n",
    "#df"
   ]
  },
  {
   "cell_type": "code",
   "execution_count": 531,
   "metadata": {},
   "outputs": [],
   "source": [
    "rounds = int(len(df)/9)\n",
    "if rounds == 5:\n",
    "    df_ss1 = df.iloc[:9]\n",
    "    df_ss1 = df_ss1.T\n",
    "    df_ss1.columns = ['r1_Fighter','r1_Sig.Strikes','r1_Sig.Strikes%','r1_Head','r1_Body','r1_Leg','r1_Distance','r1_Clinch','r1_Ground']\n",
    "    df_ss2 = df.iloc[9:18]\n",
    "    df_ss2 = df_ss2.T\n",
    "    df_ss2.columns = ['r2_Fighter','r2_Sig.Strikes','r2_Sig.Strikes%','r2_Head','r2_Body','r2_Leg','r2_Distance','r2_Clinch','r2_Ground']\n",
    "    df_ss3 = df.iloc[18:27]\n",
    "    df_ss3 = df_ss3.T\n",
    "    df_ss3.columns = ['r3_Fighter','r3_Sig.Strikes','r3_Sig.Strikes%','r3_Head','r3_Body','r3_Leg','r3_Distance','r3_Clinch','r3_Ground']\n",
    "    df_ss4 = df.iloc[27:36]\n",
    "    df_ss4 = df_ss4.T\n",
    "    df_ss4.columns = ['r4_Fighter','r4_Sig.Strikes','r4_Sig.Strikes%','r4_Head','r4_Body','r4_Leg','r4_Distance','r4_Clinch','r4_Ground']\n",
    "    df_ss5 = df.iloc[36:45]\n",
    "    df_ss5 = df_ss5.T\n",
    "    df_ss5.columns = ['r5_Fighter','r5_Sig.Strikes','r5_Sig.Strikes%','r5_Head','r5_Body','r5_Leg','r5_Distance','r5_Clinch','r5_Ground']\n",
    "elif rounds == 4:\n",
    "    df_ss1 = df.iloc[:9]\n",
    "    df_ss1 = df_ss1.T\n",
    "    df_ss1.columns = ['r1_Fighter','r1_Sig.Strikes','r1_Sig.Strikes%','r1_Head','r1_Body','r1_Leg','r1_Distance','r1_Clinch','r1_Ground']\n",
    "    df_ss2 = df.iloc[9:18]\n",
    "    df_ss2 = df_ss2.T\n",
    "    df_ss2.columns = ['r2_Fighter','r2_Sig.Strikes','r2_Sig.Strikes%','r2_Head','r2_Body','r2_Leg','r2_Distance','r2_Clinch','r2_Ground']\n",
    "    df_ss3 = df.iloc[18:27]\n",
    "    df_ss3 = df_ss3.T\n",
    "    df_ss3.columns = ['r3_Fighter','r3_Sig.Strikes','r3_Sig.Strikes%','r3_Head','r3_Body','r3_Leg','r3_Distance','r3_Clinch','r3_Ground']\n",
    "    df_ss4 = df.iloc[27:36]\n",
    "    df_ss4 = df_ss4.T\n",
    "    df_ss4.columns = ['r4_Fighter','r4_Sig.Strikes','r4_Sig.Strikes%','r4_Head','r4_Body','r4_Leg','r4_Distance','r4_Clinch','r4_Ground']\n",
    "elif rounds == 3:\n",
    "    df_ss1 = df.iloc[:9]\n",
    "    df_ss1 = df_ss1.T\n",
    "    df_ss1.columns = ['r1_Fighter','r1_Sig.Strikes','r1_Sig.Strikes%','r1_Head','r1_Body','r1_Leg','r1_Distance','r1_Clinch','r1_Ground']\n",
    "    df_ss2 = df.iloc[9:18]\n",
    "    df_ss2 = df_ss2.T\n",
    "    df_ss2.columns = ['r2_Fighter','r2_Sig.Strikes','r2_Sig.Strikes%','r2_Head','r2_Body','r2_Leg','r2_Distance','r2_Clinch','r2_Ground']\n",
    "    df_ss3 = df.iloc[18:27]\n",
    "    df_ss3 = df_ss3.T\n",
    "    df_ss3.columns = ['r3_Fighter','r3_Sig.Strikes','r3_Sig.Strikes%','r3_Head','r3_Body','r3_Leg','r3_Distance','r3_Clinch','r3_Ground']\n",
    "elif rounds == 2:\n",
    "    df_ss1 = df.iloc[:9]\n",
    "    df_ss1 = df_ss1.T\n",
    "    df_ss1.columns = ['r1_Fighter','r1_Sig.Strikes','r1_Sig.Strikes%','r1_Head','r1_Body','r1_Leg','r1_Distance','r1_Clinch','r1_Ground']\n",
    "    df_ss2 = df.iloc[9:18]\n",
    "    df_ss2 = df_ss2.T\n",
    "    df_ss2.columns = ['r2_Fighter','r2_Sig.Strikes','r2_Sig.Strikes%','r2_Head','r2_Body','r2_Leg','r2_Distance','r2_Clinch','r2_Ground']\n",
    "elif rounds == 1:\n",
    "    df_ss1 = df.iloc[:9]\n",
    "    df_ss1 = df_ss1.T\n",
    "    df_ss1.columns = ['r1_Fighter','r1_Sig.Strikes','r1_Sig.Strikes%','r1_Head','r1_Body','r1_Leg','r1_Distance','r1_Clinch','r1_Ground']"
   ]
  },
  {
   "cell_type": "code",
   "execution_count": 532,
   "metadata": {},
   "outputs": [],
   "source": [
    "#df = df_details.append(df_t_1, sort=False)\n",
    "if rounds == 5:\n",
    "    df = pd.concat([df_details, df_t_1,df_ss1,df_t_2,df_ss2,df_t_3,df_ss3,df_t_4,df_ss4,df_t_5,df_ss5], axis=1, sort=False)\n",
    "elif rounds == 4:\n",
    "    df = pd.concat([df_details, df_t_1,df_ss1,df_t_2,df_ss2,df_t_3,df_ss3,df_t_4,df_ss4], axis=1, sort=False)\n",
    "elif rounds == 3:\n",
    "    df = pd.concat([df_details, df_t_1,df_ss1,df_t_2,df_ss2,df_t_3,df_ss3], axis=1, sort=False)\n",
    "elif rounds == 2:\n",
    "    df = pd.concat([df_details, df_t_1,df_ss1,df_t_2,df_ss2], axis=1, sort=False)\n",
    "elif rounds == 1:\n",
    "    df = pd.concat([df_details, df_t_1,df_ss1], axis=1, sort=False)"
   ]
  },
  {
   "cell_type": "code",
   "execution_count": 533,
   "metadata": {},
   "outputs": [],
   "source": [
    "df.to_csv(str(event[0])+' '+str(fighters[0][1])+'vs '+str(fighters[1][1])+'.csv',index = False, header=True)\n"
   ]
  },
  {
   "cell_type": "code",
   "execution_count": null,
   "metadata": {},
   "outputs": [],
   "source": []
  },
  {
   "cell_type": "code",
   "execution_count": null,
   "metadata": {},
   "outputs": [],
   "source": []
  },
  {
   "cell_type": "code",
   "execution_count": null,
   "metadata": {},
   "outputs": [],
   "source": []
  }
 ],
 "metadata": {
  "kernelspec": {
   "display_name": "Python 3",
   "language": "python",
   "name": "python3"
  },
  "language_info": {
   "codemirror_mode": {
    "name": "ipython",
    "version": 3
   },
   "file_extension": ".py",
   "mimetype": "text/x-python",
   "name": "python",
   "nbconvert_exporter": "python",
   "pygments_lexer": "ipython3",
   "version": "3.7.0"
  }
 },
 "nbformat": 4,
 "nbformat_minor": 2
}
