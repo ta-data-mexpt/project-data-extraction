{
 "cells": [
  {
   "cell_type": "code",
   "execution_count": 12,
   "metadata": {},
   "outputs": [
    {
     "output_type": "stream",
     "name": "stdout",
     "text": "SMbb0d890d52fe4750bbd397c885f652cc\n"
    }
   ],
   "source": [
    "#Alright, second part. Now let's try our best to ask the Internacional Space Station for the number of people inside it.\n",
    "\n",
    "#1. First, we install twilio (this is software which will lwt anybody make and receive phone calls, send and receive text messages, and perform other communication functions using web service APIs.)\n",
    "\n",
    "#2. Now let's import the required modules. \n",
    "from twilio.rest import Client\n",
    "import requests\n",
    "\n",
    "#3. We are now passing our credentials to the thing, for later use on our SMSs. \n",
    "account_sid = 'AC7627a827b1e46eab8cf4d28312cb121c'\n",
    "auth_token = '6c9d67718dbbd123120efc54717a41c7'\n",
    "\n",
    "#4. Let's set up our client and make the request. I see this as \"Making the Soup\" for Webscraping. \n",
    "client = Client(account_sid, auth_token)\n",
    "r = requests.get('http://api.open-notify.org/astros.json')\n",
    "people = r.json()\n",
    "\n",
    "number_iss = people['number']\n",
    "\n",
    "#5. The Message variable will serve as the body of our SMS text. \n",
    "Message = 'Hi Fun fact, the number of people in space right now is ' + str(number_iss)\n",
    "\n",
    "#formulate the message that will be sent\n",
    "message = client.messages.create(\n",
    "    to = \"+529511353282\",\n",
    "    from_ = \"+12058758520\",\n",
    "    body = Message)\n",
    "\n",
    "print(message.sid)"
   ]
  },
  {
   "cell_type": "code",
   "execution_count": null,
   "metadata": {},
   "outputs": [],
   "source": [
    "#Message Received!\n",
    "\n",
    "#I'm looking forward to merging the two abilities we learned tonight to make Beat's Dashboards more manageable, automatic, and robust. "
   ]
  }
 ],
 "metadata": {
  "language_info": {
   "codemirror_mode": {
    "name": "ipython",
    "version": 3
   },
   "file_extension": ".py",
   "mimetype": "text/x-python",
   "name": "python",
   "nbconvert_exporter": "python",
   "pygments_lexer": "ipython3",
   "version": "3.7.6-final"
  },
  "orig_nbformat": 2,
  "kernelspec": {
   "name": "python37664bitanaconda3virtualenv0697af1ee67a458e9253591065064715",
   "display_name": "Python 3.7.6 64-bit ('anaconda3': virtualenv)"
  }
 },
 "nbformat": 4,
 "nbformat_minor": 2
}