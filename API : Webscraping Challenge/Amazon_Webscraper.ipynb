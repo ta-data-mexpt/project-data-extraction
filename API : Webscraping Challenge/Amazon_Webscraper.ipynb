{
 "cells": [
  {
   "cell_type": "code",
   "execution_count": 46,
   "metadata": {
    "tags": [
     "outputPrepend"
    ]
   },
   "outputs": [
    {
     "output_type": "stream",
     "name": "stdout",
     "text": "Automate the Boring Stuff with Python, 2nd Edition\n\n\n$589.00\n\n\n589.0\n"
    }
   ],
   "source": [
    "#Jesus Christ it's 11pm one night before due date, let's start this thing and let's make it quick. \n",
    "\n",
    "#I'd love to buy this book, but I'd like to wait for it to be cheaper. So I will attempt, with the help of THE INTERNET, to make a webscraper that will send an email to my account when this book changes price (because we all know this thing is not gonna get cheaper than it's current price).\n",
    "\n",
    "#First, let's import proper requirements to start scraping Amazon.\n",
    "\n",
    "import requests\n",
    "from bs4 import BeautifulSoup\n",
    "import smtplib\n",
    "\n",
    "#This is the direct URL to the product I'd like to buy. \n",
    "url = 'https://www.amazon.com.mx/Automate-Boring-Stuff-Python-2nd/dp/1593279922/ref=sr_1_1?__mk_es_MX=%C3%85M%C3%85%C5%BD%C3%95%C3%91&crid=2MPDDMHU123TA&keywords=automate+the+boring+stuff+with+python&qid=1589347046&sprefix=automate+the+bori%2Caps%2C1242&sr=8-1'\n",
    "\n",
    "#These are the ways I will map the website to Make the Soup in the next step. \n",
    "headers = {\"User-Agent\": 'Mozilla/5.0 (Windows NT 10.0; Win64; x64) AppleWebKit/537.36 (KHTML, like Gecko) Chrome/81.0.4044.138 Safari/537.36'}\n",
    "page = requests.get(url, headers = headers)\n",
    "\n",
    "#Now let's make the Soup and start finding the stuff we'd like to actually be aware of. \n",
    "soup = BeautifulSoup(page.content, 'html.parser')\n",
    "\n",
    "#Let's find the Title of the Book. \n",
    "title = soup.find(id = 'productTitle').get_text().strip()\n",
    "\n",
    "print(title)\n",
    "print('\\n')\n",
    "\n",
    "#Same with the current price. \n",
    "price = soup.find('span', {'class': 'a-size-base a-color-price a-color-price'}).get_text()\n",
    "print(price.strip())\n",
    "print('\\n')\n",
    "\n",
    "#But wait! We will only need the float part of the written price of this thing, so let's convert our variable price from a string, into a float which will trim the $ sign. \n",
    "converted_price = float(price.strip().replace('$',''))\n",
    "print(converted_price)\n"
   ]
  },
  {
   "cell_type": "code",
   "execution_count": 52,
   "metadata": {},
   "outputs": [
    {
     "output_type": "stream",
     "name": "stdout",
     "text": "Hey! email has been sent wuwu\n"
    }
   ],
   "source": [
    "#Well that was easy... Now for the cool part, let's take these findings and define a proper Function with them. \n",
    "#This Function will then send an email to a chosen account of mine and presto! I will have a really subpar price scanner which I can use for this book :) \n",
    "\n",
    "def check_price():\n",
    "    page = requests.get(url, headers = headers)\n",
    "    soup = BeautifulSoup(page.content, 'html.parser')\n",
    "    title = soup.find(id = 'productTitle').get_text().strip()\n",
    "    price = soup.find('span', {'class': 'a-size-base a-color-price a-color-price'}).get_text()\n",
    "    converted_price = float(price.strip().replace('$',''))\n",
    "\n",
    "#2. For class purposes, I will not really wait until this price goes lower or higher than it already is, so, let's try sending an email if the price is different than 0. \n",
    "    if (converted_price != 0):\n",
    "        send_mail()\n",
    "\n",
    "#1. I first need to define a Function wich will allow me to send an email.\n",
    "    #A very nice caviat of this is that we will need to import a new thing that is called smtplib, which is an email protocol (???).\n",
    "    #Connection will be made by an ehlo: \"a command sent by an email server to identify itself when connecting to another emai\".\n",
    "    #Encryption will be ensured by the command starttls.\n",
    "def send_mail():\n",
    "    server = smtplib.SMTP('smtp.gmail.com', 587)\n",
    "    server.ehlo()\n",
    "    server.starttls()\n",
    "    server.ehlo()\n",
    "    #For super obvious reasons I will use a burner account. I created this usind the author's name of another great book: Range, everybody should read it. \n",
    "    server.login('epsteinsportsgene@gmail.com', 'wakawaka!\"')\n",
    "    #We write the subject and then the body in it. \n",
    "    subject = 'Price Changed!'\n",
    "    body = 'Quick, check the Amazon link! https://www.amazon.com.mx/Automate-Boring-Stuff-Python-2nd/dp/1593279922/ref=sr_1_1?__mk_es_MX=%C3%85M%C3%85%C5%BD%C3%95%C3%91&crid=2MPDDMHU123TA&keywords=automate+the+boring+stuff+with+python&qid=1589347046&sprefix=automate+the+bori%2Caps%2C1242&sr=8-1'\n",
    "    #Now this is how the email will look like.\n",
    "    msg = f\"Subject: {subject}\\n\\n{body}\"\n",
    "    #The next line will command the actual email. \n",
    "    server.sendmail('epsteinsportsgene@gmail.com', 'alejandropt@me.com', msg)\n",
    "    #Oh and let's remind our function to remind myseld that the email has been sent. \n",
    "    print('Hey! email has been sent wuwu')\n",
    "    #Finally, let's quit the server (???).\n",
    "    server.quit()\n",
    "\n",
    "check_price() "
   ]
  },
  {
   "cell_type": "code",
   "execution_count": 53,
   "metadata": {},
   "outputs": [],
   "source": [
    "#It worked! it's 1:48am and the thing worked! \n",
    "\n",
    "#I have the email and this thing is absolutely a charm. Now it would be a really nice time to start shadowing my code into timing itself, using different User-Agents, and even proxies, but for now I am going to sleep :)"
   ]
  },
  {
   "cell_type": "code",
   "execution_count": null,
   "metadata": {},
   "outputs": [],
   "source": []
  }
 ],
 "metadata": {
  "language_info": {
   "codemirror_mode": {
    "name": "ipython",
    "version": 3
   },
   "file_extension": ".py",
   "mimetype": "text/x-python",
   "name": "python",
   "nbconvert_exporter": "python",
   "pygments_lexer": "ipython3",
   "version": "3.7.6-final"
  },
  "orig_nbformat": 2,
  "kernelspec": {
   "name": "python37664bitanaconda3virtualenv0697af1ee67a458e9253591065064715",
   "display_name": "Python 3.7.6 64-bit ('anaconda3': virtualenv)"
  }
 },
 "nbformat": 4,
 "nbformat_minor": 2
}