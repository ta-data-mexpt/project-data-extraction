{
 "cells": [
  {
   "cell_type": "markdown",
   "metadata": {},
   "source": [
    "# Creación del código que me extrae mi información de forma diaria"
   ]
  },
  {
   "cell_type": "markdown",
   "metadata": {},
   "source": [
    "## Importamos librerías"
   ]
  },
  {
   "cell_type": "code",
   "execution_count": null,
   "metadata": {},
   "outputs": [],
   "source": [
    "import json\n",
    "import requests\n",
    "import time\n",
    "import pandas as pd\n",
    "import urllib.request\n",
    "from pandas.io.json import json_normalize\n",
    "from datetime import datetime"
   ]
  },
  {
   "cell_type": "markdown",
   "metadata": {},
   "source": [
    "Consultamos con ayuda de postman cuantas peticiones se podían realizar con esta api\n",
    "obtuvimos qe podemos hacer 10 requests pero no quedó claro cada cuánto tiempo"
   ]
  },
  {
   "cell_type": "code",
   "execution_count": null,
   "metadata": {},
   "outputs": [],
   "source": [
    "#Consultar el numero de peticiones a la api\n",
    "#solicitudes = requests.get('https://api.covid19api.com')\n",
    "#solicitudes\n",
    "#solicitudes.json()\n",
    "#solicitudes.headers.keys()\n",
    "#solicitudes.headers['date']\n",
    "#unix = solicitudes.headers['X-Ratelimit-Reset']\n",
    "#unix\n",
    "#time.ctime(float(unix))\n",
    "#Dentro de postman, nos arroja que el numero de peticiones es 10, X-Ratelimit-Limit\n",
    "#el tiempo de reset me parece es cada minuto, al consultar el tiempo\n",
    "#sale por ejemplo hora actual 06:06 y de reset 06:05, preguntar"
   ]
  },
  {
   "cell_type": "markdown",
   "metadata": {},
   "source": [
    "## Código que hace el requests, lo transforma en json y lo guarda como cvs poniendo como nombre de archivo el día que se corrió el código"
   ]
  },
  {
   "cell_type": "code",
   "execution_count": 3,
   "metadata": {},
   "outputs": [],
   "source": [
    "paises = 'https://api.covid19api.com/summary'\n",
    "resultado = requests.get(paises)\n",
    "#resultado\n",
    "resultado_1 = resultado.json()\n",
    "resultado_1\n",
    "country = resultado_1['Countries']\n",
    "country\n",
    "df = pd.DataFrame(country).iloc[:,:-1]\n",
    "df\n",
    "df.to_csv(f\"/Users/user/Documents/IRONHACK/PROYECTO_2/DATACOVID_{datetime.today().isoformat()}.csv\",index=False)\n",
    "#A PARTIR DE MAÑANA 16 DE NOV, DIARIO CORRERÉ ESTE CÓDIGO PARA DESCARGAR LOS CASOS DIARIOS\n",
    "#estos se vacían al googlesheet (hasta saber como hacerlo con un robot) y se van acumulando\n",
    "#la hora de correrlo es a las 11pm\n",
    "#me trasnforma el dataframe en un archivo csv, donde el nombre del archivo es la fecha en que corrió\n"
   ]
  },
  {
   "cell_type": "code",
   "execution_count": null,
   "metadata": {},
   "outputs": [],
   "source": []
  }
 ],
 "metadata": {
  "kernelspec": {
   "display_name": "Python 3",
   "language": "python",
   "name": "python3"
  },
  "language_info": {
   "codemirror_mode": {
    "name": "ipython",
    "version": 3
   },
   "file_extension": ".py",
   "mimetype": "text/x-python",
   "name": "python",
   "nbconvert_exporter": "python",
   "pygments_lexer": "ipython3",
   "version": "3.8.5"
  }
 },
 "nbformat": 4,
 "nbformat_minor": 4
}
