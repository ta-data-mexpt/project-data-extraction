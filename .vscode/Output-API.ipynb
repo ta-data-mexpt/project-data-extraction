{
 "cells": [
  {
   "cell_type": "code",
   "execution_count": 1,
   "metadata": {},
   "outputs": [
    {
     "name": "stdout",
     "output_type": "stream",
     "text": [
      "{\"results\":[{\"id\":1079930,\"title\":\"Crock Pot Pasta Bolognese Sauce\",\"image\":\"https://spoonacular.com/recipeImages/1079930-312x231.jpg\",\"imageType\":\"jpg\",\"nutrition\":{\"nutrients\":[{\"name\":\"Calories\",\"amount\":174.105,\"unit\":\"kcal\"},{\"name\":\"Protein\",\"amount\":17.4148,\"unit\":\"g\"},{\"name\":\"Fat\",\"amount\":5.52116,\"unit\":\"g\"},{\"name\":\"Carbohydrates\",\"amount\":15.8612,\"unit\":\"g\"},{\"name\":\"Alcohol\",\"amount\":0.0,\"unit\":\"g\"},{\"name\":\"Caffeine\",\"amount\":0.0,\"unit\":\"mg\"},{\"name\":\"Copper\",\"amount\":0.416957,\"unit\":\"mg\"},{\"name\":\"Calcium\",\"amount\":94.1747,\"unit\":\"mg\"},{\"name\":\"Cholesterol\",\"amount\":41.8467,\"unit\":\"mg\"},{\"name\":\"Choline\",\"amount\":0.0,\"unit\":\"mg\"},{\"name\":\"Fluoride\",\"amount\":0.0,\"unit\":\"mg\"},{\"name\":\"Saturated Fat\",\"amount\":2.30045,\"unit\":\"g\"},{\"name\":\"Vitamin A\",\"amount\":548.522,\"unit\":\"IU\"},{\"name\":\"Vitamin C\",\"amount\":16.3089,\"unit\":\"mg\"},{\"name\":\"Vitamin D\",\"amount\":0.189065,\"unit\":\"µg\"},{\"name\":\"Vitamin E\",\"amount\":2.47918,\"unit\":\"mg\"},{\"name\":\"Vitamin K\",\"amount\":11.8465,\"unit\":\"µg\"},{\"name\":\"Vitamin B1\",\"amount\":0.168313,\"unit\":\"mg\"},{\"name\":\"Vitamin B2\",\"amount\":0.348535,\"unit\":\"mg\"},{\"name\":\"Vitamin B3\",\"amount\":6.31141,\"unit\":\"mg\"},{\"name\":\"Vitamin B5\",\"amount\":1.37698,\"unit\":\"mg\"},{\"name\":\"Vitamin B6\",\"amount\":0.528989,\"unit\":\"mg\"},{\"name\":\"Vitamin B12\",\"amount\":1.34096,\"unit\":\"µg\"},{\"name\":\"Fiber\",\"amount\":3.85943,\"unit\":\"g\"},{\"name\":\"Folate\",\"amount\":33.3797,\"unit\":\"µg\"},{\"name\":\"Folic Acid\",\"amount\":0.0,\"unit\":\"µg\"},{\"name\":\"Iron\",\"amount\":3.86776,\"unit\":\"mg\"},{\"name\":\"Magnesium\",\"amount\":52.9681,\"unit\":\"mg\"},{\"name\":\"Manganese\",\"amount\":0.379435,\"unit\":\"mg\"},{\"name\":\"Phosphorus\",\"amount\":223.854,\"unit\":\"mg\"},{\"name\":\"Potassium\",\"amount\":886.565,\"unit\":\"mg\"},{\"name\":\"Selenium\",\"amount\":14.0024,\"unit\":\"µg\"},{\"name\":\"Sodium\",\"amount\":815.114,\"unit\":\"mg\"},{\"name\":\"Sugar\",\"amount\":9.63646,\"unit\":\"g\"},{\"name\":\"Zinc\",\"amount\":3.69966,\"unit\":\"mg\"}]}},{\"id\":474589,\"title\":\"Crockpot Turkey Bolognese Pasta Sauce\",\"image\":\"https://spoonacular.com/recipeImages/474589-312x231.jpg\",\"imageType\":\"jpg\",\"nutrition\":{\"nutrients\":[{\"name\":\"Calories\",\"amount\":181.783,\"unit\":\"kcal\"},{\"name\":\"Protein\",\"amount\":19.2014,\"unit\":\"g\"},{\"name\":\"Fat\",\"amount\":6.40275,\"unit\":\"g\"},{\"name\":\"Carbohydrates\",\"amount\":9.30841,\"unit\":\"g\"},{\"name\":\"Alcohol\",\"amount\":2.12,\"unit\":\"g\"},{\"name\":\"Caffeine\",\"amount\":0.0,\"unit\":\"mg\"},{\"name\":\"Copper\",\"amount\":0.122412,\"unit\":\"mg\"},{\"name\":\"Calcium\",\"amount\":34.0303,\"unit\":\"mg\"},{\"name\":\"Cholesterol\",\"amount\":41.5793,\"unit\":\"mg\"},{\"name\":\"Choline\",\"amount\":0.0,\"unit\":\"mg\"},{\"name\":\"Fluoride\",\"amount\":0.0,\"unit\":\"mg\"},{\"name\":\"Saturated Fat\",\"amount\":1.06311,\"unit\":\"g\"},{\"name\":\"Vitamin A\",\"amount\":4103.7,\"unit\":\"IU\"},{\"name\":\"Vitamin C\",\"amount\":14.7439,\"unit\":\"mg\"},{\"name\":\"Vitamin D\",\"amount\":0.302395,\"unit\":\"µg\"},{\"name\":\"Vitamin E\",\"amount\":1.29129,\"unit\":\"mg\"},{\"name\":\"Vitamin K\",\"amount\":19.0187,\"unit\":\"µg\"},{\"name\":\"Vitamin B1\",\"amount\":0.109199,\"unit\":\"mg\"},{\"name\":\"Vitamin B2\",\"amount\":0.124782,\"unit\":\"mg\"},{\"name\":\"Vitamin B3\",\"amount\":8.09771,\"unit\":\"mg\"},{\"name\":\"Vitamin B5\",\"amount\":0.849513,\"unit\":\"mg\"},{\"name\":\"Vitamin B6\",\"amount\":0.807034,\"unit\":\"mg\"},{\"name\":\"Vitamin B12\",\"amount\":0.385553,\"unit\":\"µg\"},{\"name\":\"Fiber\",\"amount\":2.21105,\"unit\":\"g\"},{\"name\":\"Folate\",\"amount\":29.9296,\"unit\":\"µg\"},{\"name\":\"Folic Acid\",\"amount\":0.0,\"unit\":\"µg\"},{\"name\":\"Iron\",\"amount\":1.30558,\"unit\":\"mg\"},{\"name\":\"Magnesium\",\"amount\":40.0536,\"unit\":\"mg\"},{\"name\":\"Manganese\",\"amount\":0.236789,\"unit\":\"mg\"},{\"name\":\"Phosphorus\",\"amount\":214.603,\"unit\":\"mg\"},{\"name\":\"Potassium\",\"amount\":555.539,\"unit\":\"mg\"},{\"name\":\"Selenium\",\"amount\":17.1099,\"unit\":\"µg\"},{\"name\":\"Sodium\",\"amount\":253.832,\"unit\":\"mg\"},{\"name\":\"Sugar\",\"amount\":4.64207,\"unit\":\"g\"},{\"name\":\"Zinc\",\"amount\":1.62917,\"unit\":\"mg\"}]}},{\"id\":543261,\"title\":\"Crock Pot Meaty Pasta Sauce\",\"image\":\"https://spoonacular.com/recipeImages/543261-312x231.jpg\",\"imageType\":\"jpg\",\"nutrition\":{\"nutrients\":[{\"name\":\"Calories\",\"amount\":208.805,\"unit\":\"kcal\"},{\"name\":\"Protein\",\"amount\":19.6148,\"unit\":\"g\"},{\"name\":\"Fat\",\"amount\":6.76064,\"unit\":\"g\"},{\"name\":\"Carbohydrates\",\"amount\":19.26,\"unit\":\"g\"},{\"name\":\"Alcohol\",\"amount\":0.0,\"unit\":\"g\"},{\"name\":\"Caffeine\",\"amount\":0.0,\"unit\":\"mg\"},{\"name\":\"Copper\",\"amount\":0.401781,\"unit\":\"mg\"},{\"name\":\"Calcium\",\"amount\":77.54,\"unit\":\"mg\"},{\"name\":\"Cholesterol\",\"amount\":46.8712,\"unit\":\"mg\"},{\"name\":\"Choline\",\"amount\":0.0,\"unit\":\"mg\"},{\"name\":\"Fluoride\",\"amount\":0.0,\"unit\":\"mg\"},{\"name\":\"Saturated Fat\",\"amount\":2.13524,\"unit\":\"g\"},{\"name\":\"Vitamin A\",\"amount\":5759.51,\"unit\":\"IU\"},{\"name\":\"Vitamin C\",\"amount\":54.878,\"unit\":\"mg\"},{\"name\":\"Vitamin D\",\"amount\":0.0755987,\"unit\":\"µg\"},{\"name\":\"Vitamin E\",\"amount\":3.65288,\"unit\":\"mg\"},{\"name\":\"Vitamin K\",\"amount\":29.3392,\"unit\":\"µg\"},{\"name\":\"Vitamin B1\",\"amount\":0.140737,\"unit\":\"mg\"},{\"name\":\"Vitamin B2\",\"amount\":0.255733,\"unit\":\"mg\"},{\"name\":\"Vitamin B3\",\"amount\":6.65016,\"unit\":\"mg\"},{\"name\":\"Vitamin B5\",\"amount\":1.08767,\"unit\":\"mg\"},{\"name\":\"Vitamin B6\",\"amount\":0.640514,\"unit\":\"mg\"},{\"name\":\"Vitamin B12\",\"amount\":1.69341,\"unit\":\"µg\"},{\"name\":\"Fiber\",\"amount\":5.28673,\"unit\":\"g\"},{\"name\":\"Folate\",\"amount\":53.1491,\"unit\":\"µg\"},{\"name\":\"Folic Acid\",\"amount\":0.0,\"unit\":\"µg\"},{\"name\":\"Iron\",\"amount\":4.44614,\"unit\":\"mg\"},{\"name\":\"Magnesium\",\"amount\":62.2171,\"unit\":\"mg\"},{\"name\":\"Manganese\",\"amount\":0.466389,\"unit\":\"mg\"},{\"name\":\"Phosphorus\",\"amount\":237.782,\"unit\":\"mg\"},{\"name\":\"Potassium\",\"amount\":1107.73,\"unit\":\"mg\"},{\"name\":\"Selenium\",\"amount\":14.3104,\"unit\":\"µg\"},{\"name\":\"Sodium\",\"amount\":912.989,\"unit\":\"mg\"},{\"name\":\"Sugar\",\"amount\":10.2762,\"unit\":\"g\"},{\"name\":\"Zinc\",\"amount\":4.57364,\"unit\":\"mg\"}]}}],\"offset\":0,\"number\":10,\"totalResults\":3}\n"
     ]
    }
   ],
   "source": [
    "import http.client\n",
    "\n",
    "conn = http.client.HTTPSConnection(\"spoonacular-recipe-food-nutrition-v1.p.rapidapi.com\")\n",
    "\n",
    "headers = {\n",
    "    'X-RapidAPI-Key': \"2fd8afb786msh851c73f856e5585p19bd24jsn57cc8a805507\",\n",
    "    'X-RapidAPI-Host': \"spoonacular-recipe-food-nutrition-v1.p.rapidapi.com\"\n",
    "    }\n",
    "\n",
    "conn.request(\"GET\", \"/recipes/complexSearch?query=pasta&cuisine=italian&excludeCuisine=greek&diet=vegetarian&intolerances=gluten&equipment=pan&includeIngredients=tomato%2Ccheese&excludeIngredients=eggs&type=main%20course&instructionsRequired=true&fillIngredients=false&addRecipeInformation=false&titleMatch=Crock%20Pot&maxReadyTime=20&ignorePantry=true&sort=calories&sortDirection=asc&minCarbs=10&maxCarbs=100&minProtein=10&maxProtein=100&minCalories=50&maxCalories=800&minFat=10&maxFat=100&minAlcohol=0&maxAlcohol=100&minCaffeine=0&maxCaffeine=100&minCopper=0&maxCopper=100&minCalcium=0&maxCalcium=100&minCholine=0&maxCholine=100&minCholesterol=0&maxCholesterol=100&minFluoride=0&maxFluoride=100&minSaturatedFat=0&maxSaturatedFat=100&minVitaminA=0&maxVitaminA=100&minVitaminC=0&maxVitaminC=100&minVitaminD=0&maxVitaminD=100&minVitaminE=0&maxVitaminE=100&minVitaminK=0&maxVitaminK=100&minVitaminB1=0&maxVitaminB1=100&minVitaminB2=0&maxVitaminB2=100&minVitaminB5=0&maxVitaminB5=100&minVitaminB3=0&maxVitaminB3=100&minVitaminB6=0&maxVitaminB6=100&minVitaminB12=0&maxVitaminB12=100&minFiber=0&maxFiber=100&minFolate=0&maxFolate=100&minFolicAcid=0&maxFolicAcid=100&minIodine=0&maxIodine=100&minIron=0&maxIron=100&minMagnesium=0&maxMagnesium=100&minManganese=0&maxManganese=100&minPhosphorus=0&maxPhosphorus=100&minPotassium=0&maxPotassium=100&minSelenium=0&maxSelenium=100&minSodium=0&maxSodium=100&minSugar=0&maxSugar=100&minZinc=0&maxZinc=100&offset=0&number=10&limitLicense=false&ranking=2\", headers=headers)\n",
    "\n",
    "res = conn.getresponse()\n",
    "data = res.read()\n",
    "\n",
    "print(data.decode(\"utf-8\"))"
   ]
  },
  {
   "cell_type": "code",
   "execution_count": 2,
   "metadata": {},
   "outputs": [],
   "source": [
    "with open('Output-API.txt', 'w') as f:\n",
    "    f.write(data.decode(\"utf-8\"))\n",
    "    "
   ]
  },
  {
   "cell_type": "code",
   "execution_count": 8,
   "metadata": {},
   "outputs": [],
   "source": [
    "import os\n",
    "import sys\n",
    "import json\n",
    "import requests\n",
    "import urllib.request\n",
    "import time\n",
    "from bs4 import BeautifulSoup\n",
    "\n",
    "cwd = os.getcwd()\n",
    "\n",
    "filename = os.path.basename('Output-API.ipynb')\n",
    "\n",
    "filename = os.path.splitext(filename)[0]\n",
    "\n",
    "path = cwd\n",
    "path = os.path.join(path, filename + '.md')\n",
    "\n",
    "with open(path, 'w') as f:\n",
    "    f.write('```python\\n')\n",
    "    f.write(open(filename + '.ipynb').read())\n",
    "    f.write('```\\n')"
   ]
  }
 ],
 "metadata": {
  "kernelspec": {
   "display_name": "Python 3",
   "language": "python",
   "name": "python3"
  },
  "language_info": {
   "codemirror_mode": {
    "name": "ipython",
    "version": 3
   },
   "file_extension": ".py",
   "mimetype": "text/x-python",
   "name": "python",
   "nbconvert_exporter": "python",
   "pygments_lexer": "ipython3",
   "version": "3.10.7"
  },
  "orig_nbformat": 4,
  "vscode": {
   "interpreter": {
    "hash": "173ae74ecd759d33659dc89cc0ace91dba90ddaa088b7a848a7f37d845ddcc5d"
   }
  }
 },
 "nbformat": 4,
 "nbformat_minor": 2
}
