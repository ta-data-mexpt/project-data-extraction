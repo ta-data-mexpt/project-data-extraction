{
 "metadata": {
  "language_info": {
   "codemirror_mode": {
    "name": "ipython",
    "version": 3
   },
   "file_extension": ".py",
   "mimetype": "text/x-python",
   "name": "python",
   "nbconvert_exporter": "python",
   "pygments_lexer": "ipython3",
   "version": "3.9.5"
  },
  "orig_nbformat": 2,
  "kernelspec": {
   "name": "python395jvsc74a57bd0376f5b0795f81aa7b5d99e448d6274743a66c9892fd26cf11e505993f41df5fa",
   "display_name": "Python 3.9.5 64-bit"
  }
 },
 "nbformat": 4,
 "nbformat_minor": 2,
 "cells": [
  {
   "cell_type": "code",
   "execution_count": 1,
   "metadata": {},
   "outputs": [],
   "source": [
    "# imports\n",
    "import requests\n",
    "import pandas as pd"
   ]
  },
  {
   "cell_type": "code",
   "execution_count": 2,
   "metadata": {},
   "outputs": [],
   "source": [
    "# function to make flexible the url to explore de Api directories\n",
    "def url_fun(*args):\n",
    "    url = 'http://gateway.marvel.com/'\n",
    "    return url + '/'.join(args)\n",
    "\n",
    "# get credentials\n",
    "def get_key(key):\n",
    "    with open('C:/Windows/AppsKeys/Marvel/'+key+'.key', 'r') as file_read:\n",
    "        app_key = file_read.readline()\n",
    "    return app_key\n",
    "\n",
    "# get data from url\n",
    "def get_data_from_url():\n",
    "    # get credentials\n",
    "    apikey = get_key('apikey')\n",
    "    ts = get_key('ts')\n",
    "    hash = get_key('hash')\n",
    "    # get url full path\n",
    "    url = url_fun('v1', 'public', 'characters')\n",
    "    # request data from url\n",
    "    args = {'apikey': apikey,\n",
    "            'ts': ts,\n",
    "            'hash': hash,\n",
    "            'limit':100}\n",
    "    headers = {'Content-Type': 'application/json'}\n",
    "    try:\n",
    "        response = requests.get(url, params=args, headers=headers)\n",
    "        response.raise_for_status()\n",
    "        if response.status_code == 200:\n",
    "            response = response.json()\n",
    "            return response\n",
    "    except requests.exceptions.HTTPError as error:\n",
    "        print(error.response.text)\n",
    "    except requests.exceptions.RequestException as error:\n",
    "        print(error.response.text)\n"
   ]
  },
  {
   "cell_type": "code",
   "execution_count": 3,
   "metadata": {},
   "outputs": [],
   "source": [
    "# save response into dictionay\n",
    "response_dict = get_data_from_url()\n",
    "# save data results into a list \n",
    "list_data_results = response_dict['data']['results']\n"
   ]
  },
  {
   "cell_type": "code",
   "execution_count": 4,
   "metadata": {},
   "outputs": [],
   "source": [
    "# get useful data from response in order to built de tabular data\n",
    "heros = {\"data\":[]}\n",
    "\n",
    "def add_hero(hero):\n",
    "    heros[\"data\"].append(hero)\n",
    "\n",
    "for hero in list_data_results:\n",
    "    imageUrl = ''\n",
    "    imageUrl += hero['thumbnail']['path']\n",
    "    imageUrl += '.'\n",
    "    imageUrl += hero['thumbnail']['extension']\n",
    "    item = {}\n",
    "    item['hero_id'] = hero['id']\n",
    "    item['hero_name'] = hero['name']\n",
    "    item['hero_desc'] = hero['description']\n",
    "    item['modified'] = hero['modified']\n",
    "    item['hero_img'] = imageUrl\n",
    "    item['hero_url'] = hero['urls'][0]['url']\n",
    "    add_hero(item)"
   ]
  },
  {
   "cell_type": "code",
   "execution_count": 5,
   "metadata": {},
   "outputs": [],
   "source": [
    "# built pandas tabular data with de dictironary useful data\n",
    "df_headers = ('Id','Name','Description','Modified','Image URL','URL')\n",
    "df_heros = pd.DataFrame(heros['data'][0].values()).transpose()\n",
    "for i in range(1, len(list_data_results)):\n",
    "    df_next = pd.DataFrame(heros['data'][i].values()).transpose()\n",
    "    df_heros = df_heros.append(df_next, ignore_index=True)\n",
    "df_heros.columns = df_headers"
   ]
  },
  {
   "cell_type": "code",
   "execution_count": 6,
   "metadata": {},
   "outputs": [],
   "source": [
    "# save tabular data into a csv file\n",
    "df_heros.to_csv(\"../outputs/marvel-heros.csv\")"
   ]
  },
  {
   "cell_type": "code",
   "execution_count": null,
   "metadata": {},
   "outputs": [],
   "source": []
  }
 ]
}