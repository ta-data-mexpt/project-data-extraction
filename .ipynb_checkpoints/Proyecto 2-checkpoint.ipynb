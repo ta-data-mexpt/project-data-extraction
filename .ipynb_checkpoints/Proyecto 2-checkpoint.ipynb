{
 "cells": [
  {
   "cell_type": "code",
   "execution_count": 670,
   "metadata": {},
   "outputs": [],
   "source": [
    "import requests\n",
    "import datetime\n",
    "import time\n",
    "from io import StringIO\n",
    "import pandas as pd\n",
    "import matplotlib.pyplot as plt\n",
    "from bs4 import BeautifulSoup\n",
    "import json"
   ]
  },
  {
   "cell_type": "code",
   "execution_count": 234,
   "metadata": {},
   "outputs": [],
   "source": [
    "###Se extraen datos de API Blockchain para obtener en el último año trasacciones por segundo\n",
    "data_blockchain=requests.get(\"https://api.blockchain.info/charts/transactions-per-second?timespan=52weeks&rollingAverage=8hours&format=json\")"
   ]
  },
  {
   "cell_type": "code",
   "execution_count": 220,
   "metadata": {},
   "outputs": [
    {
     "name": "stdout",
     "output_type": "stream",
     "text": [
      "<Response [200]>\n"
     ]
    }
   ],
   "source": [
    "print(data_blockchain)"
   ]
  },
  {
   "cell_type": "code",
   "execution_count": 676,
   "metadata": {},
   "outputs": [],
   "source": [
    "data_blockchain1=data_blockchain.json()\n",
    "f = open(\"data_blockchain1.json\",\"w\")\n",
    "f.write(json)\n",
    "f.close()"
   ]
  },
  {
   "cell_type": "code",
   "execution_count": 287,
   "metadata": {},
   "outputs": [
    {
     "data": {
      "text/plain": [
       "dict_keys(['status', 'name', 'unit', 'period', 'description', 'values'])"
      ]
     },
     "execution_count": 287,
     "metadata": {},
     "output_type": "execute_result"
    }
   ],
   "source": [
    "data_blockchain1.keys()"
   ]
  },
  {
   "cell_type": "code",
   "execution_count": 288,
   "metadata": {},
   "outputs": [
    {
     "data": {
      "text/plain": [
       "[{'x': 1557878400, 'y': 4.059374999999998},\n",
       " {'x': 1557899100, 'y': 3.484895833333332},\n",
       " {'x': 1557919800, 'y': 4.142708333333331},\n",
       " {'x': 1557940500, 'y': 4.8192708333333325},\n",
       " {'x': 1557961200, 'y': 4.657291666666664},\n",
       " {'x': 1557981900, 'y': 3.99427083333333},\n",
       " {'x': 1558002600, 'y': 4.324999999999998},\n",
       " {'x': 1558023300, 'y': 4.747916666666665},\n",
       " {'x': 1558044000, 'y': 4.564583333333331},\n",
       " {'x': 1558064700, 'y': 3.5140624999999988},\n",
       " {'x': 1558085400, 'y': 4.096354166666666},\n",
       " {'x': 1558106100, 'y': 4.84895833333333},\n",
       " {'x': 1558126800, 'y': 4.363020833333327},\n",
       " {'x': 1558147500, 'y': 3.1484374999999947},\n",
       " {'x': 1558168200, 'y': 3.2312499999999944},\n",
       " {'x': 1558188900, 'y': 3.67552083333333},\n",
       " {'x': 1558209600, 'y': 3.7145833333333305},\n",
       " {'x': 1558230300, 'y': 3.2833333333333306},\n",
       " {'x': 1558251000, 'y': 3.3749999999999982},\n",
       " {'x': 1558271700, 'y': 4.01927083333333}]"
      ]
     },
     "execution_count": 288,
     "metadata": {},
     "output_type": "execute_result"
    }
   ],
   "source": [
    "data_blockchain1[\"values\"][0:20]"
   ]
  },
  {
   "cell_type": "code",
   "execution_count": 289,
   "metadata": {},
   "outputs": [
    {
     "name": "stdout",
     "output_type": "stream",
     "text": [
      "Valor inicio 1557878400\n",
      "Valor fin 1589313600\n"
     ]
    }
   ],
   "source": [
    "### API de Bitcoin nos arroja 1519 valores, comenzando un año atrás a partir de la extracción de datos\n",
    "inicio=data_blockchain1[\"values\"][0][\"x\"]\n",
    "fin=data_blockchain1[\"values\"][1518][\"x\"]\n",
    "print(\"Valor inicio\",inicio)\n",
    "print(\"Valor fin\",fin)"
   ]
  },
  {
   "cell_type": "code",
   "execution_count": 290,
   "metadata": {},
   "outputs": [],
   "source": [
    "data_blockchain1=pd.DataFrame(data_blockchain1[\"values\"])"
   ]
  },
  {
   "cell_type": "code",
   "execution_count": 291,
   "metadata": {},
   "outputs": [
    {
     "data": {
      "text/html": [
       "<div>\n",
       "<style scoped>\n",
       "    .dataframe tbody tr th:only-of-type {\n",
       "        vertical-align: middle;\n",
       "    }\n",
       "\n",
       "    .dataframe tbody tr th {\n",
       "        vertical-align: top;\n",
       "    }\n",
       "\n",
       "    .dataframe thead th {\n",
       "        text-align: right;\n",
       "    }\n",
       "</style>\n",
       "<table border=\"1\" class=\"dataframe\">\n",
       "  <thead>\n",
       "    <tr style=\"text-align: right;\">\n",
       "      <th></th>\n",
       "      <th>x</th>\n",
       "      <th>y</th>\n",
       "    </tr>\n",
       "  </thead>\n",
       "  <tbody>\n",
       "    <tr>\n",
       "      <th>0</th>\n",
       "      <td>1557878400</td>\n",
       "      <td>4.059375</td>\n",
       "    </tr>\n",
       "    <tr>\n",
       "      <th>1</th>\n",
       "      <td>1557899100</td>\n",
       "      <td>3.484896</td>\n",
       "    </tr>\n",
       "    <tr>\n",
       "      <th>2</th>\n",
       "      <td>1557919800</td>\n",
       "      <td>4.142708</td>\n",
       "    </tr>\n",
       "    <tr>\n",
       "      <th>3</th>\n",
       "      <td>1557940500</td>\n",
       "      <td>4.819271</td>\n",
       "    </tr>\n",
       "    <tr>\n",
       "      <th>4</th>\n",
       "      <td>1557961200</td>\n",
       "      <td>4.657292</td>\n",
       "    </tr>\n",
       "  </tbody>\n",
       "</table>\n",
       "</div>"
      ],
      "text/plain": [
       "            x         y\n",
       "0  1557878400  4.059375\n",
       "1  1557899100  3.484896\n",
       "2  1557919800  4.142708\n",
       "3  1557940500  4.819271\n",
       "4  1557961200  4.657292"
      ]
     },
     "execution_count": 291,
     "metadata": {},
     "output_type": "execute_result"
    }
   ],
   "source": [
    "data_blockchain1.head()"
   ]
  },
  {
   "cell_type": "code",
   "execution_count": 421,
   "metadata": {},
   "outputs": [],
   "source": [
    "data_blockchain1.columns=[\"Date\",\"Transacciones/segundo\"]"
   ]
  },
  {
   "cell_type": "code",
   "execution_count": 293,
   "metadata": {},
   "outputs": [],
   "source": [
    "####Convierte tiempo Unix en cadena de texto, excluyendo horas, minutos y segundos\n",
    "def unixtime_txt(x):\n",
    "    x=datetime.datetime.fromtimestamp(x)\n",
    "    anio=str(x.year)\n",
    "    mes=str(x.month)\n",
    "    dia=str(x.day)\n",
    "    if len(mes)<2:\n",
    "        mes=\"0\"+mes\n",
    "    if len(dia)<2:\n",
    "        dia=\"0\"+dia\n",
    "    x=str(anio+\"-\"+mes+\"-\"+dia)\n",
    "    return x"
   ]
  },
  {
   "cell_type": "code",
   "execution_count": 294,
   "metadata": {},
   "outputs": [],
   "source": [
    "for i in range(0,1519):\n",
    "    data_blockchain1.iloc[i,0]=unixtime_txt(data_blockchain1.iloc[i,0])"
   ]
  },
  {
   "cell_type": "code",
   "execution_count": 295,
   "metadata": {},
   "outputs": [
    {
     "data": {
      "text/html": [
       "<div>\n",
       "<style scoped>\n",
       "    .dataframe tbody tr th:only-of-type {\n",
       "        vertical-align: middle;\n",
       "    }\n",
       "\n",
       "    .dataframe tbody tr th {\n",
       "        vertical-align: top;\n",
       "    }\n",
       "\n",
       "    .dataframe thead th {\n",
       "        text-align: right;\n",
       "    }\n",
       "</style>\n",
       "<table border=\"1\" class=\"dataframe\">\n",
       "  <thead>\n",
       "    <tr style=\"text-align: right;\">\n",
       "      <th></th>\n",
       "      <th>Datetime</th>\n",
       "      <th>Transacciones/segundo</th>\n",
       "    </tr>\n",
       "  </thead>\n",
       "  <tbody>\n",
       "    <tr>\n",
       "      <th>0</th>\n",
       "      <td>2019-05-14</td>\n",
       "      <td>4.059375</td>\n",
       "    </tr>\n",
       "    <tr>\n",
       "      <th>1</th>\n",
       "      <td>2019-05-15</td>\n",
       "      <td>3.484896</td>\n",
       "    </tr>\n",
       "    <tr>\n",
       "      <th>2</th>\n",
       "      <td>2019-05-15</td>\n",
       "      <td>4.142708</td>\n",
       "    </tr>\n",
       "    <tr>\n",
       "      <th>3</th>\n",
       "      <td>2019-05-15</td>\n",
       "      <td>4.819271</td>\n",
       "    </tr>\n",
       "    <tr>\n",
       "      <th>4</th>\n",
       "      <td>2019-05-15</td>\n",
       "      <td>4.657292</td>\n",
       "    </tr>\n",
       "  </tbody>\n",
       "</table>\n",
       "</div>"
      ],
      "text/plain": [
       "     Datetime  Transacciones/segundo\n",
       "0  2019-05-14               4.059375\n",
       "1  2019-05-15               3.484896\n",
       "2  2019-05-15               4.142708\n",
       "3  2019-05-15               4.819271\n",
       "4  2019-05-15               4.657292"
      ]
     },
     "execution_count": 295,
     "metadata": {},
     "output_type": "execute_result"
    }
   ],
   "source": [
    "data_blockchain1.head()"
   ]
  },
  {
   "cell_type": "code",
   "execution_count": 303,
   "metadata": {},
   "outputs": [],
   "source": [
    "data_blockchain1=data_blockchain1.groupby(\"Datetime\").mean().reset_index()"
   ]
  },
  {
   "cell_type": "code",
   "execution_count": 310,
   "metadata": {},
   "outputs": [
    {
     "data": {
      "text/plain": [
       "Datetime                  object\n",
       "Transacciones/segundo    float64\n",
       "dtype: object"
      ]
     },
     "execution_count": 310,
     "metadata": {},
     "output_type": "execute_result"
    }
   ],
   "source": [
    "data_blockchain1.dtypes"
   ]
  },
  {
   "cell_type": "code",
   "execution_count": 320,
   "metadata": {},
   "outputs": [],
   "source": [
    "###Se desea hacer extracción Webscrapping de Yahoo, sin embargo ellos permiten descargar los datos en CSV por lo que se prefieren estos datos por practicidad\n",
    "###sin embargo, para cumplir los requerimientos del proyecto más adelante se realiza webscrapping para demostrar que fue posible\n",
    "\n",
    "###Se descubre que el link se compone por 3 parámetros: 1. Clave de pizarra, 2. Fecha inicial en Unix time, 3. Fecha final en Unix time\n",
    "###esto para frecuencia diaria\n",
    "\n",
    "###Claves de pizarra\n",
    "###SPY para índice S&P500, 5EVIX para VIX\n",
    "sp500=\"SPY\"\n",
    "VIX=\"5EVIX\"\n",
    "\n",
    "yahoo_data_sp500=requests.get(\"https://query1.finance.yahoo.com/v7/finance/download/\"+sp500+\"?period1=\"+str(inicio)+\"&period2=\"+str(fin)+\"&interval=1d&events=history\")\n",
    "yahoo_data_vix=requests.get(\"https://query1.finance.yahoo.com/v7/finance/download/%\"+VIX+\"?period1=\"+str(inicio)+\"&period2=\"+str(fin)+\"&interval=1d&events=history\")"
   ]
  },
  {
   "cell_type": "code",
   "execution_count": 321,
   "metadata": {},
   "outputs": [],
   "source": [
    "type(yahoo_data_sp500.content)"
   ]
  },
  {
   "cell_type": "code",
   "execution_count": 612,
   "metadata": {},
   "outputs": [],
   "source": [
    "###Webscrapping Yahoo\n",
    "\n",
    "yahoo_webs_sp500=\"https://finance.yahoo.com/quote/\"+str(sp500)+\"/history?period1=1557878400&period2=1589241600&interval=1d&filter=history&frequency=1d\"\n",
    "yahoo_webs_vix=\"https://finance.yahoo.com/quote/%\"+str(VIX)+\"/history?period1=1557878400&period2=1589328000&interval=1d&filter=history&frequency=1d\"\n",
    "\n",
    "html_sp500=requests.get(yahoo_webs_sp500).content\n",
    "html_vix=requests.get(yahoo_webs_vix).content"
   ]
  },
  {
   "cell_type": "code",
   "execution_count": 613,
   "metadata": {},
   "outputs": [],
   "source": [
    "soup_sp500=BeautifulSoup(html_sp500)\n",
    "soup_vix=BeautifulSoup(html_vix)"
   ]
  },
  {
   "cell_type": "code",
   "execution_count": 639,
   "metadata": {},
   "outputs": [],
   "source": [
    "web_vix=soup_vix.find_all(\"table\",{\"class\":\"W(100%) M(0)\"})"
   ]
  },
  {
   "cell_type": "code",
   "execution_count": 640,
   "metadata": {},
   "outputs": [],
   "source": [
    "web_vix=web_vix[0].find_all(\"tr\")"
   ]
  },
  {
   "cell_type": "code",
   "execution_count": 659,
   "metadata": {},
   "outputs": [
    {
     "name": "stdout",
     "output_type": "stream",
     "text": [
      "DateOpenHighLowClose*Adj Close**Volume\n",
      "May 12, 202028.4733.0426.0033.0433.04-\n",
      "May 11, 202028.4631.4626.9727.5727.57-\n",
      "May 08, 202030.1430.3927.8927.9827.98-\n",
      "May 07, 202032.1232.2830.3731.4431.44-\n",
      "May 06, 202032.6935.6931.6834.1234.12-\n",
      "May 05, 202034.8236.2231.9533.6133.61-\n",
      "May 04, 202039.1340.3235.5335.9735.97-\n",
      "May 01, 202038.1739.5736.5937.1937.19-\n",
      "Apr 30, 202030.9935.9430.9334.1534.15-\n"
     ]
    }
   ],
   "source": [
    "for i in range(0,10):\n",
    "    print(web_vix[i].text)"
   ]
  },
  {
   "cell_type": "code",
   "execution_count": 681,
   "metadata": {},
   "outputs": [],
   "source": [
    "tabla_vix=[[\"Date\",\"Open\",\"High\",\"Low\",\"Close\",\"AdjClose\"]]\n",
    "for i in web_vix:\n",
    "    x=[i.text[:12],i.text[12:17],i.text[17:22],i.text[22:27],i.text[27:32],i.text[32:37]]\n",
    "    tabla_vix.append(x)"
   ]
  },
  {
   "cell_type": "code",
   "execution_count": 682,
   "metadata": {},
   "outputs": [
    {
     "data": {
      "text/plain": [
       "['DateOpenHigh', 'LowCl', 'ose*A', 'dj Cl', 'ose**', 'Volum']"
      ]
     },
     "execution_count": 682,
     "metadata": {},
     "output_type": "execute_result"
    }
   ],
   "source": [
    "tabla_vix.pop(1)"
   ]
  },
  {
   "cell_type": "code",
   "execution_count": 684,
   "metadata": {},
   "outputs": [
    {
     "data": {
      "text/plain": [
       "['*Close price', ' adju', 'sted ', 'for s', 'plits', '.**Ad']"
      ]
     },
     "execution_count": 684,
     "metadata": {},
     "output_type": "execute_result"
    }
   ],
   "source": [
    "tabla_vix.pop(101)"
   ]
  },
  {
   "cell_type": "code",
   "execution_count": 685,
   "metadata": {},
   "outputs": [
    {
     "data": {
      "text/plain": [
       "[['Date', 'Open', 'High', 'Low', 'Close', 'AdjClose'],\n",
       " ['May 12, 2020', '28.47', '33.04', '26.00', '33.04', '33.04'],\n",
       " ['May 11, 2020', '28.46', '31.46', '26.97', '27.57', '27.57'],\n",
       " ['May 08, 2020', '30.14', '30.39', '27.89', '27.98', '27.98'],\n",
       " ['May 07, 2020', '32.12', '32.28', '30.37', '31.44', '31.44'],\n",
       " ['May 06, 2020', '32.69', '35.69', '31.68', '34.12', '34.12'],\n",
       " ['May 05, 2020', '34.82', '36.22', '31.95', '33.61', '33.61'],\n",
       " ['May 04, 2020', '39.13', '40.32', '35.53', '35.97', '35.97'],\n",
       " ['May 01, 2020', '38.17', '39.57', '36.59', '37.19', '37.19'],\n",
       " ['Apr 30, 2020', '30.99', '35.94', '30.93', '34.15', '34.15']]"
      ]
     },
     "execution_count": 685,
     "metadata": {},
     "output_type": "execute_result"
    }
   ],
   "source": [
    "tabla_vix[0:10]"
   ]
  },
  {
   "cell_type": "code",
   "execution_count": 686,
   "metadata": {},
   "outputs": [],
   "source": [
    "df_web_vix=pd.DataFrame(tabla_vix)"
   ]
  },
  {
   "cell_type": "code",
   "execution_count": 687,
   "metadata": {},
   "outputs": [],
   "source": [
    "df_web_vix.to_csv(\"vix_webscrapping.csv\",index=False)"
   ]
  },
  {
   "cell_type": "code",
   "execution_count": 323,
   "metadata": {},
   "outputs": [],
   "source": [
    "###Convierte bytes a data frame de pandas,\n",
    "\n",
    "def bytes_dataframe(x):\n",
    "    x=str(x.content,'utf-8')\n",
    "    x=StringIO(x) \n",
    "    x=pd.read_csv(x)\n",
    "    return x"
   ]
  },
  {
   "cell_type": "code",
   "execution_count": 326,
   "metadata": {},
   "outputs": [],
   "source": [
    "df_sp500=bytes_dataframe(yahoo_data_sp500)\n",
    "df_vix=bytes_dataframe(yahoo_data_vix)"
   ]
  },
  {
   "cell_type": "code",
   "execution_count": 390,
   "metadata": {},
   "outputs": [
    {
     "data": {
      "text/plain": [
       "0      2019-05-15\n",
       "1      2019-05-16\n",
       "2      2019-05-17\n",
       "3      2019-05-20\n",
       "4      2019-05-21\n",
       "          ...    \n",
       "246    2020-05-06\n",
       "247    2020-05-07\n",
       "248    2020-05-08\n",
       "249    2020-05-11\n",
       "250    2020-05-12\n",
       "Name: Date, Length: 251, dtype: object"
      ]
     },
     "execution_count": 390,
     "metadata": {},
     "output_type": "execute_result"
    }
   ],
   "source": [
    "df_sp500[\"Date\"]"
   ]
  },
  {
   "cell_type": "code",
   "execution_count": 395,
   "metadata": {},
   "outputs": [
    {
     "name": "stdout",
     "output_type": "stream",
     "text": [
      "<Response [200]>\n"
     ]
    }
   ],
   "source": [
    "###This data was produced from the CoinDesk Bitcoin Price Index. BPI value data returned as USD.###\n",
    "###Para esta API ingresamos dos parametros para obtener mismo periodo de datos que API Blockchain\n",
    "inicio_coindesk=unixtime_txt(inicio)\n",
    "fin_coindesk=unixtime_txt(fin)\n",
    "\n",
    "data_coindesk=requests.get(\"https://api.coindesk.com/v1/bpi/historical/close.json?start=\"+inicio_coindesk+\"&end=\"+fin_coindesk)\n",
    "print(data_coindesk)"
   ]
  },
  {
   "cell_type": "code",
   "execution_count": 408,
   "metadata": {},
   "outputs": [],
   "source": [
    "data_coindesk1=data_coindesk.json()"
   ]
  },
  {
   "cell_type": "code",
   "execution_count": 409,
   "metadata": {},
   "outputs": [
    {
     "data": {
      "text/plain": [
       "dict_keys(['bpi', 'disclaimer', 'time'])"
      ]
     },
     "execution_count": 409,
     "metadata": {},
     "output_type": "execute_result"
    }
   ],
   "source": [
    "data_coindesk1.keys()"
   ]
  },
  {
   "cell_type": "code",
   "execution_count": 416,
   "metadata": {},
   "outputs": [],
   "source": [
    "data_coindesk2=[]\n",
    "\n",
    "for i in df_yahoo_data[\"Date\"]:\n",
    "    try:\n",
    "        x=[i,data_coindesk1[\"bpi\"][i]]\n",
    "        data_coindesk2.append(x)\n",
    "    except:\n",
    "        pass"
   ]
  },
  {
   "cell_type": "code",
   "execution_count": 417,
   "metadata": {},
   "outputs": [],
   "source": [
    "data_coindesk2=pd.DataFrame(data_coindesk2,columns=[\"Date\",\"BTC-USD\"])"
   ]
  },
  {
   "cell_type": "code",
   "execution_count": 419,
   "metadata": {},
   "outputs": [
    {
     "data": {
      "text/html": [
       "<div>\n",
       "<style scoped>\n",
       "    .dataframe tbody tr th:only-of-type {\n",
       "        vertical-align: middle;\n",
       "    }\n",
       "\n",
       "    .dataframe tbody tr th {\n",
       "        vertical-align: top;\n",
       "    }\n",
       "\n",
       "    .dataframe thead th {\n",
       "        text-align: right;\n",
       "    }\n",
       "</style>\n",
       "<table border=\"1\" class=\"dataframe\">\n",
       "  <thead>\n",
       "    <tr style=\"text-align: right;\">\n",
       "      <th></th>\n",
       "      <th>Date</th>\n",
       "      <th>BTC-USD</th>\n",
       "    </tr>\n",
       "  </thead>\n",
       "  <tbody>\n",
       "    <tr>\n",
       "      <th>0</th>\n",
       "      <td>2019-05-14</td>\n",
       "      <td>7978.0100</td>\n",
       "    </tr>\n",
       "    <tr>\n",
       "      <th>1</th>\n",
       "      <td>2019-05-15</td>\n",
       "      <td>8180.4250</td>\n",
       "    </tr>\n",
       "    <tr>\n",
       "      <th>2</th>\n",
       "      <td>2019-05-16</td>\n",
       "      <td>7875.1633</td>\n",
       "    </tr>\n",
       "    <tr>\n",
       "      <th>3</th>\n",
       "      <td>2019-05-17</td>\n",
       "      <td>7376.8533</td>\n",
       "    </tr>\n",
       "    <tr>\n",
       "      <th>4</th>\n",
       "      <td>2019-05-20</td>\n",
       "      <td>7995.9650</td>\n",
       "    </tr>\n",
       "  </tbody>\n",
       "</table>\n",
       "</div>"
      ],
      "text/plain": [
       "         Date    BTC-USD\n",
       "0  2019-05-14  7978.0100\n",
       "1  2019-05-15  8180.4250\n",
       "2  2019-05-16  7875.1633\n",
       "3  2019-05-17  7376.8533\n",
       "4  2019-05-20  7995.9650"
      ]
     },
     "execution_count": 419,
     "metadata": {},
     "output_type": "execute_result"
    }
   ],
   "source": [
    "data_coindesk2.head()"
   ]
  },
  {
   "cell_type": "code",
   "execution_count": 422,
   "metadata": {},
   "outputs": [],
   "source": [
    "data_btc=data_blockchain1.merge(data_coindesk2,on=\"Date\")"
   ]
  },
  {
   "cell_type": "code",
   "execution_count": 437,
   "metadata": {},
   "outputs": [
    {
     "data": {
      "text/plain": [
       "Date                     248\n",
       "Transacciones/segundo    248\n",
       "BTC-USD                  248\n",
       "dtype: int64"
      ]
     },
     "execution_count": 437,
     "metadata": {},
     "output_type": "execute_result"
    }
   ],
   "source": [
    "data_btc.isnull().count()"
   ]
  },
  {
   "cell_type": "code",
   "execution_count": 688,
   "metadata": {},
   "outputs": [
    {
     "data": {
      "text/html": [
       "<div>\n",
       "<style scoped>\n",
       "    .dataframe tbody tr th:only-of-type {\n",
       "        vertical-align: middle;\n",
       "    }\n",
       "\n",
       "    .dataframe tbody tr th {\n",
       "        vertical-align: top;\n",
       "    }\n",
       "\n",
       "    .dataframe thead th {\n",
       "        text-align: right;\n",
       "    }\n",
       "</style>\n",
       "<table border=\"1\" class=\"dataframe\">\n",
       "  <thead>\n",
       "    <tr style=\"text-align: right;\">\n",
       "      <th></th>\n",
       "      <th>Date</th>\n",
       "      <th>Transacciones/segundo</th>\n",
       "      <th>BTC-USD</th>\n",
       "    </tr>\n",
       "  </thead>\n",
       "  <tbody>\n",
       "    <tr>\n",
       "      <th>0</th>\n",
       "      <td>2019-05-14</td>\n",
       "      <td>4.059375</td>\n",
       "      <td>7978.0100</td>\n",
       "    </tr>\n",
       "    <tr>\n",
       "      <th>1</th>\n",
       "      <td>2019-05-15</td>\n",
       "      <td>4.219687</td>\n",
       "      <td>8180.4250</td>\n",
       "    </tr>\n",
       "    <tr>\n",
       "      <th>2</th>\n",
       "      <td>2019-05-16</td>\n",
       "      <td>4.287891</td>\n",
       "      <td>7875.1633</td>\n",
       "    </tr>\n",
       "    <tr>\n",
       "      <th>3</th>\n",
       "      <td>2019-05-17</td>\n",
       "      <td>4.114193</td>\n",
       "      <td>7376.8533</td>\n",
       "    </tr>\n",
       "    <tr>\n",
       "      <th>4</th>\n",
       "      <td>2019-05-20</td>\n",
       "      <td>4.347917</td>\n",
       "      <td>7995.9650</td>\n",
       "    </tr>\n",
       "  </tbody>\n",
       "</table>\n",
       "</div>"
      ],
      "text/plain": [
       "         Date  Transacciones/segundo    BTC-USD\n",
       "0  2019-05-14               4.059375  7978.0100\n",
       "1  2019-05-15               4.219687  8180.4250\n",
       "2  2019-05-16               4.287891  7875.1633\n",
       "3  2019-05-17               4.114193  7376.8533\n",
       "4  2019-05-20               4.347917  7995.9650"
      ]
     },
     "execution_count": 688,
     "metadata": {},
     "output_type": "execute_result"
    }
   ],
   "source": [
    "data_btc.head()"
   ]
  },
  {
   "cell_type": "code",
   "execution_count": 689,
   "metadata": {},
   "outputs": [],
   "source": [
    "data_btc.to_csv(\"blockchain-coindesk.csv\",index=False)"
   ]
  },
  {
   "cell_type": "code",
   "execution_count": 442,
   "metadata": {},
   "outputs": [
    {
     "data": {
      "text/plain": [
       "Date                     0\n",
       "Transacciones/segundo    0\n",
       "BTC-USD                  0\n",
       "dtype: int64"
      ]
     },
     "execution_count": 442,
     "metadata": {},
     "output_type": "execute_result"
    }
   ],
   "source": [
    "data_btc.isnull().sum()"
   ]
  },
  {
   "cell_type": "code",
   "execution_count": 501,
   "metadata": {},
   "outputs": [],
   "source": [
    "data_btc_sp500=data_btc.merge(df_sp500,on=\"Date\")"
   ]
  },
  {
   "cell_type": "code",
   "execution_count": 463,
   "metadata": {},
   "outputs": [
    {
     "data": {
      "text/plain": [
       "Date                     0\n",
       "Transacciones/segundo    0\n",
       "BTC-USD                  0\n",
       "Open                     0\n",
       "High                     0\n",
       "Low                      0\n",
       "Close                    0\n",
       "Adj Close                0\n",
       "Volume                   0\n",
       "dtype: int64"
      ]
     },
     "execution_count": 463,
     "metadata": {},
     "output_type": "execute_result"
    }
   ],
   "source": [
    "data_btc_sp500.isnull().sum()"
   ]
  },
  {
   "cell_type": "code",
   "execution_count": 500,
   "metadata": {},
   "outputs": [],
   "source": [
    "data_btc_vix=data_btc.merge(df_vix,on=\"Date\")"
   ]
  },
  {
   "cell_type": "code",
   "execution_count": 465,
   "metadata": {},
   "outputs": [
    {
     "data": {
      "text/plain": [
       "Date                     0\n",
       "Transacciones/segundo    0\n",
       "BTC-USD                  0\n",
       "Open                     0\n",
       "High                     0\n",
       "Low                      0\n",
       "Close                    0\n",
       "Adj Close                0\n",
       "Volume                   0\n",
       "dtype: int64"
      ]
     },
     "execution_count": 465,
     "metadata": {},
     "output_type": "execute_result"
    }
   ],
   "source": [
    "data_btc_vix.isnull().sum()"
   ]
  },
  {
   "cell_type": "code",
   "execution_count": 466,
   "metadata": {},
   "outputs": [
    {
     "data": {
      "text/html": [
       "<div>\n",
       "<style scoped>\n",
       "    .dataframe tbody tr th:only-of-type {\n",
       "        vertical-align: middle;\n",
       "    }\n",
       "\n",
       "    .dataframe tbody tr th {\n",
       "        vertical-align: top;\n",
       "    }\n",
       "\n",
       "    .dataframe thead th {\n",
       "        text-align: right;\n",
       "    }\n",
       "</style>\n",
       "<table border=\"1\" class=\"dataframe\">\n",
       "  <thead>\n",
       "    <tr style=\"text-align: right;\">\n",
       "      <th></th>\n",
       "      <th>Transacciones/segundo</th>\n",
       "      <th>BTC-USD</th>\n",
       "      <th>Open</th>\n",
       "      <th>High</th>\n",
       "      <th>Low</th>\n",
       "      <th>Close</th>\n",
       "      <th>Adj Close</th>\n",
       "      <th>Volume</th>\n",
       "    </tr>\n",
       "  </thead>\n",
       "  <tbody>\n",
       "    <tr>\n",
       "      <th>count</th>\n",
       "      <td>247.000000</td>\n",
       "      <td>247.000000</td>\n",
       "      <td>247.000000</td>\n",
       "      <td>247.000000</td>\n",
       "      <td>247.000000</td>\n",
       "      <td>247.000000</td>\n",
       "      <td>247.000000</td>\n",
       "      <td>247.0</td>\n",
       "    </tr>\n",
       "    <tr>\n",
       "      <th>mean</th>\n",
       "      <td>3.672005</td>\n",
       "      <td>8762.293946</td>\n",
       "      <td>21.911741</td>\n",
       "      <td>23.474413</td>\n",
       "      <td>20.419028</td>\n",
       "      <td>21.775223</td>\n",
       "      <td>21.775223</td>\n",
       "      <td>0.0</td>\n",
       "    </tr>\n",
       "    <tr>\n",
       "      <th>std</th>\n",
       "      <td>0.329218</td>\n",
       "      <td>1510.585014</td>\n",
       "      <td>14.728238</td>\n",
       "      <td>16.396581</td>\n",
       "      <td>13.056545</td>\n",
       "      <td>14.699265</td>\n",
       "      <td>14.699265</td>\n",
       "      <td>0.0</td>\n",
       "    </tr>\n",
       "    <tr>\n",
       "      <th>min</th>\n",
       "      <td>2.495833</td>\n",
       "      <td>4914.085000</td>\n",
       "      <td>11.550000</td>\n",
       "      <td>11.790000</td>\n",
       "      <td>11.420000</td>\n",
       "      <td>11.540000</td>\n",
       "      <td>11.540000</td>\n",
       "      <td>0.0</td>\n",
       "    </tr>\n",
       "    <tr>\n",
       "      <th>25%</th>\n",
       "      <td>3.482096</td>\n",
       "      <td>7628.731650</td>\n",
       "      <td>13.630000</td>\n",
       "      <td>14.345000</td>\n",
       "      <td>12.960000</td>\n",
       "      <td>13.535000</td>\n",
       "      <td>13.535000</td>\n",
       "      <td>0.0</td>\n",
       "    </tr>\n",
       "    <tr>\n",
       "      <th>50%</th>\n",
       "      <td>3.663021</td>\n",
       "      <td>8671.508300</td>\n",
       "      <td>15.680000</td>\n",
       "      <td>16.440001</td>\n",
       "      <td>15.010000</td>\n",
       "      <td>15.560000</td>\n",
       "      <td>15.560000</td>\n",
       "      <td>0.0</td>\n",
       "    </tr>\n",
       "    <tr>\n",
       "      <th>75%</th>\n",
       "      <td>3.841862</td>\n",
       "      <td>9826.577500</td>\n",
       "      <td>20.035000</td>\n",
       "      <td>21.295000</td>\n",
       "      <td>18.450000</td>\n",
       "      <td>19.575000</td>\n",
       "      <td>19.575000</td>\n",
       "      <td>0.0</td>\n",
       "    </tr>\n",
       "    <tr>\n",
       "      <th>max</th>\n",
       "      <td>4.870964</td>\n",
       "      <td>12907.135000</td>\n",
       "      <td>82.690002</td>\n",
       "      <td>85.470001</td>\n",
       "      <td>70.370003</td>\n",
       "      <td>82.690002</td>\n",
       "      <td>82.690002</td>\n",
       "      <td>0.0</td>\n",
       "    </tr>\n",
       "  </tbody>\n",
       "</table>\n",
       "</div>"
      ],
      "text/plain": [
       "       Transacciones/segundo       BTC-USD        Open        High  \\\n",
       "count             247.000000    247.000000  247.000000  247.000000   \n",
       "mean                3.672005   8762.293946   21.911741   23.474413   \n",
       "std                 0.329218   1510.585014   14.728238   16.396581   \n",
       "min                 2.495833   4914.085000   11.550000   11.790000   \n",
       "25%                 3.482096   7628.731650   13.630000   14.345000   \n",
       "50%                 3.663021   8671.508300   15.680000   16.440001   \n",
       "75%                 3.841862   9826.577500   20.035000   21.295000   \n",
       "max                 4.870964  12907.135000   82.690002   85.470001   \n",
       "\n",
       "              Low       Close   Adj Close  Volume  \n",
       "count  247.000000  247.000000  247.000000   247.0  \n",
       "mean    20.419028   21.775223   21.775223     0.0  \n",
       "std     13.056545   14.699265   14.699265     0.0  \n",
       "min     11.420000   11.540000   11.540000     0.0  \n",
       "25%     12.960000   13.535000   13.535000     0.0  \n",
       "50%     15.010000   15.560000   15.560000     0.0  \n",
       "75%     18.450000   19.575000   19.575000     0.0  \n",
       "max     70.370003   82.690002   82.690002     0.0  "
      ]
     },
     "execution_count": 466,
     "metadata": {},
     "output_type": "execute_result"
    }
   ],
   "source": [
    "data_btc_vix.describe()"
   ]
  },
  {
   "cell_type": "code",
   "execution_count": 504,
   "metadata": {},
   "outputs": [],
   "source": [
    "###El índice VIX es un índicador de volatilidad utilizado en el mercado de valores, por su naturaleza no cuenta con volumen de transacciones\n",
    "###Por este motivo eliminaremos esta columna, tambien eliminaremos la columna de transacciones por segundo, debido a que ya no la utilizaremos para obtener\n",
    "###La correlación entre el volumen de bitcoins con volumen con VIX pues no es procedente\n",
    "\n",
    "data_btc_vix=data_btc_vix.drop(columns=[\"Volume\",\"Transacciones/segundo\"])"
   ]
  },
  {
   "cell_type": "code",
   "execution_count": 505,
   "metadata": {},
   "outputs": [
    {
     "data": {
      "text/html": [
       "<div>\n",
       "<style scoped>\n",
       "    .dataframe tbody tr th:only-of-type {\n",
       "        vertical-align: middle;\n",
       "    }\n",
       "\n",
       "    .dataframe tbody tr th {\n",
       "        vertical-align: top;\n",
       "    }\n",
       "\n",
       "    .dataframe thead th {\n",
       "        text-align: right;\n",
       "    }\n",
       "</style>\n",
       "<table border=\"1\" class=\"dataframe\">\n",
       "  <thead>\n",
       "    <tr style=\"text-align: right;\">\n",
       "      <th></th>\n",
       "      <th>Date</th>\n",
       "      <th>BTC-USD</th>\n",
       "      <th>Open</th>\n",
       "      <th>High</th>\n",
       "      <th>Low</th>\n",
       "      <th>Close</th>\n",
       "      <th>Adj Close</th>\n",
       "    </tr>\n",
       "  </thead>\n",
       "  <tbody>\n",
       "    <tr>\n",
       "      <th>0</th>\n",
       "      <td>2019-05-15</td>\n",
       "      <td>8180.4250</td>\n",
       "      <td>17.570000</td>\n",
       "      <td>19.150000</td>\n",
       "      <td>16.41</td>\n",
       "      <td>16.440001</td>\n",
       "      <td>16.440001</td>\n",
       "    </tr>\n",
       "    <tr>\n",
       "      <th>1</th>\n",
       "      <td>2019-05-16</td>\n",
       "      <td>7875.1633</td>\n",
       "      <td>16.690001</td>\n",
       "      <td>17.129999</td>\n",
       "      <td>15.16</td>\n",
       "      <td>15.290000</td>\n",
       "      <td>15.290000</td>\n",
       "    </tr>\n",
       "    <tr>\n",
       "      <th>2</th>\n",
       "      <td>2019-05-17</td>\n",
       "      <td>7376.8533</td>\n",
       "      <td>15.890000</td>\n",
       "      <td>16.809999</td>\n",
       "      <td>14.86</td>\n",
       "      <td>15.960000</td>\n",
       "      <td>15.960000</td>\n",
       "    </tr>\n",
       "    <tr>\n",
       "      <th>3</th>\n",
       "      <td>2019-05-20</td>\n",
       "      <td>7995.9650</td>\n",
       "      <td>15.880000</td>\n",
       "      <td>17.629999</td>\n",
       "      <td>15.46</td>\n",
       "      <td>16.309999</td>\n",
       "      <td>16.309999</td>\n",
       "    </tr>\n",
       "    <tr>\n",
       "      <th>4</th>\n",
       "      <td>2019-05-21</td>\n",
       "      <td>7945.0450</td>\n",
       "      <td>15.860000</td>\n",
       "      <td>16.219999</td>\n",
       "      <td>14.79</td>\n",
       "      <td>14.950000</td>\n",
       "      <td>14.950000</td>\n",
       "    </tr>\n",
       "  </tbody>\n",
       "</table>\n",
       "</div>"
      ],
      "text/plain": [
       "         Date    BTC-USD       Open       High    Low      Close  Adj Close\n",
       "0  2019-05-15  8180.4250  17.570000  19.150000  16.41  16.440001  16.440001\n",
       "1  2019-05-16  7875.1633  16.690001  17.129999  15.16  15.290000  15.290000\n",
       "2  2019-05-17  7376.8533  15.890000  16.809999  14.86  15.960000  15.960000\n",
       "3  2019-05-20  7995.9650  15.880000  17.629999  15.46  16.309999  16.309999\n",
       "4  2019-05-21  7945.0450  15.860000  16.219999  14.79  14.950000  14.950000"
      ]
     },
     "execution_count": 505,
     "metadata": {},
     "output_type": "execute_result"
    }
   ],
   "source": [
    "data_btc_vix.head()"
   ]
  },
  {
   "cell_type": "code",
   "execution_count": 506,
   "metadata": {},
   "outputs": [
    {
     "data": {
      "text/html": [
       "<div>\n",
       "<style scoped>\n",
       "    .dataframe tbody tr th:only-of-type {\n",
       "        vertical-align: middle;\n",
       "    }\n",
       "\n",
       "    .dataframe tbody tr th {\n",
       "        vertical-align: top;\n",
       "    }\n",
       "\n",
       "    .dataframe thead th {\n",
       "        text-align: right;\n",
       "    }\n",
       "</style>\n",
       "<table border=\"1\" class=\"dataframe\">\n",
       "  <thead>\n",
       "    <tr style=\"text-align: right;\">\n",
       "      <th></th>\n",
       "      <th>Date</th>\n",
       "      <th>Transacciones/segundo</th>\n",
       "      <th>BTC-USD</th>\n",
       "      <th>Open</th>\n",
       "      <th>High</th>\n",
       "      <th>Low</th>\n",
       "      <th>Close</th>\n",
       "      <th>Adj Close</th>\n",
       "      <th>Volume</th>\n",
       "    </tr>\n",
       "  </thead>\n",
       "  <tbody>\n",
       "    <tr>\n",
       "      <th>0</th>\n",
       "      <td>2019-05-15</td>\n",
       "      <td>4.219687</td>\n",
       "      <td>8180.4250</td>\n",
       "      <td>281.589996</td>\n",
       "      <td>285.769989</td>\n",
       "      <td>281.359985</td>\n",
       "      <td>285.059998</td>\n",
       "      <td>279.352051</td>\n",
       "      <td>73956400</td>\n",
       "    </tr>\n",
       "    <tr>\n",
       "      <th>1</th>\n",
       "      <td>2019-05-16</td>\n",
       "      <td>4.287891</td>\n",
       "      <td>7875.1633</td>\n",
       "      <td>285.839996</td>\n",
       "      <td>289.209991</td>\n",
       "      <td>285.760010</td>\n",
       "      <td>287.700012</td>\n",
       "      <td>281.939240</td>\n",
       "      <td>76749600</td>\n",
       "    </tr>\n",
       "    <tr>\n",
       "      <th>2</th>\n",
       "      <td>2019-05-17</td>\n",
       "      <td>4.114193</td>\n",
       "      <td>7376.8533</td>\n",
       "      <td>285.140015</td>\n",
       "      <td>288.600006</td>\n",
       "      <td>285.119995</td>\n",
       "      <td>285.839996</td>\n",
       "      <td>280.116455</td>\n",
       "      <td>100353000</td>\n",
       "    </tr>\n",
       "    <tr>\n",
       "      <th>3</th>\n",
       "      <td>2019-05-20</td>\n",
       "      <td>4.347917</td>\n",
       "      <td>7995.9650</td>\n",
       "      <td>284.059998</td>\n",
       "      <td>285.959991</td>\n",
       "      <td>283.119995</td>\n",
       "      <td>283.950012</td>\n",
       "      <td>278.264313</td>\n",
       "      <td>62877600</td>\n",
       "    </tr>\n",
       "    <tr>\n",
       "      <th>4</th>\n",
       "      <td>2019-05-21</td>\n",
       "      <td>4.126146</td>\n",
       "      <td>7945.0450</td>\n",
       "      <td>285.829987</td>\n",
       "      <td>286.929993</td>\n",
       "      <td>285.549988</td>\n",
       "      <td>286.510010</td>\n",
       "      <td>280.773041</td>\n",
       "      <td>46847100</td>\n",
       "    </tr>\n",
       "  </tbody>\n",
       "</table>\n",
       "</div>"
      ],
      "text/plain": [
       "         Date  Transacciones/segundo    BTC-USD        Open        High  \\\n",
       "0  2019-05-15               4.219687  8180.4250  281.589996  285.769989   \n",
       "1  2019-05-16               4.287891  7875.1633  285.839996  289.209991   \n",
       "2  2019-05-17               4.114193  7376.8533  285.140015  288.600006   \n",
       "3  2019-05-20               4.347917  7995.9650  284.059998  285.959991   \n",
       "4  2019-05-21               4.126146  7945.0450  285.829987  286.929993   \n",
       "\n",
       "          Low       Close   Adj Close     Volume  \n",
       "0  281.359985  285.059998  279.352051   73956400  \n",
       "1  285.760010  287.700012  281.939240   76749600  \n",
       "2  285.119995  285.839996  280.116455  100353000  \n",
       "3  283.119995  283.950012  278.264313   62877600  \n",
       "4  285.549988  286.510010  280.773041   46847100  "
      ]
     },
     "execution_count": 506,
     "metadata": {},
     "output_type": "execute_result"
    }
   ],
   "source": [
    "data_btc_sp500.head()"
   ]
  },
  {
   "cell_type": "code",
   "execution_count": 507,
   "metadata": {},
   "outputs": [],
   "source": [
    "###Borraremos las columnas Open, High, Low, Adj Close, pues de momento no las utilizaremos para nuestro análisis, y renombraremos las columnas\n",
    "data_btc_vix=data_btc_vix.drop(columns=[\"Open\",\"High\",\"Low\",\"Adj Close\"])\n",
    "data_btc_sp500=data_btc_sp500.drop(columns=[\"Open\",\"High\",\"Low\",\"Adj Close\"])\n",
    "data_btc_vix.columns=[\"Date\",\"BTC-USD\",\"VIX\"]\n",
    "data_btc_sp500.columns=[\"Date\",\"Volumen BTC\",\"BTC-USD\",\"SP500-USD\",\"Volumen SP500\"]"
   ]
  },
  {
   "cell_type": "code",
   "execution_count": 509,
   "metadata": {},
   "outputs": [
    {
     "data": {
      "text/html": [
       "<div>\n",
       "<style scoped>\n",
       "    .dataframe tbody tr th:only-of-type {\n",
       "        vertical-align: middle;\n",
       "    }\n",
       "\n",
       "    .dataframe tbody tr th {\n",
       "        vertical-align: top;\n",
       "    }\n",
       "\n",
       "    .dataframe thead th {\n",
       "        text-align: right;\n",
       "    }\n",
       "</style>\n",
       "<table border=\"1\" class=\"dataframe\">\n",
       "  <thead>\n",
       "    <tr style=\"text-align: right;\">\n",
       "      <th></th>\n",
       "      <th>Date</th>\n",
       "      <th>Volumen BTC</th>\n",
       "      <th>BTC-USD</th>\n",
       "      <th>SP500-USD</th>\n",
       "      <th>Volumen SP500</th>\n",
       "    </tr>\n",
       "  </thead>\n",
       "  <tbody>\n",
       "    <tr>\n",
       "      <th>0</th>\n",
       "      <td>2019-05-15</td>\n",
       "      <td>4.219687</td>\n",
       "      <td>8180.4250</td>\n",
       "      <td>285.059998</td>\n",
       "      <td>73956400</td>\n",
       "    </tr>\n",
       "    <tr>\n",
       "      <th>1</th>\n",
       "      <td>2019-05-16</td>\n",
       "      <td>4.287891</td>\n",
       "      <td>7875.1633</td>\n",
       "      <td>287.700012</td>\n",
       "      <td>76749600</td>\n",
       "    </tr>\n",
       "    <tr>\n",
       "      <th>2</th>\n",
       "      <td>2019-05-17</td>\n",
       "      <td>4.114193</td>\n",
       "      <td>7376.8533</td>\n",
       "      <td>285.839996</td>\n",
       "      <td>100353000</td>\n",
       "    </tr>\n",
       "    <tr>\n",
       "      <th>3</th>\n",
       "      <td>2019-05-20</td>\n",
       "      <td>4.347917</td>\n",
       "      <td>7995.9650</td>\n",
       "      <td>283.950012</td>\n",
       "      <td>62877600</td>\n",
       "    </tr>\n",
       "    <tr>\n",
       "      <th>4</th>\n",
       "      <td>2019-05-21</td>\n",
       "      <td>4.126146</td>\n",
       "      <td>7945.0450</td>\n",
       "      <td>286.510010</td>\n",
       "      <td>46847100</td>\n",
       "    </tr>\n",
       "  </tbody>\n",
       "</table>\n",
       "</div>"
      ],
      "text/plain": [
       "         Date  Volumen BTC    BTC-USD   SP500-USD  Volumen SP500\n",
       "0  2019-05-15     4.219687  8180.4250  285.059998       73956400\n",
       "1  2019-05-16     4.287891  7875.1633  287.700012       76749600\n",
       "2  2019-05-17     4.114193  7376.8533  285.839996      100353000\n",
       "3  2019-05-20     4.347917  7995.9650  283.950012       62877600\n",
       "4  2019-05-21     4.126146  7945.0450  286.510010       46847100"
      ]
     },
     "execution_count": 509,
     "metadata": {},
     "output_type": "execute_result"
    }
   ],
   "source": [
    "data_btc_sp500.head()"
   ]
  },
  {
   "cell_type": "code",
   "execution_count": 511,
   "metadata": {},
   "outputs": [
    {
     "data": {
      "text/html": [
       "<div>\n",
       "<style scoped>\n",
       "    .dataframe tbody tr th:only-of-type {\n",
       "        vertical-align: middle;\n",
       "    }\n",
       "\n",
       "    .dataframe tbody tr th {\n",
       "        vertical-align: top;\n",
       "    }\n",
       "\n",
       "    .dataframe thead th {\n",
       "        text-align: right;\n",
       "    }\n",
       "</style>\n",
       "<table border=\"1\" class=\"dataframe\">\n",
       "  <thead>\n",
       "    <tr style=\"text-align: right;\">\n",
       "      <th></th>\n",
       "      <th>Date</th>\n",
       "      <th>BTC-USD</th>\n",
       "      <th>VIX</th>\n",
       "    </tr>\n",
       "  </thead>\n",
       "  <tbody>\n",
       "    <tr>\n",
       "      <th>0</th>\n",
       "      <td>2019-05-15</td>\n",
       "      <td>8180.4250</td>\n",
       "      <td>16.440001</td>\n",
       "    </tr>\n",
       "    <tr>\n",
       "      <th>1</th>\n",
       "      <td>2019-05-16</td>\n",
       "      <td>7875.1633</td>\n",
       "      <td>15.290000</td>\n",
       "    </tr>\n",
       "    <tr>\n",
       "      <th>2</th>\n",
       "      <td>2019-05-17</td>\n",
       "      <td>7376.8533</td>\n",
       "      <td>15.960000</td>\n",
       "    </tr>\n",
       "    <tr>\n",
       "      <th>3</th>\n",
       "      <td>2019-05-20</td>\n",
       "      <td>7995.9650</td>\n",
       "      <td>16.309999</td>\n",
       "    </tr>\n",
       "    <tr>\n",
       "      <th>4</th>\n",
       "      <td>2019-05-21</td>\n",
       "      <td>7945.0450</td>\n",
       "      <td>14.950000</td>\n",
       "    </tr>\n",
       "  </tbody>\n",
       "</table>\n",
       "</div>"
      ],
      "text/plain": [
       "         Date    BTC-USD        VIX\n",
       "0  2019-05-15  8180.4250  16.440001\n",
       "1  2019-05-16  7875.1633  15.290000\n",
       "2  2019-05-17  7376.8533  15.960000\n",
       "3  2019-05-20  7995.9650  16.309999\n",
       "4  2019-05-21  7945.0450  14.950000"
      ]
     },
     "execution_count": 511,
     "metadata": {},
     "output_type": "execute_result"
    }
   ],
   "source": [
    "data_btc_vix.head()"
   ]
  },
  {
   "cell_type": "code",
   "execution_count": 515,
   "metadata": {},
   "outputs": [
    {
     "data": {
      "text/html": [
       "<div>\n",
       "<style scoped>\n",
       "    .dataframe tbody tr th:only-of-type {\n",
       "        vertical-align: middle;\n",
       "    }\n",
       "\n",
       "    .dataframe tbody tr th {\n",
       "        vertical-align: top;\n",
       "    }\n",
       "\n",
       "    .dataframe thead th {\n",
       "        text-align: right;\n",
       "    }\n",
       "</style>\n",
       "<table border=\"1\" class=\"dataframe\">\n",
       "  <thead>\n",
       "    <tr style=\"text-align: right;\">\n",
       "      <th></th>\n",
       "      <th>Date</th>\n",
       "      <th>Volumen BTC</th>\n",
       "      <th>BTC-USD</th>\n",
       "      <th>SP500-USD</th>\n",
       "      <th>Volumen SP500</th>\n",
       "      <th>VIX</th>\n",
       "    </tr>\n",
       "  </thead>\n",
       "  <tbody>\n",
       "    <tr>\n",
       "      <th>0</th>\n",
       "      <td>2019-05-15</td>\n",
       "      <td>4.219687</td>\n",
       "      <td>8180.4250</td>\n",
       "      <td>285.059998</td>\n",
       "      <td>73956400</td>\n",
       "      <td>16.440001</td>\n",
       "    </tr>\n",
       "    <tr>\n",
       "      <th>1</th>\n",
       "      <td>2019-05-16</td>\n",
       "      <td>4.287891</td>\n",
       "      <td>7875.1633</td>\n",
       "      <td>287.700012</td>\n",
       "      <td>76749600</td>\n",
       "      <td>15.290000</td>\n",
       "    </tr>\n",
       "    <tr>\n",
       "      <th>2</th>\n",
       "      <td>2019-05-17</td>\n",
       "      <td>4.114193</td>\n",
       "      <td>7376.8533</td>\n",
       "      <td>285.839996</td>\n",
       "      <td>100353000</td>\n",
       "      <td>15.960000</td>\n",
       "    </tr>\n",
       "    <tr>\n",
       "      <th>3</th>\n",
       "      <td>2019-05-20</td>\n",
       "      <td>4.347917</td>\n",
       "      <td>7995.9650</td>\n",
       "      <td>283.950012</td>\n",
       "      <td>62877600</td>\n",
       "      <td>16.309999</td>\n",
       "    </tr>\n",
       "    <tr>\n",
       "      <th>4</th>\n",
       "      <td>2019-05-21</td>\n",
       "      <td>4.126146</td>\n",
       "      <td>7945.0450</td>\n",
       "      <td>286.510010</td>\n",
       "      <td>46847100</td>\n",
       "      <td>14.950000</td>\n",
       "    </tr>\n",
       "  </tbody>\n",
       "</table>\n",
       "</div>"
      ],
      "text/plain": [
       "         Date  Volumen BTC    BTC-USD   SP500-USD  Volumen SP500        VIX\n",
       "0  2019-05-15     4.219687  8180.4250  285.059998       73956400  16.440001\n",
       "1  2019-05-16     4.287891  7875.1633  287.700012       76749600  15.290000\n",
       "2  2019-05-17     4.114193  7376.8533  285.839996      100353000  15.960000\n",
       "3  2019-05-20     4.347917  7995.9650  283.950012       62877600  16.309999\n",
       "4  2019-05-21     4.126146  7945.0450  286.510010       46847100  14.950000"
      ]
     },
     "execution_count": 515,
     "metadata": {},
     "output_type": "execute_result"
    }
   ],
   "source": [
    "###Hemos decidido juntar la tabla de VIX con SP500 por fehca, para encontrar relaciones con nuestros 3 activos e indicadores (VIX,BTC,SP500)\n",
    "\n",
    "data_total=data_btc_sp500.merge(data_btc_vix[[\"Date\",\"VIX\"]],on=\"Date\")\n",
    "data_total.head()"
   ]
  },
  {
   "cell_type": "code",
   "execution_count": 526,
   "metadata": {},
   "outputs": [],
   "source": [
    "###Convertiremos la columna Date de str a un timestamp para que sea más útil como una serie de tiempo\n",
    "data_total[\"Date\"]=pd.to_datetime(data_total[\"Date\"])"
   ]
  },
  {
   "cell_type": "code",
   "execution_count": 529,
   "metadata": {},
   "outputs": [
    {
     "data": {
      "text/plain": [
       "pandas._libs.tslibs.timestamps.Timestamp"
      ]
     },
     "execution_count": 529,
     "metadata": {},
     "output_type": "execute_result"
    }
   ],
   "source": [
    "type(data_total[\"Date\"][0])"
   ]
  },
  {
   "cell_type": "code",
   "execution_count": 533,
   "metadata": {},
   "outputs": [],
   "source": [
    "###Convertimos columna Date en index\n",
    "data_total=data_total.set_index(\"Date\")"
   ]
  },
  {
   "cell_type": "code",
   "execution_count": 690,
   "metadata": {},
   "outputs": [
    {
     "data": {
      "text/html": [
       "<div>\n",
       "<style scoped>\n",
       "    .dataframe tbody tr th:only-of-type {\n",
       "        vertical-align: middle;\n",
       "    }\n",
       "\n",
       "    .dataframe tbody tr th {\n",
       "        vertical-align: top;\n",
       "    }\n",
       "\n",
       "    .dataframe thead th {\n",
       "        text-align: right;\n",
       "    }\n",
       "</style>\n",
       "<table border=\"1\" class=\"dataframe\">\n",
       "  <thead>\n",
       "    <tr style=\"text-align: right;\">\n",
       "      <th></th>\n",
       "      <th>Volumen BTC</th>\n",
       "      <th>BTC-USD</th>\n",
       "      <th>SP500-USD</th>\n",
       "      <th>Volumen SP500</th>\n",
       "      <th>VIX</th>\n",
       "    </tr>\n",
       "    <tr>\n",
       "      <th>Date</th>\n",
       "      <th></th>\n",
       "      <th></th>\n",
       "      <th></th>\n",
       "      <th></th>\n",
       "      <th></th>\n",
       "    </tr>\n",
       "  </thead>\n",
       "  <tbody>\n",
       "    <tr>\n",
       "      <th>2019-05-15</th>\n",
       "      <td>4.219687</td>\n",
       "      <td>8180.4250</td>\n",
       "      <td>285.059998</td>\n",
       "      <td>73956400</td>\n",
       "      <td>16.440001</td>\n",
       "    </tr>\n",
       "    <tr>\n",
       "      <th>2019-05-16</th>\n",
       "      <td>4.287891</td>\n",
       "      <td>7875.1633</td>\n",
       "      <td>287.700012</td>\n",
       "      <td>76749600</td>\n",
       "      <td>15.290000</td>\n",
       "    </tr>\n",
       "    <tr>\n",
       "      <th>2019-05-17</th>\n",
       "      <td>4.114193</td>\n",
       "      <td>7376.8533</td>\n",
       "      <td>285.839996</td>\n",
       "      <td>100353000</td>\n",
       "      <td>15.960000</td>\n",
       "    </tr>\n",
       "    <tr>\n",
       "      <th>2019-05-20</th>\n",
       "      <td>4.347917</td>\n",
       "      <td>7995.9650</td>\n",
       "      <td>283.950012</td>\n",
       "      <td>62877600</td>\n",
       "      <td>16.309999</td>\n",
       "    </tr>\n",
       "    <tr>\n",
       "      <th>2019-05-21</th>\n",
       "      <td>4.126146</td>\n",
       "      <td>7945.0450</td>\n",
       "      <td>286.510010</td>\n",
       "      <td>46847100</td>\n",
       "      <td>14.950000</td>\n",
       "    </tr>\n",
       "  </tbody>\n",
       "</table>\n",
       "</div>"
      ],
      "text/plain": [
       "            Volumen BTC    BTC-USD   SP500-USD  Volumen SP500        VIX\n",
       "Date                                                                    \n",
       "2019-05-15     4.219687  8180.4250  285.059998       73956400  16.440001\n",
       "2019-05-16     4.287891  7875.1633  287.700012       76749600  15.290000\n",
       "2019-05-17     4.114193  7376.8533  285.839996      100353000  15.960000\n",
       "2019-05-20     4.347917  7995.9650  283.950012       62877600  16.309999\n",
       "2019-05-21     4.126146  7945.0450  286.510010       46847100  14.950000"
      ]
     },
     "execution_count": 690,
     "metadata": {},
     "output_type": "execute_result"
    }
   ],
   "source": [
    "data_total.head()"
   ]
  },
  {
   "cell_type": "code",
   "execution_count": 691,
   "metadata": {},
   "outputs": [],
   "source": [
    "data_total.to_csv(\"data_total.csv\",index=True)"
   ]
  },
  {
   "cell_type": "code",
   "execution_count": 536,
   "metadata": {},
   "outputs": [
    {
     "data": {
      "text/plain": [
       "-0.500923225463283"
      ]
     },
     "execution_count": 536,
     "metadata": {},
     "output_type": "execute_result"
    }
   ],
   "source": [
    "data_total[\"BTC-USD\"].corr(data_total[\"VIX\"])"
   ]
  },
  {
   "cell_type": "code",
   "execution_count": 697,
   "metadata": {},
   "outputs": [
    {
     "data": {
      "text/plain": [
       "-0.7626476690486458"
      ]
     },
     "execution_count": 697,
     "metadata": {},
     "output_type": "execute_result"
    }
   ],
   "source": [
    "data_total[\"Volumen BTC\"][-30:].corr(data_total[\"Volumen SP500\"][-30:])"
   ]
  },
  {
   "cell_type": "code",
   "execution_count": 698,
   "metadata": {},
   "outputs": [
    {
     "data": {
      "text/plain": [
       "-0.277132321951885"
      ]
     },
     "execution_count": 698,
     "metadata": {},
     "output_type": "execute_result"
    }
   ],
   "source": [
    "data_total[\"Volumen BTC\"].corr(data_total[\"Volumen SP500\"])"
   ]
  },
  {
   "cell_type": "code",
   "execution_count": 538,
   "metadata": {},
   "outputs": [
    {
     "data": {
      "text/plain": [
       "0.28044950906355404"
      ]
     },
     "execution_count": 538,
     "metadata": {},
     "output_type": "execute_result"
    }
   ],
   "source": [
    "data_total[\"BTC-USD\"].corr(data_total[\"SP500-USD\"])"
   ]
  },
  {
   "cell_type": "code",
   "execution_count": 539,
   "metadata": {},
   "outputs": [
    {
     "data": {
      "text/plain": [
       "-0.7407100762432254"
      ]
     },
     "execution_count": 539,
     "metadata": {},
     "output_type": "execute_result"
    }
   ],
   "source": [
    "data_total[\"VIX\"].corr(data_total[\"SP500-USD\"])"
   ]
  },
  {
   "cell_type": "code",
   "execution_count": 693,
   "metadata": {},
   "outputs": [
    {
     "data": {
      "image/png": "[encoded data removed]",
      "text/plain": [
       "<Figure size 432x288 with 2 Axes>"
      ]
     },
     "metadata": {
      "needs_background": "light"
     },
     "output_type": "display_data"
    }
   ],
   "source": [
    "# create figure and axis objects with subplots()\n",
    "fig,ax = plt.subplots()\n",
    "# make a plot\n",
    "ax.plot(data_total.index, data_total[\"VIX\"], color=\"red\", marker=\".\")\n",
    "# set x-axis label\n",
    "ax.set_xlabel(\"Date\",fontsize=14)\n",
    "# set y-axis label\n",
    "ax.set_ylabel(\"VIX\",color=\"red\",fontsize=14)\n",
    "\n",
    "# twin object for two different y-axis on the sample plot\n",
    "ax2=ax.twinx()\n",
    "# make a plot with different y-axis using second axis object\n",
    "ax2.plot(data_total.index, data_total[\"SP500-USD\"],color=\"blue\",marker=\".\")\n",
    "ax2.set_ylabel(\"SP500\",color=\"blue\",fontsize=14)\n",
    "plt.show()\n",
    "fig.savefig('VIX-SP500.png',\n",
    "            format='png',\n",
    "            dpi=500,\n",
    "            bbox_inches='tight')"
   ]
  },
  {
   "cell_type": "code",
   "execution_count": 694,
   "metadata": {},
   "outputs": [
    {
     "data": {
      "image/png": "[encoded data removed]",
      "text/plain": [
       "<Figure size 432x288 with 2 Axes>"
      ]
     },
     "metadata": {
      "needs_background": "light"
     },
     "output_type": "display_data"
    }
   ],
   "source": [
    "# create figure and axis objects with subplots()\n",
    "fig,ax = plt.subplots()\n",
    "# make a plot\n",
    "ax.plot(data_total.index, data_total[\"BTC-USD\"], color=\"red\", marker=\".\")\n",
    "# set x-axis label\n",
    "ax.set_xlabel(\"Date\",fontsize=14)\n",
    "# set y-axis label\n",
    "ax.set_ylabel(\"BTC-USD\",color=\"red\",fontsize=14)\n",
    "\n",
    "# twin object for two different y-axis on the sample plot\n",
    "ax2=ax.twinx()\n",
    "# make a plot with different y-axis using second axis object\n",
    "ax2.plot(data_total.index, data_total[\"SP500-USD\"],color=\"blue\",marker=\".\")\n",
    "ax2.set_ylabel(\"SP500\",color=\"blue\",fontsize=14)\n",
    "plt.show()\n",
    "fig.savefig('BTC-SP500.png',\n",
    "            format='png',\n",
    "            dpi=500,\n",
    "            bbox_inches='tight')"
   ]
  },
  {
   "cell_type": "code",
   "execution_count": 695,
   "metadata": {},
   "outputs": [
    {
     "data": {
      "image/png": "[encoded data removed]",
      "text/plain": [
       "<Figure size 432x288 with 2 Axes>"
      ]
     },
     "metadata": {
      "needs_background": "light"
     },
     "output_type": "display_data"
    }
   ],
   "source": [
    "# create figure and axis objects with subplots()\n",
    "fig,ax = plt.subplots()\n",
    "# make a plot\n",
    "ax.plot(data_total.index, data_total[\"Volumen BTC\"], color=\"red\", marker=\".\")\n",
    "# set x-axis label\n",
    "ax.set_xlabel(\"Date\",fontsize=14)\n",
    "# set y-axis label\n",
    "ax.set_ylabel(\"Volumen BTC\",color=\"red\",fontsize=14)\n",
    "\n",
    "# twin object for two different y-axis on the sample plot\n",
    "ax2=ax.twinx()\n",
    "# make a plot with different y-axis using second axis object\n",
    "ax2.plot(data_total.index, data_total[\"Volumen SP500\"],color=\"blue\",marker=\".\")\n",
    "ax2.set_ylabel(\"Volumen SP500\",color=\"blue\",fontsize=14)\n",
    "plt.show()\n",
    "fig.savefig('Volumen BTC-SP500.png',\n",
    "            format='png',\n",
    "            dpi=500,\n",
    "            bbox_inches='tight')"
   ]
  },
  {
   "cell_type": "code",
   "execution_count": 696,
   "metadata": {},
   "outputs": [
    {
     "data": {
      "image/png": "[encoded data removed]",
      "text/plain": [
       "<Figure size 432x288 with 2 Axes>"
      ]
     },
     "metadata": {
      "needs_background": "light"
     },
     "output_type": "display_data"
    }
   ],
   "source": [
    "# create figure and axis objects with subplots()\n",
    "fig,ax = plt.subplots()\n",
    "# make a plot\n",
    "ax.plot(data_total.index, data_total[\"BTC-USD\"], color=\"red\", marker=\".\")\n",
    "# set x-axis label\n",
    "ax.set_xlabel(\"Date\",fontsize=14)\n",
    "# set y-axis label\n",
    "ax.set_ylabel(\"BTC-USD\",color=\"red\",fontsize=14)\n",
    "\n",
    "# twin object for two different y-axis on the sample plot\n",
    "ax2=ax.twinx()\n",
    "# make a plot with different y-axis using second axis object\n",
    "ax2.plot(data_total.index, data_total[\"VIX\"],color=\"blue\",marker=\".\")\n",
    "ax2.set_ylabel(\"VIX\",color=\"blue\",fontsize=14)\n",
    "plt.show()\n",
    "fig.savefig('Volumen BTCUSD-VIX.png',\n",
    "            format='png',\n",
    "            dpi=500,\n",
    "            bbox_inches='tight')"
   ]
  },
  {
   "cell_type": "code",
   "execution_count": null,
   "metadata": {},
   "outputs": [],
   "source": []
  }
 ],
 "metadata": {
  "kernelspec": {
   "display_name": "Python 3",
   "language": "python",
   "name": "python3"
  },
  "language_info": {
   "codemirror_mode": {
    "name": "ipython",
    "version": 3
   },
   "file_extension": ".py",
   "mimetype": "text/x-python",
   "name": "python",
   "nbconvert_exporter": "python",
   "pygments_lexer": "ipython3",
   "version": "3.6.2"
  }
 },
 "nbformat": 4,
 "nbformat_minor": 4
}
