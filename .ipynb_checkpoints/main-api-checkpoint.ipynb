{
 "cells": [
  {
   "cell_type": "markdown",
   "metadata": {},
   "source": [
    "### Importing libraries / declaring classes"
   ]
  },
  {
   "cell_type": "code",
   "execution_count": null,
   "metadata": {},
   "outputs": [],
   "source": [
    "import os\n",
    "from selenium import webdriver\n",
    "import time\n",
    "from bs4 import BeautifulSoup\n",
    "import json\n",
    "import re\n",
    "import pandas as pd\n",
    "from pandas.io.json import json_normalize\n",
    "import urllib.request\n",
    "import requests\n",
    "from requests import Request, Session\n",
    "from requests.exceptions import ConnectionError, Timeout, TooManyRedirects"
   ]
  },
  {
   "cell_type": "code",
   "execution_count": null,
   "metadata": {},
   "outputs": [],
   "source": [
    "class color:\n",
    "    \"\"\"This class displays text in color when their attributes are called \"\"\"\n",
    "    PURPLE = '\\033[95m'\n",
    "    CYAN = '\\033[96m'\n",
    "    DARKCYAN = '\\033[36m'\n",
    "    BLUE = '\\033[94m'\n",
    "    GREEN = '\\033[92m'\n",
    "    YELLOW = '\\033[93m'\n",
    "    RED = '\\033[91m'\n",
    "    BOLD = '\\033[1m'\n",
    "    UNDERLINE = '\\033[4m'\n",
    "    END = '\\033[0m'"
   ]
  },
  {
   "cell_type": "markdown",
   "metadata": {},
   "source": [
    "### Initializing selenium webdriver"
   ]
  },
  {
   "cell_type": "code",
   "execution_count": null,
   "metadata": {},
   "outputs": [],
   "source": [
    "def get_driver(browser):\n",
    "    \"\"\"This function asks the user for the directory of the selenium webdriver until it is correctly given\"\"\"\n",
    "    while True:\n",
    "        try:\n",
    "            directory = input(\"Please enter the directory where the selenium webdriver is on your computer\")\n",
    "            access = getattr(webdriver, browser)\n",
    "            driver = access(directory)\n",
    "            driver.get(\"https://coinmarketcap.com/api/documentation/v1/#section/Errors-and-Rate-Limits\")\n",
    "            time.sleep(5)\n",
    "            page_source = driver.page_source\n",
    "            time.sleep(3)\n",
    "            driver.quit()\n",
    "            return page_source\n",
    "            break\n",
    "        except:\n",
    "            print(f\"{color.RED}Not a valid {browser} webdriver location{color.END}\")"
   ]
  },
  {
   "cell_type": "markdown",
   "metadata": {},
   "source": [
    "### Scraping info"
   ]
  },
  {
   "cell_type": "code",
   "execution_count": null,
   "metadata": {},
   "outputs": [],
   "source": [
    "def get_browsers():\n",
    "    \"\"\"This functions scraps the list of available browsers for selenium's webdriver\"\"\"\n",
    "    url = 'https://pypi.org/project/selenium/'\n",
    "    html = requests.get(url).content\n",
    "    soup = BeautifulSoup(html,'lxml')\n",
    "    browsers = soup.select('div[class=\"project-description\"] > div[id=\"drivers\"] > table > tbody > tr > td > strong')\n",
    "    browsers_clean = [element.text for element in browsers]\n",
    "    return browsers_clean"
   ]
  },
  {
   "cell_type": "code",
   "execution_count": null,
   "metadata": {},
   "outputs": [],
   "source": [
    "def define_browser(browsers):\n",
    "    \"\"\"This functions ensures that the user gives a supported browser by selenium's webdriver\"\"\"\n",
    "    while True:\n",
    "        print(f\"{color.BOLD}Options: {color.END}{', '.join(browsers)}\")\n",
    "        browser = input(\"What browser are you using for selenium's webdriver?\")\n",
    "        if browser.capitalize() in browsers:\n",
    "            print(f\"{color.GREEN}Valid browser{color.END}\")\n",
    "            return browser.capitalize()\n",
    "            break\n",
    "        else:\n",
    "            print(f\"{color.RED}Not a valid browser{color.END}\")"
   ]
  },
  {
   "cell_type": "code",
   "execution_count": null,
   "metadata": {},
   "outputs": [],
   "source": [
    "def get_errors(page_source):\n",
    "    \"\"\"\"This function scraps the CoinMarketCap webpage to\n",
    "    determine what type of error you are getting when a \n",
    "    connection can not be established\"\"\"\n",
    "    soup = BeautifulSoup(page_source, 'lxml')\n",
    "    data = soup.select('td')\n",
    "    vals = [data[i].text for i in range(len(data))]\n",
    "    \n",
    "    #Scraping the first occurrence of the error\n",
    "    for i in range(len(vals)):\n",
    "        if vals[i] == '401':\n",
    "            table = vals[i:]\n",
    "            break\n",
    "            \n",
    "    #Scraping the last occurrence of the error\n",
    "    for i in range(len(table)):\n",
    "        if (\"You've hit an IP rate limit\") in table[i]:\n",
    "            results = table[:i+1]\n",
    "\n",
    "    del results[1::3] \n",
    "\n",
    "    error_keys = results[0::2]\n",
    "    error_values = results[1::2]\n",
    "    \n",
    "    #Returning a dictonary of errors {status code : description}\n",
    "    errors = dict(zip(error_keys, error_values))\n",
    "    return errors"
   ]
  },
  {
   "cell_type": "code",
   "execution_count": null,
   "metadata": {},
   "outputs": [],
   "source": [
    "def get_currency_code(page_source):\n",
    "    \"\"\"\"This function scraps the CoinMarketCap webpage to\n",
    "    get a list of all the supported currencies\"\"\"\n",
    "    soup = BeautifulSoup(page_source, 'lxml')\n",
    "    data_2 = soup.select('td')\n",
    "    vals_2 = [data_2[i].text for i in range(len(data_2))]\n",
    "\n",
    "    #Scraping the first value\n",
    "    for i in range(len(vals_2)):\n",
    "        if vals_2[i] == 'United States Dollar ($)':\n",
    "            table_2 = vals_2[i:]\n",
    "            break\n",
    "            \n",
    "    #Scraping the last value\n",
    "    for i in range(len(table_2)):\n",
    "        if (\"VND\") in table_2[i]:\n",
    "            results_2 = table_2[:i+1]\n",
    "    \n",
    "    #Returning a dictionary of {currency code = description}\n",
    "    currencies = dict(zip(results_2[1::3],results_2[0::3]))\n",
    "    return currencies"
   ]
  },
  {
   "cell_type": "markdown",
   "metadata": {},
   "source": [
    "### Getting user inputs"
   ]
  },
  {
   "cell_type": "code",
   "execution_count": null,
   "metadata": {},
   "outputs": [],
   "source": [
    "def check_path(): \n",
    "    \"\"\"\"This function ensures that the path where the user wants to save the csv file is valid\"\"\"\n",
    "    while True:\n",
    "        path = input(\"Where would you like to save your csv file? (Hint: it should be a path on your computer)\")\n",
    "        isDir = os.path.isdir(path) \n",
    "        if isDir == True:\n",
    "            print(f\"{color.GREEN}Valid path{color.END}\")\n",
    "            return path\n",
    "            break\n",
    "        else:\n",
    "            print(f\"{color.RED}Invalid path{color.END}\")"
   ]
  },
  {
   "cell_type": "code",
   "execution_count": null,
   "metadata": {},
   "outputs": [],
   "source": [
    "def file_name(path):\n",
    "    \"\"\"\"This function forces the user to name the csv file with illegal or avoidable characters and/or\n",
    "    that have a lenght over 31 characters\"\"\"\n",
    "    \n",
    "    #Regex to find occurrences of illegal/avoidable character\n",
    "    while True:\n",
    "        filename = input(\"Please choose the name of your csv file\")\n",
    "        invalid_characters = re.findall(r'[#%&{}\\\\\\\\<>*?/$!\\'\":@+`|=\\s]',filename)\n",
    "        if (len(filename) == 0):\n",
    "            invalid_characters = [' ']\n",
    "        if(len(invalid_characters)>0 or len(filename)>31):\n",
    "            if(len(invalid_characters)>0):\n",
    "                list_set = set(invalid_characters) \n",
    "                unique_list = (list(list_set)) \n",
    "                for i in unique_list:\n",
    "                    if i == unique_list[len(unique_list)-1]:\n",
    "                        if i == ' ':\n",
    "                            i = 'blank spaces'\n",
    "                        print(f\"{color.RED}{i}{color.END} are characters to avoid in filenames, please choose another name.\")\n",
    "                    else:\n",
    "                        if i == ' ':\n",
    "                            i = 'blank spaces'\n",
    "                        print(f\"{color.RED}{i}{color.END}\",end =\", \")\n",
    "            #Check if the lenght is under 31 characters\n",
    "            if (len(filename)>31):\n",
    "                print(\"Please keep your filenames to a reasonable length and be sure they are under 31 characters\")\n",
    "        else:\n",
    "            print(f\"{color.GREEN}{filename}{color.END} is a valid filename\")\n",
    "            #Find if a slash is needed at the end of the path based on the user's path given and appending the file format\n",
    "            if path[-1] == '/':\n",
    "                full_filename = f\"{path}{filename}.csv\"\n",
    "                return full_filename\n",
    "            else:\n",
    "                full_filename = f\"{path}/{filename}.csv\"\n",
    "                return full_filename\n",
    "            break"
   ]
  },
  {
   "cell_type": "code",
   "execution_count": null,
   "metadata": {},
   "outputs": [],
   "source": [
    "def get_currency(currencies):\n",
    "    \"\"\"\"This function makes sure that the currency given by the user is supported by CoinMarketCap\"\"\"\n",
    "    while True:\n",
    "        currency = str(input(\"What currency would you like to convert to? Hint: It must be a currency code (ISO 8601)\").upper())\n",
    "        if currency in currencies:\n",
    "            print(f\"The currency is {color.BOLD}{currency}: {currencies[currency]}{color.END}\")\n",
    "            return currency\n",
    "            break\n",
    "        else:\n",
    "            print(f\"{color.RED}That's not a valid currency{color.END}\")"
   ]
  },
  {
   "cell_type": "code",
   "execution_count": null,
   "metadata": {},
   "outputs": [],
   "source": [
    "def get_limit():\n",
    "    \"\"\"\"This function asks the user for a limit of coins to be displayed\"\"\"\n",
    "    while True:\n",
    "        try:\n",
    "            limit = int(input(\"How many coins would you like to see?\"))\n",
    "            #If it exceeds the limit (5000 coins), ask the user to give a smaller amount \n",
    "            if limit > 5000:\n",
    "                print(\"Please provide a smaller number\")\n",
    "            else:\n",
    "                print(f\"Limit set to {color.BOLD}{limit}{color.END} coins\")\n",
    "                return limit\n",
    "                break\n",
    "        except ValueError:\n",
    "            print(f\"{color.RED}That's not a valid number{color.END}\")"
   ]
  },
  {
   "cell_type": "code",
   "execution_count": null,
   "metadata": {},
   "outputs": [],
   "source": [
    "def call_API(limit, currency, errors):\n",
    "    \"\"\"This functions calls the CoinMarketCap API and outputs the result as\n",
    "    json based on the parameters previosly given by the user\n",
    "    \"\"\"\n",
    "    \n",
    "    print(\"If you don't have a CoinMarketCap API key, you can get one free by creating an account at:\\n\\\n",
    "https://pro.coinmarketcap.com/signup\")\n",
    "    \n",
    "    while True:\n",
    "        url = 'https://pro-api.coinmarketcap.com/v1/cryptocurrency/listings/latest'\n",
    "        API_key = input(\"Please provide your CoinMarketCap API key: \")\n",
    "\n",
    "        parameters = {\n",
    "          'start':'1',\n",
    "          'limit': limit,\n",
    "          'convert': currency\n",
    "        }\n",
    "        headers = {'Accepts': 'application/json','X-CMC_PRO_API_KEY': API_key.strip(),}\n",
    "\n",
    "        session = Session()\n",
    "        session.headers.update(headers)\n",
    "\n",
    "        try:\n",
    "            #If a connection can not be established, print the error status code previously scraped \n",
    "            response = session.get(url, params=parameters)\n",
    "            response_number = re.findall(r'\\d+',str(response))[0]\n",
    "            if response_number in errors:\n",
    "                for i in errors:\n",
    "                    if response_number == i:\n",
    "                        print(f\"{color.RED}{i}: {errors[i]} {color.END}\")\n",
    "            else:\n",
    "                #Returns json \n",
    "                print(f\"{color.GREEN}API key is valid{color.END}\")\n",
    "                data = json.loads(response.text)\n",
    "                return(data)\n",
    "                break\n",
    "\n",
    "        except (ConnectionError, Timeout, TooManyRedirects) as e:\n",
    "            print(e)"
   ]
  },
  {
   "cell_type": "code",
   "execution_count": null,
   "metadata": {},
   "outputs": [],
   "source": [
    "def sort_type():\n",
    "    \"\"\"This function determines wether the user wants to sort the \n",
    "    DataFrame in ascending or descending order\"\"\"\n",
    "    while True:\n",
    "        sorting = input(\"Would you like an ascending sorting? Y/N?\")\n",
    "        if sorting.lower() == \"y\":\n",
    "            tipo = 'ascending'\n",
    "            return tipo\n",
    "            break\n",
    "        if sorting.lower() == \"n\":\n",
    "            tipo = 'descending'\n",
    "            return tipo\n",
    "            break\n",
    "        else:\n",
    "            print(f\"{color.RED}Invalid input{color.END}\")"
   ]
  },
  {
   "cell_type": "code",
   "execution_count": null,
   "metadata": {},
   "outputs": [],
   "source": [
    "def sort_value(type):\n",
    "    \"\"\"Returns True or False depending on the user's choice to sort the DataFrame\"\"\"\n",
    "    if type == 'ascending':\n",
    "        return True\n",
    "    else:\n",
    "        return False"
   ]
  },
  {
   "cell_type": "markdown",
   "metadata": {},
   "source": [
    "### DataFrame display and visualization"
   ]
  },
  {
   "cell_type": "code",
   "execution_count": null,
   "metadata": {},
   "outputs": [],
   "source": [
    "def flatten(data, col_list):\n",
    "    \"\"\"Flattens the data given within a DataFrame for each column specified in the 'col_list' parameter\n",
    "    and appends it to the DataFrame\"\"\"\n",
    "    for column in col_list:\n",
    "        flattened = pd.DataFrame(dict(data[column])).transpose()\n",
    "        columns = [str(col) for col in flattened.columns]\n",
    "        flattened.columns = [column + '_' + colname for colname in columns]\n",
    "        data = pd.concat([data, flattened], axis=1)\n",
    "        #Drops the previously semi-structured json data witihin the column\n",
    "        data = data.drop(column, axis=1)\n",
    "    return data"
   ]
  },
  {
   "cell_type": "code",
   "execution_count": null,
   "metadata": {
    "scrolled": true
   },
   "outputs": [],
   "source": [
    "def cleaning_columns(data, currency):\n",
    "    \"\"\"This function selects the most important columns to display in the DataFrame with the correct format\"\"\"\n",
    "    df = pd.DataFrame(data['data'])\n",
    "    #Columns that have to be flattened\n",
    "    nested_columns = ['quote',f'quote_{currency}']\n",
    "    #Flattening the columns\n",
    "    flat = flatten(df, nested_columns)\n",
    "    #Selecting most relevant columns\n",
    "    result = flat[['name', 'symbol','cmc_rank',f'quote_{currency}_price',f'quote_{currency}_volume_24h',\\\n",
    "                   f'quote_{currency}_percent_change_1h', f'quote_{currency}_percent_change_24h',\n",
    "                   f'quote_{currency}_percent_change_7d',f'quote_{currency}_market_cap']]\n",
    "    #Renaming the columns\n",
    "    result.columns = ['Coin name', 'Symbol','CMC rank',f'Price ({currency})','24h volume','1h % change',\\\n",
    "          '24h % change','7d % change','Market cap']\n",
    "    return result"
   ]
  },
  {
   "cell_type": "code",
   "execution_count": null,
   "metadata": {},
   "outputs": [],
   "source": [
    "def sorted_table(result):\n",
    "    \"\"\"This function asks the user to give the column for the DataFrame to be sorted\"\"\"\n",
    "    #Displaying only 5 decimals\n",
    "    pd.options.display.float_format = '{:,.5f}'.format\n",
    "    options = [i for i in result.columns]\n",
    "    options_case = [i.lower() for i in result.columns]\n",
    "    \n",
    "    #Printing the columns the DataFrame can be sorted\n",
    "    while True: \n",
    "        print(f\"{color.BOLD}Options: {color.END}\")\n",
    "        \n",
    "        for i in options:\n",
    "            if i == options[len(options)-1]:\n",
    "                print(i,end =\".\\n\")\n",
    "            else:\n",
    "                print(i,end =\", \")\n",
    "                \n",
    "        sort_option = input(\"How would you like to sort the table?\\n\")\n",
    "        if sort_option.lower() not in options_case:\n",
    "            print(f\"{color.RED}That's not a valid sorting option{color.END}\")\n",
    "        else:\n",
    "            #Returning the column name for the data to be sorted\n",
    "            for i in range(len(options_case)):\n",
    "                if options_case[i] == sort_option.lower():\n",
    "                    return options[i]\n",
    "            break"
   ]
  },
  {
   "cell_type": "code",
   "execution_count": null,
   "metadata": {},
   "outputs": [],
   "source": [
    "def display_result(result, currency, limit, sort_col,currencies,s_type):\n",
    "    \"\"\"This function gathers all the variables for the DataFrame to be displayed given the user's requests\"\"\"\n",
    "    sorted_result = result.sort_values(by=sort_col, ascending=sort_value(s_type))\n",
    "    print(f\"{color.UNDERLINE}DataFrame created for top {limit} coins with prices displayed on {currencies[currency][:-4]}'s, sorted by '{sort_col}' ({s_type}){color.END}\")\n",
    "    return sorted_result"
   ]
  },
  {
   "cell_type": "markdown",
   "metadata": {},
   "source": [
    "### Running all functions"
   ]
  },
  {
   "cell_type": "code",
   "execution_count": null,
   "metadata": {},
   "outputs": [],
   "source": [
    "def my_function():\n",
    "    \"\"\"This function calls all of the other functions for the API to retrieve the required coin data and\n",
    "    save it as a csv file in a specific directory\"\"\"\n",
    "    \n",
    "    print(\"Initializing function...\")\n",
    "    #Retrives path and directory for the csv file to be saved\n",
    "    path = check_path()\n",
    "    full_path = file_name(path)\n",
    "    \n",
    "    #Starts selenium's webdriver to scrap CoinMarketCap's data for the user to give valid inputs\n",
    "    print(\"Starting driver...\")\n",
    "    browsers_list = get_browsers()\n",
    "    browser = define_browser(browsers_list)\n",
    "    source = get_driver(browser)\n",
    "    print(f\"{color.GREEN}Driver started{color.END}\")\n",
    "    print(\"Getting info...\")\n",
    "    errors = get_errors(source)\n",
    "    codes = get_currency_code(source)\n",
    "    print(f\"{color.GREEN}Successfully received{color.END}\")\n",
    "    currency = get_currency(codes)\n",
    "    limit = get_limit()\n",
    "    \n",
    "    #Calls the API to retrieve all the coin data based on the user's given requests\n",
    "    data = call_API(limit, currency, errors)\n",
    "    result = cleaning_columns(data, currency)\n",
    "    sort_parameters = sorted_table(result)\n",
    "    order = sort_type()\n",
    "    df_sorted = display_result(result, currency, limit, sort_parameters,codes,order)\n",
    "    \n",
    "    #Saves the DataFrame as a csv file\n",
    "    df_sorted.to_csv(full_path, index=False)\n",
    "    print(f\"{color.GREEN}Successfully saved to: {full_path} {color.END}\")\n",
    "    \n",
    "    return df_sorted"
   ]
  },
  {
   "cell_type": "markdown",
   "metadata": {},
   "source": [
    "### Result"
   ]
  },
  {
   "cell_type": "code",
   "execution_count": null,
   "metadata": {},
   "outputs": [],
   "source": [
    "#Calling the main function\n",
    "clean_df = my_function()"
   ]
  },
  {
   "cell_type": "code",
   "execution_count": null,
   "metadata": {
    "scrolled": true
   },
   "outputs": [],
   "source": [
    "#Print the DataFrame\n",
    "clean_df"
   ]
  }
 ],
 "metadata": {
  "kernelspec": {
   "display_name": "Python 3",
   "language": "python",
   "name": "python3"
  },
  "language_info": {
   "codemirror_mode": {
    "name": "ipython",
    "version": 3
   },
   "file_extension": ".py",
   "mimetype": "text/x-python",
   "name": "python",
   "nbconvert_exporter": "python",
   "pygments_lexer": "ipython3",
   "version": "3.8.3"
  }
 },
 "nbformat": 4,
 "nbformat_minor": 4
}
