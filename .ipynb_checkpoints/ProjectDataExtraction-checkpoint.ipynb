{
 "cells": [
  {
   "cell_type": "markdown",
   "metadata": {},
   "source": [
    "#### Crypto, Stocks and Markets extraction"
   ]
  },
  {
   "cell_type": "code",
   "execution_count": 60,
   "metadata": {},
   "outputs": [],
   "source": [
    "import json\n",
    "import requests\n",
    "import pandas as pd\n",
    "import numpy as np\n",
    "from pprint import pprint\n",
    "import matplotlib.pyplot as plt\n",
    "from alpha_vantage.cryptocurrencies import CryptoCurrencies\n",
    "import asyncio\n",
    "from alpha_vantage.async_support.timeseries import TimeSeries\n",
    "from alpha_vantage.timeseries import TimeSeries\n"
   ]
  },
  {
   "cell_type": "code",
   "execution_count": 8,
   "metadata": {},
   "outputs": [
    {
     "name": "stdout",
     "output_type": "stream",
     "text": [
      "Collecting alpha_vantage\n",
      "  Downloading alpha_vantage-2.2.0.tar.gz (20 kB)\n",
      "Collecting aiohttp\n",
      "  Downloading aiohttp-3.6.2-cp37-cp37m-win32.whl (624 kB)\n",
      "Requirement already satisfied: requests in c:\\programdata\\anaconda3\\lib\\site-packages (from alpha_vantage) (2.22.0)\n",
      "Requirement already satisfied: attrs>=17.3.0 in c:\\programdata\\anaconda3\\lib\\site-packages (from aiohttp->alpha_vantage) (19.3.0)\n",
      "Collecting multidict<5.0,>=4.5\n",
      "  Downloading multidict-4.7.5-cp37-cp37m-win32.whl (46 kB)\n",
      "Collecting yarl<2.0,>=1.0\n",
      "  Downloading yarl-1.4.2-cp37-cp37m-win32.whl (119 kB)\n",
      "Collecting async-timeout<4.0,>=3.0\n",
      "  Downloading async_timeout-3.0.1-py3-none-any.whl (8.2 kB)\n",
      "Requirement already satisfied: chardet<4.0,>=2.0 in c:\\programdata\\anaconda3\\lib\\site-packages (from aiohttp->alpha_vantage) (3.0.4)\n",
      "Requirement already satisfied: certifi>=2017.4.17 in c:\\programdata\\anaconda3\\lib\\site-packages (from requests->alpha_vantage) (2019.11.28)\n",
      "Requirement already satisfied: urllib3!=1.25.0,!=1.25.1,<1.26,>=1.21.1 in c:\\programdata\\anaconda3\\lib\\site-packages (from requests->alpha_vantage) (1.25.8)\n",
      "Requirement already satisfied: idna<2.9,>=2.5 in c:\\programdata\\anaconda3\\lib\\site-packages (from requests->alpha_vantage) (2.8)\n",
      "Building wheels for collected packages: alpha-vantage\n",
      "  Building wheel for alpha-vantage (setup.py): started\n",
      "  Building wheel for alpha-vantage (setup.py): finished with status 'done'\n",
      "  Created wheel for alpha-vantage: filename=alpha_vantage-2.2.0-py3-none-any.whl size=25708 sha256=bed765688f48cee9970c85b5c7d860152d645f163f3e0676d2eda3a40e0db690\n",
      "  Stored in directory: c:\\users\\joavi\\appdata\\local\\pip\\cache\\wheels\\ee\\38\\2e\\306b4a5a2d645520be01077accdd067b9e419006083038ef7e\n",
      "Successfully built alpha-vantage\n",
      "Installing collected packages: multidict, yarl, async-timeout, aiohttp, alpha-vantage\n",
      "Successfully installed aiohttp-3.6.2 alpha-vantage-2.2.0 async-timeout-3.0.1 multidict-4.7.5 yarl-1.4.2\n",
      "Note: you may need to restart the kernel to use updated packages.\n"
     ]
    }
   ],
   "source": [
    "#pip install alpha_vantage"
   ]
  },
  {
   "cell_type": "code",
   "execution_count": 61,
   "metadata": {},
   "outputs": [
    {
     "name": "stdout",
     "output_type": "stream",
     "text": [
      "(             1. open  2. high    3. low  4. close  5. adjusted close  \\\n",
      "date                                                                   \n",
      "2020-05-12  186.9000   187.04  182.3000    182.51           182.5100   \n",
      "2020-05-11  183.1500   187.51  182.8500    186.74           186.7400   \n",
      "2020-05-08  184.9797   185.00  183.3600    184.68           184.6800   \n",
      "2020-05-07  184.1700   184.55  182.5800    183.60           183.6000   \n",
      "2020-05-06  182.0800   184.20  181.6306    182.54           182.5400   \n",
      "...              ...      ...       ...       ...                ...   \n",
      "2000-05-17   68.8700    69.12   67.2500     67.69            21.7625   \n",
      "2000-05-16   69.5600    70.62   69.0600     69.50            22.3445   \n",
      "2000-05-15   69.0000    69.44   68.0000     69.37            22.3027   \n",
      "2000-05-12   68.4400    69.75   68.2500     68.81            22.1226   \n",
      "2000-05-11   66.6200    68.12   65.7500     67.87            21.8204   \n",
      "\n",
      "             6. volume  7. dividend amount  8. split coefficient  \n",
      "date                                                              \n",
      "2020-05-12  31673903.0                 0.0                   1.0  \n",
      "2020-05-11  30892660.0                 0.0                   1.0  \n",
      "2020-05-08  30912638.0                 0.0                   1.0  \n",
      "2020-05-07  28315992.0                 0.0                   1.0  \n",
      "2020-05-06  32139299.0                 0.0                   1.0  \n",
      "...                ...                 ...                   ...  \n",
      "2000-05-17  26621000.0                 0.0                   1.0  \n",
      "2000-05-16  24205300.0                 0.0                   1.0  \n",
      "2000-05-15  16949800.0                 0.0                   1.0  \n",
      "2000-05-12  18943000.0                 0.0                   1.0  \n",
      "2000-05-11  29195400.0                 0.0                   1.0  \n",
      "\n",
      "[5032 rows x 8 columns],\n",
      " {'1. Information': 'Daily Time Series with Splits and Dividend Events',\n",
      "  '2. Symbol': 'MSFT',\n",
      "  '3. Last Refreshed': '2020-05-12',\n",
      "  '4. Output Size': 'Full size',\n",
      "  '5. Time Zone': 'US/Eastern'})\n"
     ]
    }
   ],
   "source": [
    "ts_MSFT = TimeSeries(key='d5a8768130msh349228374e1ae10p12d32ejsn9928a4c2daad', output_format='pandas')\n",
    "s_MSFT = ts.get_daily_adjusted(symbol='MSFT', outputsize='full')\n",
    "print(s_MSFT)"
   ]
  },
  {
   "cell_type": "code",
   "execution_count": 100,
   "metadata": {},
   "outputs": [
    {
     "name": "stdout",
     "output_type": "stream",
     "text": [
      "MSFT\n"
     ]
    }
   ],
   "source": [
    "dfmsft=s_MSFT[1]\n",
    "\n",
    "print(s_MSFT[1]['2. Symbol'])"
   ]
  },
  {
   "cell_type": "code",
   "execution_count": null,
   "metadata": {},
   "outputs": [],
   "source": [
    "\n",
    "url = \"https://alpha-vantage.p.rapidapi.com/query\"\n",
    "\n",
    "querystring = {\"market\":\"USD\",\"symbol\":\"BTC\",\"function\":\"DIGITAL_CURRENCY_DAILY\"}\n",
    "\n",
    "headers = {\n",
    "    'x-rapidapi-host': \"alpha-vantage.p.rapidapi.com\",\n",
    "    'x-rapidapi-key': \"d5a8768130msh349228374e1ae10p12d32ejsn9928a4c2daad\"\n",
    "    }\n",
    "\n",
    "response = requests.request(\"GET\", url, headers=headers, params=querystring)\n",
    "\n",
    "print(response.text)"
   ]
  },
  {
   "cell_type": "code",
   "execution_count": 11,
   "metadata": {},
   "outputs": [
    {
     "name": "stdout",
     "output_type": "stream",
     "text": [
      "                                                     0\n",
      "0    b'{\\n    \"Meta Data\": {\\n        \"1. Informati...\n",
      "1    b'\\n        \"3. Last Refreshed\": \"2020-05-11\",...\n",
      "2    b' \"Time Series (Daily)\": {\\n        \"2020-05-...\n",
      "3    b'    \"3. low\": \"785.0000\",\\n            \"4. c...\n",
      "4    b'e\": \"16519601\",\\n            \"7. dividend am...\n",
      "..                                                 ...\n",
      "268  b'380.5800\",\\n            \"4. close\": \"393.150...\n",
      "269  b'\\n            \"7. dividend amount\": \"0.0000\"...\n",
      "270  b'         \"1. open\": \"378.9900\",\\n           ...\n",
      "271  b'8.9900\",\\n            \"5. adjusted close\": \"...\n",
      "272  b'000\",\\n            \"8. split coefficient\": \"...\n",
      "\n",
      "[273 rows x 1 columns]\n"
     ]
    }
   ],
   "source": [
    "url = \"https://alpha-vantage.p.rapidapi.com/query\"\n",
    "\n",
    "querystring = {\"outputsize\":\"compact\",\"datatype\":\"json\",\"function\":\"TIME_SERIES_DAILY_ADJUSTED\",\"symbol\":\"TSLA\"}\n",
    "\n",
    "headers = {\n",
    "    'x-rapidapi-host': \"alpha-vantage.p.rapidapi.com\",\n",
    "    'x-rapidapi-key': \"d5a8768130msh349228374e1ae10p12d32ejsn9928a4c2daad\"\n",
    "    }\n",
    "\n",
    "response = requests.request(\"GET\", url, headers=headers, params=querystring)\n",
    "stocksdf = pd.DataFrame(response)\n",
    "\n",
    "print(stocksdf)"
   ]
  },
  {
   "cell_type": "code",
   "execution_count": 40,
   "metadata": {},
   "outputs": [
    {
     "ename": "KeyError",
     "evalue": "1",
     "output_type": "error",
     "traceback": [
      "\u001b[1;31m---------------------------------------------------------------------------\u001b[0m",
      "\u001b[1;31mValueError\u001b[0m                                Traceback (most recent call last)",
      "\u001b[1;32mC:\\ProgramData\\Anaconda3\\lib\\site-packages\\pandas\\core\\indexes\\range.py\u001b[0m in \u001b[0;36mget_loc\u001b[1;34m(self, key, method, tolerance)\u001b[0m\n\u001b[0;32m    349\u001b[0m             \u001b[1;32mtry\u001b[0m\u001b[1;33m:\u001b[0m\u001b[1;33m\u001b[0m\u001b[1;33m\u001b[0m\u001b[0m\n\u001b[1;32m--> 350\u001b[1;33m                 \u001b[1;32mreturn\u001b[0m \u001b[0mself\u001b[0m\u001b[1;33m.\u001b[0m\u001b[0m_range\u001b[0m\u001b[1;33m.\u001b[0m\u001b[0mindex\u001b[0m\u001b[1;33m(\u001b[0m\u001b[0mnew_key\u001b[0m\u001b[1;33m)\u001b[0m\u001b[1;33m\u001b[0m\u001b[1;33m\u001b[0m\u001b[0m\n\u001b[0m\u001b[0;32m    351\u001b[0m             \u001b[1;32mexcept\u001b[0m \u001b[0mValueError\u001b[0m\u001b[1;33m:\u001b[0m\u001b[1;33m\u001b[0m\u001b[1;33m\u001b[0m\u001b[0m\n",
      "\u001b[1;31mValueError\u001b[0m: 1 is not in range",
      "\nDuring handling of the above exception, another exception occurred:\n",
      "\u001b[1;31mKeyError\u001b[0m                                  Traceback (most recent call last)",
      "\u001b[1;32m<ipython-input-40-1a14790d1ef6>\u001b[0m in \u001b[0;36m<module>\u001b[1;34m\u001b[0m\n\u001b[0;32m      9\u001b[0m \u001b[0mstocksdf\u001b[0m \u001b[1;33m=\u001b[0m \u001b[0mpd\u001b[0m\u001b[1;33m.\u001b[0m\u001b[0mDataFrame\u001b[0m\u001b[1;33m(\u001b[0m\u001b[0mresponse\u001b[0m\u001b[1;33m)\u001b[0m\u001b[1;33m\u001b[0m\u001b[1;33m\u001b[0m\u001b[0m\n\u001b[0;32m     10\u001b[0m \u001b[1;33m\u001b[0m\u001b[0m\n\u001b[1;32m---> 11\u001b[1;33m \u001b[0mprint\u001b[0m\u001b[1;33m(\u001b[0m\u001b[0mstocksdf\u001b[0m\u001b[1;33m[\u001b[0m\u001b[1;36m1\u001b[0m\u001b[1;33m]\u001b[0m\u001b[1;33m)\u001b[0m\u001b[1;33m\u001b[0m\u001b[1;33m\u001b[0m\u001b[0m\n\u001b[0m",
      "\u001b[1;32mC:\\ProgramData\\Anaconda3\\lib\\site-packages\\pandas\\core\\frame.py\u001b[0m in \u001b[0;36m__getitem__\u001b[1;34m(self, key)\u001b[0m\n\u001b[0;32m   2798\u001b[0m             \u001b[1;32mif\u001b[0m \u001b[0mself\u001b[0m\u001b[1;33m.\u001b[0m\u001b[0mcolumns\u001b[0m\u001b[1;33m.\u001b[0m\u001b[0mnlevels\u001b[0m \u001b[1;33m>\u001b[0m \u001b[1;36m1\u001b[0m\u001b[1;33m:\u001b[0m\u001b[1;33m\u001b[0m\u001b[1;33m\u001b[0m\u001b[0m\n\u001b[0;32m   2799\u001b[0m                 \u001b[1;32mreturn\u001b[0m \u001b[0mself\u001b[0m\u001b[1;33m.\u001b[0m\u001b[0m_getitem_multilevel\u001b[0m\u001b[1;33m(\u001b[0m\u001b[0mkey\u001b[0m\u001b[1;33m)\u001b[0m\u001b[1;33m\u001b[0m\u001b[1;33m\u001b[0m\u001b[0m\n\u001b[1;32m-> 2800\u001b[1;33m             \u001b[0mindexer\u001b[0m \u001b[1;33m=\u001b[0m \u001b[0mself\u001b[0m\u001b[1;33m.\u001b[0m\u001b[0mcolumns\u001b[0m\u001b[1;33m.\u001b[0m\u001b[0mget_loc\u001b[0m\u001b[1;33m(\u001b[0m\u001b[0mkey\u001b[0m\u001b[1;33m)\u001b[0m\u001b[1;33m\u001b[0m\u001b[1;33m\u001b[0m\u001b[0m\n\u001b[0m\u001b[0;32m   2801\u001b[0m             \u001b[1;32mif\u001b[0m \u001b[0mis_integer\u001b[0m\u001b[1;33m(\u001b[0m\u001b[0mindexer\u001b[0m\u001b[1;33m)\u001b[0m\u001b[1;33m:\u001b[0m\u001b[1;33m\u001b[0m\u001b[1;33m\u001b[0m\u001b[0m\n\u001b[0;32m   2802\u001b[0m                 \u001b[0mindexer\u001b[0m \u001b[1;33m=\u001b[0m \u001b[1;33m[\u001b[0m\u001b[0mindexer\u001b[0m\u001b[1;33m]\u001b[0m\u001b[1;33m\u001b[0m\u001b[1;33m\u001b[0m\u001b[0m\n",
      "\u001b[1;32mC:\\ProgramData\\Anaconda3\\lib\\site-packages\\pandas\\core\\indexes\\range.py\u001b[0m in \u001b[0;36mget_loc\u001b[1;34m(self, key, method, tolerance)\u001b[0m\n\u001b[0;32m    350\u001b[0m                 \u001b[1;32mreturn\u001b[0m \u001b[0mself\u001b[0m\u001b[1;33m.\u001b[0m\u001b[0m_range\u001b[0m\u001b[1;33m.\u001b[0m\u001b[0mindex\u001b[0m\u001b[1;33m(\u001b[0m\u001b[0mnew_key\u001b[0m\u001b[1;33m)\u001b[0m\u001b[1;33m\u001b[0m\u001b[1;33m\u001b[0m\u001b[0m\n\u001b[0;32m    351\u001b[0m             \u001b[1;32mexcept\u001b[0m \u001b[0mValueError\u001b[0m\u001b[1;33m:\u001b[0m\u001b[1;33m\u001b[0m\u001b[1;33m\u001b[0m\u001b[0m\n\u001b[1;32m--> 352\u001b[1;33m                 \u001b[1;32mraise\u001b[0m \u001b[0mKeyError\u001b[0m\u001b[1;33m(\u001b[0m\u001b[0mkey\u001b[0m\u001b[1;33m)\u001b[0m\u001b[1;33m\u001b[0m\u001b[1;33m\u001b[0m\u001b[0m\n\u001b[0m\u001b[0;32m    353\u001b[0m         \u001b[1;32mreturn\u001b[0m \u001b[0msuper\u001b[0m\u001b[1;33m(\u001b[0m\u001b[1;33m)\u001b[0m\u001b[1;33m.\u001b[0m\u001b[0mget_loc\u001b[0m\u001b[1;33m(\u001b[0m\u001b[0mkey\u001b[0m\u001b[1;33m,\u001b[0m \u001b[0mmethod\u001b[0m\u001b[1;33m=\u001b[0m\u001b[0mmethod\u001b[0m\u001b[1;33m,\u001b[0m \u001b[0mtolerance\u001b[0m\u001b[1;33m=\u001b[0m\u001b[0mtolerance\u001b[0m\u001b[1;33m)\u001b[0m\u001b[1;33m\u001b[0m\u001b[1;33m\u001b[0m\u001b[0m\n\u001b[0;32m    354\u001b[0m \u001b[1;33m\u001b[0m\u001b[0m\n",
      "\u001b[1;31mKeyError\u001b[0m: 1"
     ]
    }
   ],
   "source": [
    "url = \"https://alpha-vantage.p.rapidapi.com/query\"\n",
    "\n",
    "querystring = {\"outputsize\":\"full\",\"datatype\":\"json\",\"function\":\"TIME_SERIES_DAILY_ADJUSTED\",\"symbol\":\"TSLA\"}\n",
    "headers = {\n",
    "    'x-rapidapi-host': \"alpha-vantage.p.rapidapi.com\",\n",
    "    'x-rapidapi-key': \"d5a8768130msh349228374e1ae10p12d32ejsn9928a4c2daad\"\n",
    "    }\n",
    "response = requests.request(\"GET\", url, headers=headers, params=querystring)\n",
    "stocksdf = pd.DataFrame(response)\n",
    "\n",
    "print(stocksdf)"
   ]
  },
  {
   "cell_type": "code",
   "execution_count": 52,
   "metadata": {},
   "outputs": [
    {
     "name": "stdout",
     "output_type": "stream",
     "text": [
      "(b'549\",\\n            \"7. dividend amount\": \"0.0000\",\\n            \"8. split '\n",
      " b'coefficient\": \"1.0000\"\\n        },\\n        \"2020-03-20\": ')\n"
     ]
    }
   ],
   "source": [
    "pprint(stocksdf[0][96])"
   ]
  },
  {
   "cell_type": "code",
   "execution_count": 59,
   "metadata": {},
   "outputs": [
    {
     "ename": "TypeError",
     "evalue": "list indices must be integers or slices, not str",
     "output_type": "error",
     "traceback": [
      "\u001b[1;31m---------------------------------------------------------------------------\u001b[0m",
      "\u001b[1;31mTypeError\u001b[0m                                 Traceback (most recent call last)",
      "\u001b[1;32m<ipython-input-59-036ffc75de8a>\u001b[0m in \u001b[0;36m<module>\u001b[1;34m\u001b[0m\n\u001b[0;32m      1\u001b[0m \u001b[0mstocks\u001b[0m\u001b[1;33m=\u001b[0m\u001b[1;33m[\u001b[0m\u001b[1;33m]\u001b[0m\u001b[1;33m\u001b[0m\u001b[1;33m\u001b[0m\u001b[0m\n\u001b[1;32m----> 2\u001b[1;33m \u001b[0mstocks\u001b[0m\u001b[1;33m[\u001b[0m\u001b[1;34m'MSFT'\u001b[0m\u001b[1;33m]\u001b[0m \u001b[1;33m=\u001b[0m \u001b[0mdata\u001b[0m\u001b[1;33m[\u001b[0m\u001b[1;34m'4. close'\u001b[0m\u001b[1;33m]\u001b[0m\u001b[1;33m\u001b[0m\u001b[1;33m\u001b[0m\u001b[0m\n\u001b[0m\u001b[0;32m      3\u001b[0m \u001b[0mprint\u001b[0m\u001b[1;33m(\u001b[0m\u001b[0mstocks\u001b[0m\u001b[1;33m)\u001b[0m\u001b[1;33m\u001b[0m\u001b[1;33m\u001b[0m\u001b[0m\n",
      "\u001b[1;31mTypeError\u001b[0m: list indices must be integers or slices, not str"
     ]
    }
   ],
   "source": [
    "stocks=[]\n",
    "stocks['MSFT'] = data['4. close']\n",
    "print(stocks)"
   ]
  },
  {
   "cell_type": "code",
   "execution_count": null,
   "metadata": {},
   "outputs": [],
   "source": []
  }
 ],
 "metadata": {
  "kernelspec": {
   "display_name": "Python 3",
   "language": "python",
   "name": "python3"
  },
  "language_info": {
   "codemirror_mode": {
    "name": "ipython",
    "version": 3
   },
   "file_extension": ".py",
   "mimetype": "text/x-python",
   "name": "python",
   "nbconvert_exporter": "python",
   "pygments_lexer": "ipython3",
   "version": "3.7.6"
  }
 },
 "nbformat": 4,
 "nbformat_minor": 4
}
