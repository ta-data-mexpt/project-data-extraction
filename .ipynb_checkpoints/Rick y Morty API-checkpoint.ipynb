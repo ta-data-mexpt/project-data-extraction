{
 "cells": [
  {
   "cell_type": "code",
   "execution_count": 21,
   "metadata": {},
   "outputs": [],
   "source": [
    "import requests\n",
    "import json\n",
    "import pandas as pd\n",
    "import time"
   ]
  },
  {
   "cell_type": "code",
   "execution_count": 25,
   "metadata": {},
   "outputs": [
    {
     "name": "stdout",
     "output_type": "stream",
     "text": [
      "{'all_characters': 'https://rickandmortyapi.com/api/character?page=', 'all_locations': 'https://rickandmortyapi.com/api/location?page=', 'all_episodes': 'https://rickandmortyapi.com/api/episode?page='}\n"
     ]
    }
   ],
   "source": [
    "base_url = \"https://rickandmortyapi.com/api\"\n",
    "\n",
    "# This is done so all endpoints of the api can be used\n",
    "# and not just the /character one.\n",
    "\n",
    "paths = {\"characters\": \"/character?page=\", \"locations\": \"/location?page=\", \"episodes\": \"/episode?page=\"}\n",
    "final_urls = {f\"all_{key}\": base_url + value for (key,value) in paths.items()}\n"
   ]
  },
  {
   "cell_type": "code",
   "execution_count": 29,
   "metadata": {},
   "outputs": [],
   "source": [
    "i = 1\n",
    "next_ok = True\n",
    "results_for_df = []\n",
    "\n",
    "while next_ok == True:\n",
    "    characters_response = requests.get(f\"{final_urls['all_characters']}{i}\")\n",
    "    results = characters_response.json()\n",
    "    next_page = results[\"info\"][\"next\"]\n",
    "    i += 1\n",
    "    if next_page is None:                                       \n",
    "        next_ok = False\n",
    "    results_for_df.append(results[\"results\"])"
   ]
  },
  {
   "cell_type": "code",
   "execution_count": 37,
   "metadata": {},
   "outputs": [
    {
     "name": "stdout",
     "output_type": "stream",
     "text": [
      "826\n"
     ]
    },
    {
     "data": {
      "text/html": [
       "<div>\n",
       "<style scoped>\n",
       "    .dataframe tbody tr th:only-of-type {\n",
       "        vertical-align: middle;\n",
       "    }\n",
       "\n",
       "    .dataframe tbody tr th {\n",
       "        vertical-align: top;\n",
       "    }\n",
       "\n",
       "    .dataframe thead th {\n",
       "        text-align: right;\n",
       "    }\n",
       "</style>\n",
       "<table border=\"1\" class=\"dataframe\">\n",
       "  <thead>\n",
       "    <tr style=\"text-align: right;\">\n",
       "      <th></th>\n",
       "      <th>name</th>\n",
       "      <th>status</th>\n",
       "      <th>species</th>\n",
       "      <th>type</th>\n",
       "      <th>gender</th>\n",
       "      <th>origin</th>\n",
       "      <th>location</th>\n",
       "    </tr>\n",
       "    <tr>\n",
       "      <th>id</th>\n",
       "      <th></th>\n",
       "      <th></th>\n",
       "      <th></th>\n",
       "      <th></th>\n",
       "      <th></th>\n",
       "      <th></th>\n",
       "      <th></th>\n",
       "    </tr>\n",
       "  </thead>\n",
       "  <tbody>\n",
       "    <tr>\n",
       "      <td>1</td>\n",
       "      <td>Rick Sanchez</td>\n",
       "      <td>Alive</td>\n",
       "      <td>Human</td>\n",
       "      <td></td>\n",
       "      <td>Male</td>\n",
       "      <td>Earth (C-137)</td>\n",
       "      <td>Citadel of Ricks</td>\n",
       "    </tr>\n",
       "    <tr>\n",
       "      <td>2</td>\n",
       "      <td>Morty Smith</td>\n",
       "      <td>Alive</td>\n",
       "      <td>Human</td>\n",
       "      <td></td>\n",
       "      <td>Male</td>\n",
       "      <td>unknown</td>\n",
       "      <td>Citadel of Ricks</td>\n",
       "    </tr>\n",
       "    <tr>\n",
       "      <td>3</td>\n",
       "      <td>Summer Smith</td>\n",
       "      <td>Alive</td>\n",
       "      <td>Human</td>\n",
       "      <td></td>\n",
       "      <td>Female</td>\n",
       "      <td>Earth (Replacement Dimension)</td>\n",
       "      <td>Earth (Replacement Dimension)</td>\n",
       "    </tr>\n",
       "    <tr>\n",
       "      <td>4</td>\n",
       "      <td>Beth Smith</td>\n",
       "      <td>Alive</td>\n",
       "      <td>Human</td>\n",
       "      <td></td>\n",
       "      <td>Female</td>\n",
       "      <td>Earth (Replacement Dimension)</td>\n",
       "      <td>Earth (Replacement Dimension)</td>\n",
       "    </tr>\n",
       "    <tr>\n",
       "      <td>5</td>\n",
       "      <td>Jerry Smith</td>\n",
       "      <td>Alive</td>\n",
       "      <td>Human</td>\n",
       "      <td></td>\n",
       "      <td>Male</td>\n",
       "      <td>Earth (Replacement Dimension)</td>\n",
       "      <td>Earth (Replacement Dimension)</td>\n",
       "    </tr>\n",
       "  </tbody>\n",
       "</table>\n",
       "</div>"
      ],
      "text/plain": [
       "            name status species type  gender                         origin  \\\n",
       "id                                                                            \n",
       "1   Rick Sanchez  Alive   Human         Male                  Earth (C-137)   \n",
       "2    Morty Smith  Alive   Human         Male                        unknown   \n",
       "3   Summer Smith  Alive   Human       Female  Earth (Replacement Dimension)   \n",
       "4     Beth Smith  Alive   Human       Female  Earth (Replacement Dimension)   \n",
       "5    Jerry Smith  Alive   Human         Male  Earth (Replacement Dimension)   \n",
       "\n",
       "                         location  \n",
       "id                                 \n",
       "1                Citadel of Ricks  \n",
       "2                Citadel of Ricks  \n",
       "3   Earth (Replacement Dimension)  \n",
       "4   Earth (Replacement Dimension)  \n",
       "5   Earth (Replacement Dimension)  "
      ]
     },
     "execution_count": 37,
     "metadata": {},
     "output_type": "execute_result"
    }
   ],
   "source": [
    "flat_results = [df for result in results_for_df for df in result]\n",
    "print(len(flat_results))\n",
    "results_dataframe = pd.DataFrame(flat_results)\n",
    "\n",
    "# This part would need to be modified if you're using a different endpoint\n",
    "# than /character, sinde the data manipulations are specific to the \n",
    "# characters data obtained from this endpoint.\n",
    "\n",
    "results_dataframe.set_index(\"id\", inplace = True)\n",
    "results_dataframe[\"origin\"] = results_dataframe[\"origin\"].apply(lambda x: x.get(\"name\"))\n",
    "results_dataframe[\"location\"] = results_dataframe[\"location\"].apply(lambda x: x.get(\"name\"))\n",
    "results_dataframe.drop(columns = [\"episode\", \"created\", \"url\", \"image\"], inplace = True)\n",
    "\n",
    "results_dataframe.to_csv(\"output/api_data.csv\")\n",
    "results_dataframe.head()"
   ]
  },
  {
   "cell_type": "code",
   "execution_count": null,
   "metadata": {},
   "outputs": [],
   "source": []
  }
 ],
 "metadata": {
  "kernelspec": {
   "display_name": "Python 3",
   "language": "python",
   "name": "python3"
  },
  "language_info": {
   "codemirror_mode": {
    "name": "ipython",
    "version": 3
   },
   "file_extension": ".py",
   "mimetype": "text/x-python",
   "name": "python",
   "nbconvert_exporter": "python",
   "pygments_lexer": "ipython3",
   "version": "3.7.4"
  }
 },
 "nbformat": 4,
 "nbformat_minor": 2
}
