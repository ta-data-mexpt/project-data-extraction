{
 "cells": [
  {
   "cell_type": "code",
   "execution_count": 35,
   "metadata": {},
   "outputs": [],
   "source": [
    "import base64\n",
    "import requests\n",
    "import datetime\n",
    "# Coneccion a la API de Spotify\n",
    "\n",
    "client_id = '2fcf86918d5d434c90fe82b1294d12b0'\n",
    "client_secret = '4fec66bbe09c43e5a20e35f15c148426'"
   ]
  },
  {
   "cell_type": "code",
   "execution_count": 45,
   "metadata": {},
   "outputs": [],
   "source": [
    "#!pip install requests"
   ]
  },
  {
   "cell_type": "code",
   "execution_count": 46,
   "metadata": {},
   "outputs": [],
   "source": [
    "# Do a lookup for a token\n",
    "# this token ir for future requests\n",
    "client_creds = f\"{client_id}:{client_secret}\"\n"
   ]
  },
  {
   "cell_type": "code",
   "execution_count": 47,
   "metadata": {},
   "outputs": [
    {
     "name": "stdout",
     "output_type": "stream",
     "text": [
      "b'MmZjZjg2OTE4ZDVkNDM0YzkwZmU4MmIxMjk0ZDEyYjA6NGZlYzY2YmJlMDljNDNlNWEyMGUzNWYxNWMxNDg0MjY='\n"
     ]
    }
   ],
   "source": [
    "client_creds_b64 = base64.b64encode(client_creds.encode())\n",
    "print(client_creds_b64)"
   ]
  },
  {
   "cell_type": "code",
   "execution_count": 48,
   "metadata": {},
   "outputs": [],
   "source": [
    "#base64.b64decode(client_creds_b64)"
   ]
  },
  {
   "cell_type": "code",
   "execution_count": 49,
   "metadata": {},
   "outputs": [],
   "source": [
    "  \n",
    "token_url = 'https://accounts.spotify.com/api/token'\n",
    "method = 'POST'\n",
    "\n",
    "token_data = {\n",
    "    \"grant_type\":\"client_credentials\"  \n",
    "}\n",
    "token_headers = {\n",
    "    \"Authorization\":f\"Basic {client_creds_b64.decode()}\" # Basic <base64 encoded client_id:client_secret>\n",
    "}"
   ]
  },
  {
   "cell_type": "code",
   "execution_count": 52,
   "metadata": {},
   "outputs": [
    {
     "name": "stdout",
     "output_type": "stream",
     "text": [
      "{'access_token': 'BQC0lHCj_b2HxAbfqp7Jv2Pm766hLveVw-D9xEGkYeeW3BT5xlPXP9f6hxqQd-3tW1Xbub7s9mNxvaNDaUg', 'token_type': 'Bearer', 'expires_in': 3600, 'scope': ''}\n"
     ]
    }
   ],
   "source": [
    "r = requests.post(token_url,data = token_data,headers=token_headers)\n",
    "print(r.json())\n",
    "valid_requests = r.status_code in range(200,299)\n"
   ]
  },
  {
   "cell_type": "code",
   "execution_count": 54,
   "metadata": {},
   "outputs": [],
   "source": [
    "if valid_requests:\n",
    "    token_response_data = r.json()\n",
    "    now = datetime.datetime.now()\n",
    "    acces_token = token_response_data['access_token']\n",
    "    expires_in = token_response_data['expires_in'] #seconds\n",
    "    expires = now + datetime.timedelta(seconds = expires_in)\n",
    "    did_expire = expires < now"
   ]
  },
  {
   "cell_type": "code",
   "execution_count": 55,
   "metadata": {},
   "outputs": [],
   "source": [
    "### Base API Clien Class"
   ]
  },
  {
   "cell_type": "code",
   "execution_count": null,
   "metadata": {},
   "outputs": [],
   "source": []
  }
 ],
 "metadata": {
  "kernelspec": {
   "display_name": "Python 3",
   "language": "python",
   "name": "python3"
  },
  "language_info": {
   "codemirror_mode": {
    "name": "ipython",
    "version": 3
   },
   "file_extension": ".py",
   "mimetype": "text/x-python",
   "name": "python",
   "nbconvert_exporter": "python",
   "pygments_lexer": "ipython3",
   "version": "3.7.6"
  },
  "toc": {
   "base_numbering": 1,
   "nav_menu": {},
   "number_sections": true,
   "sideBar": true,
   "skip_h1_title": false,
   "title_cell": "Table of Contents",
   "title_sidebar": "Contents",
   "toc_cell": false,
   "toc_position": {},
   "toc_section_display": true,
   "toc_window_display": false
  }
 },
 "nbformat": 4,
 "nbformat_minor": 4
}
