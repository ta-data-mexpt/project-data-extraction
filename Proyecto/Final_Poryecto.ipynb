{
 "cells": [
  {
   "cell_type": "code",
   "execution_count": 220,
   "id": "9b9d75fb-3c19-46ae-be7c-ae53fd84f6cf",
   "metadata": {
    "tags": []
   },
   "outputs": [],
   "source": [
    "import requests\n",
    "from bs4 import BeautifulSoup\n",
    "import pandas as pd\n",
    "from selenium.webdriver.common.by import By\n",
    "from selenium import webdriver\n",
    "from selenium.webdriver.common.keys import Keys\n",
    "from selenium.webdriver.common.action_chains import ActionChains\n",
    "from selenium.webdriver.chrome.options import Options\n",
    "import time\n",
    "import re"
   ]
  },
  {
   "cell_type": "markdown",
   "id": "a3c5ab18-bc82-4a0d-b773-45605d9ca9ec",
   "metadata": {},
   "source": [
    "# PRIMERO ABRE LA PAGINA PRINCIPAL, EL EMPIZA A BAJAR CON SCROLL, HASTA LLEGAR AL FINAL DE LA PAGINA, UNA VES ESTO REALIZA LA CAPTURA DE TODA LA PAGINA"
   ]
  },
  {
   "cell_type": "code",
   "execution_count": 3,
   "id": "8d29148a-19e7-4ad7-b6c1-38bab0b5f9d4",
   "metadata": {
    "tags": []
   },
   "outputs": [
    {
     "name": "stdout",
     "output_type": "stream",
     "text": [
      "Scroll 400 de 400\r"
     ]
    }
   ],
   "source": [
    "#chrome_options = Options()\n",
    "#driver = webdriver.Chrome()\n",
    "\n",
    "\n",
    "\n",
    "chrome_options = Options()\n",
    "chrome_options.add_argument(\"--headless\")\n",
    "driver = webdriver.Chrome(options=chrome_options)\n",
    "\n",
    "url = 'https://henki.com.mx/producto/results/categoria/1'\n",
    "driver.get(url)\n",
    "time.sleep(1.5)\n",
    "\n",
    "bloques2a=[]\n",
    "bloques3a=[]\n",
    "chains = ActionChains(driver)\n",
    "for a in range(401): # escroll de la pagina hasta bajar a final de la pagina, imprime cuantos scroll va realizando con pausas para permitir que la pagina cargue\n",
    "    chains.scroll_by_amount(0, 900).perform()\n",
    "    time.sleep(1.5)\n",
    "    print(f'Scroll {a} de 400', end = '\\r')\n",
    "    \n",
    "sopa = BeautifulSoup(driver.page_source)\n",
    "bloques2a = sopa.select('div.col-md div div div.items-buttons a[href]') #captura todos los link de cada producto\n",
    "bloques3a = sopa.select('div.items-child div a.text-decoration-none.text-reset') #captura todos los nombres de cada producto"
   ]
  },
  {
   "cell_type": "code",
   "execution_count": 4,
   "id": "9dabda72-3b8a-45b0-bb92-811831530fa8",
   "metadata": {
    "tags": []
   },
   "outputs": [
    {
     "data": {
      "text/plain": [
       "2397"
      ]
     },
     "execution_count": 4,
     "metadata": {},
     "output_type": "execute_result"
    }
   ],
   "source": [
    "len(bloques2a) # cantidad de link y nombvres capturados"
   ]
  },
  {
   "cell_type": "markdown",
   "id": "d2056ad9-aa54-46ae-aeb1-29c1d2e76fd2",
   "metadata": {},
   "source": [
    "# 2397 PRODUCTOS , CONTAMOS CON SU NOMBRE Y LINK DE PAGINA PRINCIAPAL DE CADA PRODUCTO"
   ]
  },
  {
   "cell_type": "code",
   "execution_count": 5,
   "id": "ecc283cd-1968-4eb1-be2d-d1efb715a7f9",
   "metadata": {},
   "outputs": [],
   "source": [
    "lista_link=[]\n",
    "for item in bloques2a:\n",
    "    lista_link.append(item['href']) # todos los links, los guarda en una lista "
   ]
  },
  {
   "cell_type": "code",
   "execution_count": null,
   "id": "9c193351-4742-4a4f-99ad-f987a794c329",
   "metadata": {
    "tags": []
   },
   "outputs": [],
   "source": [
    "lista_nombre=[]\n",
    "for item in bloques3a:\n",
    "    lista_nombre.append(item.text.strip('\\n ')) # todos los nombres, los guarda en una lista "
   ]
  },
  {
   "cell_type": "markdown",
   "id": "0b3a72b8-d709-49ae-9d0a-bd5188dca71d",
   "metadata": {},
   "source": [
    "# AHORA ABRIMOS TODOS LOS LINK DE LOS PRODUCTOS, PARA PODER REALIZAR UN REQUEST Y OBETENER LA INFORMACION DESEADA\n",
    "# EN ESTE CASO ES SACAR LA MARCA, NOMBRE, DESCRIPCION DE PRODUCTO, MODELO Y URL DE LA IMAGEN DEL PRODUCTO"
   ]
  },
  {
   "cell_type": "code",
   "execution_count": 6,
   "id": "932bca7c-1a32-46c2-8549-01992f68b7f5",
   "metadata": {
    "tags": []
   },
   "outputs": [
    {
     "name": "stdout",
     "output_type": "stream",
     "text": [
      "Extrayendo pagina 2397 de 2397\r"
     ]
    }
   ],
   "source": [
    "lista_marca=[]\n",
    "lista_nombre2=[]\n",
    "lista_descripcion=[]\n",
    "lista_modelo=[]\n",
    "lista_img_url=[]\n",
    "lista_precio=[]\n",
    "a=0\n",
    "\n",
    "for link in lista_link: # FOR PARA ENTRAR A TODOS LOS LINK DE PRODUCTOS\n",
    "    url_link =link\n",
    "    response_link = requests.get(url_link) # REQUEST DE LA PAGINA\n",
    "    sopa_git_link = BeautifulSoup(response_link.content, 'html5lib') \n",
    "    \n",
    "    #MARCA --- OBTENCION DE LA MARCA DEL PRODUCTO Y LIMPIEZA\n",
    "    descripcion_link= sopa_git_link.select('div.col-12.col-md-4.item-descripcion.align-self-start.text-justify')\n",
    "    texto= descripcion_link[0].text\n",
    "    texto2 = re.search(\"(Marca:)(.+)(\\n)\", texto)\n",
    "    lista_marca.append(texto2.group(2))\n",
    "    \n",
    "    #selecion tabla (DEBIDO A QUE DENTRO TIENE LA MAYORIA DE LA INFORMACION)\n",
    "    descripcion_nombre= sopa_git_link.select('table.table.table-bordered.table-striped tbody tr td.w-50') \n",
    "    \n",
    "    #OBTENEMOS EL NOMBRE O TITULO DEL PRODUCTO \n",
    "    lista_nombre2.append(descripcion_nombre[0].text)\n",
    "    #OBTENEMOS LA DESCRIPCION DEL PRODUCTO\n",
    "    lista_descripcion.append(descripcion_nombre[1].text) \n",
    "    #OBTENEMOS EL MODELO \n",
    "    lista_modelo.append(descripcion_nombre[4].text) \n",
    "\n",
    "    #OBTENEMOS EL LNK DE LA IMAGEN DEL PRODUCTO\n",
    "    descripcion_img_url = sopa_git_link.select('div.img-container.text-center a[data-fancybox] img')\n",
    "    lista_img_url.append(descripcion_img_url[0]['src'])\n",
    "    #url imagen\n",
    "    \n",
    "    \n",
    "    #OBTENEMOS EL PRECIO DEL PRODUCTO\n",
    "    try :\n",
    "        lista_precio.append(sopa_git_link.select('div.item-price')[0].text.strip('\\n '))\n",
    "    except:#EN CASO DE QUE NO CUENTE CON PRECIO SE AGREGA \"\" , NADA\n",
    "        lista_precio.append('')\n",
    "    #lista_precio.append(sopa_git_link.select('div.item-price')[0].text.strip('\\n '))\n",
    "    #precio\n",
    "    \n",
    "    #IMPRIME EL AVANCE DE LA CAPTURA DE CADA PAGINA\n",
    "    a=a+1\n",
    "    print(f'Extrayendo pagina {a} de {len(lista_link)}', end = '\\r')\n",
    "    #if a==100:\n",
    "    #    break"
   ]
  },
  {
   "cell_type": "markdown",
   "id": "d447a714-e068-4d1c-a2f5-ec32dd91a678",
   "metadata": {},
   "source": [
    "# GUARDAMOS TODOS LOS DATOS EN UNA LISTA GENERAL, PARA PODER REALIZAR UN DATA FRAME DE TODOS LOS DATOS Y MOSTRAMOS ESTE DATAFRAME Y GUARDAMOS EN UNA TABLA EXCELE"
   ]
  },
  {
   "cell_type": "code",
   "execution_count": 7,
   "id": "b8957014-a492-4419-b04c-e7db2dd9aecf",
   "metadata": {},
   "outputs": [],
   "source": [
    "lista_tabla = list(zip(lista_nombre2, lista_modelo, lista_marca, lista_precio, lista_descripcion, lista_img_url))"
   ]
  },
  {
   "cell_type": "code",
   "execution_count": 8,
   "id": "fac646fd-1c35-4af9-8dd6-48baed0f4bf1",
   "metadata": {},
   "outputs": [],
   "source": [
    "df = pd.DataFrame(lista_tabla, columns=['Nombre','Modelo','Marca','Precio','Descripcion','Url IMG'])\n"
   ]
  },
  {
   "cell_type": "code",
   "execution_count": 9,
   "id": "35df81cc-4dc4-422a-a446-b569a5a9fb0e",
   "metadata": {},
   "outputs": [
    {
     "data": {
      "text/html": [
       "<div>\n",
       "<style scoped>\n",
       "    .dataframe tbody tr th:only-of-type {\n",
       "        vertical-align: middle;\n",
       "    }\n",
       "\n",
       "    .dataframe tbody tr th {\n",
       "        vertical-align: top;\n",
       "    }\n",
       "\n",
       "    .dataframe thead th {\n",
       "        text-align: right;\n",
       "    }\n",
       "</style>\n",
       "<table border=\"1\" class=\"dataframe\">\n",
       "  <thead>\n",
       "    <tr style=\"text-align: right;\">\n",
       "      <th></th>\n",
       "      <th>Nombre</th>\n",
       "      <th>Modelo</th>\n",
       "      <th>Marca</th>\n",
       "      <th>Precio</th>\n",
       "      <th>Descripcion</th>\n",
       "      <th>Url IMG</th>\n",
       "    </tr>\n",
       "  </thead>\n",
       "  <tbody>\n",
       "    <tr>\n",
       "      <th>0</th>\n",
       "      <td>FOLDER TAMAÑO CARTA COLOR CREMA ECOLOGICO</td>\n",
       "      <td>11417</td>\n",
       "      <td>BEROKY        1</td>\n",
       "      <td>$1.52</td>\n",
       "      <td>FOLDER TAMAÑO CARTA EN CARTULINA DE 175 GRAMOS...</td>\n",
       "      <td>https://henki.com.mx/erp/shared_resources/prod...</td>\n",
       "    </tr>\n",
       "    <tr>\n",
       "      <th>1</th>\n",
       "      <td>SOBRE BOLSA SOLAPA ENGOMADA MANILA CARTA</td>\n",
       "      <td>SOBMGK-CTA</td>\n",
       "      <td>KIP        1</td>\n",
       "      <td>$2.27</td>\n",
       "      <td>SOBRE BOLSA SOLAPA ENGOMADA PAPEL MANILA DE 90...</td>\n",
       "      <td>https://henki.com.mx/erp/shared_resources/prod...</td>\n",
       "    </tr>\n",
       "    <tr>\n",
       "      <th>2</th>\n",
       "      <td>SOBRE BLANCO PARA CORRESPONDENCIA CARTA SIN VE...</td>\n",
       "      <td>SOBBCO-CTA</td>\n",
       "      <td>KIP        1</td>\n",
       "      <td>$0.56</td>\n",
       "      <td>SOBRE BLANCO PARA CORRESPONDENCIA CARTA 6 3/4 ...</td>\n",
       "      <td>https://henki.com.mx/erp/shared_resources/prod...</td>\n",
       "    </tr>\n",
       "    <tr>\n",
       "      <th>3</th>\n",
       "      <td>SOBRE BOLSA SOLAPA ENGOMADA MANILA EXTRA OFICIO</td>\n",
       "      <td>SOBMGK-OFI</td>\n",
       "      <td>KIP        1</td>\n",
       "      <td>$2.85</td>\n",
       "      <td>SOBRE BOLSA SOLAPA ENGOMADA PAPEL MANILA DE 90...</td>\n",
       "      <td>https://henki.com.mx/erp/shared_resources/prod...</td>\n",
       "    </tr>\n",
       "    <tr>\n",
       "      <th>4</th>\n",
       "      <td>BOLIGRAFO PUNTO MEDIANO AZUL</td>\n",
       "      <td>BOLEX</td>\n",
       "      <td>BOLEX        1</td>\n",
       "      <td>$2.13</td>\n",
       "      <td>BOLIGRAFO PUNTO MEDIANO AZUL BOLEX</td>\n",
       "      <td>https://henki.com.mx/erp/shared_resources/rest...</td>\n",
       "    </tr>\n",
       "    <tr>\n",
       "      <th>...</th>\n",
       "      <td>...</td>\n",
       "      <td>...</td>\n",
       "      <td>...</td>\n",
       "      <td>...</td>\n",
       "      <td>...</td>\n",
       "      <td>...</td>\n",
       "    </tr>\n",
       "    <tr>\n",
       "      <th>2391</th>\n",
       "      <td>ETIQUETA BLANCA TRANSFER</td>\n",
       "      <td>EAB01338</td>\n",
       "      <td>TRANSFER        1</td>\n",
       "      <td>$11.69</td>\n",
       "      <td>ETIQUETAS BLANCAS TRANSFER MEDIDA 13 MM X 38 M...</td>\n",
       "      <td>https://henki.com.mx/erp/shared_resources/prod...</td>\n",
       "    </tr>\n",
       "    <tr>\n",
       "      <th>2392</th>\n",
       "      <td>MICA TERMICA TRANSFER MODELO MTR0806595  8 MIL...</td>\n",
       "      <td>MTR0806595</td>\n",
       "      <td>TRANSFER        1</td>\n",
       "      <td>$115.22</td>\n",
       "      <td>MICA TERMICA TRANSFER MODELO MTR0806595  8 MIL...</td>\n",
       "      <td>https://henki.com.mx/erp/shared_resources/prod...</td>\n",
       "    </tr>\n",
       "    <tr>\n",
       "      <th>2393</th>\n",
       "      <td>ETIQUETAS FLUORESCENTES NARANJA LESA</td>\n",
       "      <td>N°19</td>\n",
       "      <td>LESA        1</td>\n",
       "      <td>$33.96</td>\n",
       "      <td>ETIQUETAS FLUORESCENTES NARANJA RECTANGULAR LE...</td>\n",
       "      <td>https://henki.com.mx/erp/shared_resources/prod...</td>\n",
       "    </tr>\n",
       "    <tr>\n",
       "      <th>2394</th>\n",
       "      <td>SEPARADOR KIP 10 DIVISIONES SIN  NUMERO</td>\n",
       "      <td>SEKIMP-10</td>\n",
       "      <td>KIP        1</td>\n",
       "      <td>$24.79</td>\n",
       "      <td>SEPARADOR KIP 10 DIVISIONES MODELO SEKIMP-10 C...</td>\n",
       "      <td>https://henki.com.mx/erp/shared_resources/prod...</td>\n",
       "    </tr>\n",
       "    <tr>\n",
       "      <th>2395</th>\n",
       "      <td>DESPACHADOR PARA CINTA DE EMPAQUE</td>\n",
       "      <td>52WX73</td>\n",
       "      <td>GRAINGER        1</td>\n",
       "      <td>$302.06</td>\n",
       "      <td>DESPACHADOR PARA CINTA DE EMPAQUE GRAINGER MOD...</td>\n",
       "      <td>https://henki.com.mx/erp/shared_resources/prod...</td>\n",
       "    </tr>\n",
       "  </tbody>\n",
       "</table>\n",
       "<p>2396 rows × 6 columns</p>\n",
       "</div>"
      ],
      "text/plain": [
       "                                                 Nombre       Modelo  \\\n",
       "0             FOLDER TAMAÑO CARTA COLOR CREMA ECOLOGICO        11417   \n",
       "1              SOBRE BOLSA SOLAPA ENGOMADA MANILA CARTA   SOBMGK-CTA   \n",
       "2     SOBRE BLANCO PARA CORRESPONDENCIA CARTA SIN VE...   SOBBCO-CTA   \n",
       "3       SOBRE BOLSA SOLAPA ENGOMADA MANILA EXTRA OFICIO   SOBMGK-OFI   \n",
       "4                          BOLIGRAFO PUNTO MEDIANO AZUL        BOLEX   \n",
       "...                                                 ...          ...   \n",
       "2391                           ETIQUETA BLANCA TRANSFER     EAB01338   \n",
       "2392  MICA TERMICA TRANSFER MODELO MTR0806595  8 MIL...  MTR0806595    \n",
       "2393               ETIQUETAS FLUORESCENTES NARANJA LESA         N°19   \n",
       "2394            SEPARADOR KIP 10 DIVISIONES SIN  NUMERO    SEKIMP-10   \n",
       "2395                  DESPACHADOR PARA CINTA DE EMPAQUE       52WX73   \n",
       "\n",
       "                  Marca   Precio  \\\n",
       "0       BEROKY        1    $1.52   \n",
       "1          KIP        1    $2.27   \n",
       "2          KIP        1    $0.56   \n",
       "3          KIP        1    $2.85   \n",
       "4        BOLEX        1    $2.13   \n",
       "...                 ...      ...   \n",
       "2391  TRANSFER        1   $11.69   \n",
       "2392  TRANSFER        1  $115.22   \n",
       "2393      LESA        1   $33.96   \n",
       "2394       KIP        1   $24.79   \n",
       "2395  GRAINGER        1  $302.06   \n",
       "\n",
       "                                            Descripcion  \\\n",
       "0     FOLDER TAMAÑO CARTA EN CARTULINA DE 175 GRAMOS...   \n",
       "1     SOBRE BOLSA SOLAPA ENGOMADA PAPEL MANILA DE 90...   \n",
       "2     SOBRE BLANCO PARA CORRESPONDENCIA CARTA 6 3/4 ...   \n",
       "3     SOBRE BOLSA SOLAPA ENGOMADA PAPEL MANILA DE 90...   \n",
       "4                    BOLIGRAFO PUNTO MEDIANO AZUL BOLEX   \n",
       "...                                                 ...   \n",
       "2391  ETIQUETAS BLANCAS TRANSFER MEDIDA 13 MM X 38 M...   \n",
       "2392  MICA TERMICA TRANSFER MODELO MTR0806595  8 MIL...   \n",
       "2393  ETIQUETAS FLUORESCENTES NARANJA RECTANGULAR LE...   \n",
       "2394  SEPARADOR KIP 10 DIVISIONES MODELO SEKIMP-10 C...   \n",
       "2395  DESPACHADOR PARA CINTA DE EMPAQUE GRAINGER MOD...   \n",
       "\n",
       "                                                Url IMG  \n",
       "0     https://henki.com.mx/erp/shared_resources/prod...  \n",
       "1     https://henki.com.mx/erp/shared_resources/prod...  \n",
       "2     https://henki.com.mx/erp/shared_resources/prod...  \n",
       "3     https://henki.com.mx/erp/shared_resources/prod...  \n",
       "4     https://henki.com.mx/erp/shared_resources/rest...  \n",
       "...                                                 ...  \n",
       "2391  https://henki.com.mx/erp/shared_resources/prod...  \n",
       "2392  https://henki.com.mx/erp/shared_resources/prod...  \n",
       "2393  https://henki.com.mx/erp/shared_resources/prod...  \n",
       "2394  https://henki.com.mx/erp/shared_resources/prod...  \n",
       "2395  https://henki.com.mx/erp/shared_resources/prod...  \n",
       "\n",
       "[2396 rows x 6 columns]"
      ]
     },
     "execution_count": 9,
     "metadata": {},
     "output_type": "execute_result"
    }
   ],
   "source": [
    "df.head(2396)"
   ]
  },
  {
   "cell_type": "code",
   "execution_count": 10,
   "id": "639278f9-0132-4653-9beb-25de763abc50",
   "metadata": {},
   "outputs": [],
   "source": [
    "df.to_excel('tabla_productos.xlsx') #GUARDAMOS EN UNA TABLA DE EXCELE"
   ]
  },
  {
   "cell_type": "code",
   "execution_count": 11,
   "id": "85c1edb3-4b9e-48cd-be93-ba52944f76ff",
   "metadata": {
    "tags": []
   },
   "outputs": [
    {
     "data": {
      "text/plain": [
       "'https://henki.com.mx/erp/shared_resources/productos/64NOIMAGEN.png'"
      ]
     },
     "execution_count": 11,
     "metadata": {},
     "output_type": "execute_result"
    }
   ],
   "source": [
    "lista_img_url[0] # PROBAMOS UN LINK DE LA LISTA URL IMG"
   ]
  },
  {
   "cell_type": "markdown",
   "id": "683d4265-a4e7-4f18-baf5-9e0a705b8d07",
   "metadata": {},
   "source": [
    "# EL SIGUIENTE PROGRAMA REALIZA UN REQUEST DE TODAS LOS LINK DE IMAGEN, Y EXTRAER LA IMAGEN LO GUARDA EN LA CAPRETA IMAGENES Y LOS RENOMBRA A IMANGE{No}"
   ]
  },
  {
   "cell_type": "code",
   "execution_count": 27,
   "id": "401df03c-1156-4ec4-bd6e-e7d38aeb7f68",
   "metadata": {
    "tags": []
   },
   "outputs": [
    {
     "name": "stdout",
     "output_type": "stream",
     "text": [
      "Extrayendo pagina 2397 de 2397\r"
     ]
    }
   ],
   "source": [
    "# PROGRAMA PARA ENTRAR EN TODOS LOS LINK DE LA LISTA DE LINK IMAGENES Y EXTRAER LAS IMAGENES, E IRLAS GUARDANDO EN LA CAPETA IMAGENES, Y RENOMBRANDOLAS DEPENDIENDO SU NUMERO \n",
    "\n",
    "import PIL\n",
    "from PIL import Image\n",
    "import urllib.request\n",
    "import requests\n",
    "\n",
    "\n",
    "opener = urllib.request.build_opener()\n",
    "opener.addheaders = [('User-agent', 'Mozilla/5.0 (Windows NT 10.0; Win64; x64) AppleWebKit/537.36 (KHTML, like Gecko) Chrome/107.0.0.0 Safari/537.36')]\n",
    "urllib.request.install_opener(opener)\n",
    "\n",
    "a=0\n",
    "\n",
    "for imag in lista_img_url:\n",
    "    a=a+1\n",
    "    imag=imag.replace(' ','%20')# en los link que tiene espacio, los llena con un %20 para que pueda reconocer el link html\n",
    "    try:\n",
    "        urllib.request.urlretrieve(imag, f\"Imagenes/imagen{a}.png\") # GUARDANDO LAS IMAGENES Y RENOMBRANDO LAS COMO IMAGEN{NUMERO de contador} \n",
    "    except:\n",
    "        urllib.request.urlretrieve('https://henki.com.mx/erp/shared_resources/productos/64NOIMAGEN.png', f\"Imagenes/imagen{a}.png\") #EN EL CASO DE QUE TENGA ERROR EL LINK DE IMAGENES JALAR UNA DEFINIDA\n",
    "    #img = PIL.Image.open(f\"Imagenes/imagen{a}.png\")\n",
    "    print(f'Extrayendo pagina {a} de {len(lista_img_url)}', end = '\\r') #imprime como va el proceso de obtencion de imagenes\n",
    "    #img.show()"
   ]
  },
  {
   "cell_type": "markdown",
   "id": "585eb8b3-533b-478a-8b35-4a4d65d5d1ac",
   "metadata": {},
   "source": [
    "# AHORA QUE TENEMOS LAS IMAGENES GUARDADOS, VAMOS A CARGR LAS IMAGENES , VAMOS A CREEAR UN NUEVO EXCEL, PERO AHORA PEGANDOLE LAS IMAGENES EN CADA CELDA CORRESPONDIENTE"
   ]
  },
  {
   "cell_type": "code",
   "execution_count": 32,
   "id": "217742c8-1041-4088-8453-4c31ac023226",
   "metadata": {
    "tags": []
   },
   "outputs": [],
   "source": [
    "import pandas as pd\n",
    "\n",
    "\n",
    "# Create a Pandas dataframe from some data.\n",
    "#df = pd.DataFrame({'Data': [10, 20, 30, 20, 15, 30, 45]})\n",
    "\n",
    "# Create a Pandas Excel writer using XlsxWriter as the engine.\n",
    "writer = pd.ExcelWriter('Tabla_producto_image.xlsx', engine='xlsxwriter') # RENOMBRANDO EL NUEVO EXCELN COMO TABLA_PRODUCTO_IMAGE\n",
    "\n",
    "# Convert the dataframe to an XlsxWriter Excel object.\n",
    "df.to_excel(writer, sheet_name='Sheet1') # ACTIVAMOS EL PODER RESCRIBIR EL LIBRO SHEET1\n",
    "\n",
    "# Get the xlsxwriter workbook and worksheet objects.\n",
    "workbook  = writer.book\n",
    "worksheet = writer.sheets['Sheet1'] # CREAMOS LA FUNCION DE SOBRE ESCIRBIR \n",
    "\n",
    "# Insert an image.\n",
    "#worksheet.insert_image('I2', 'logo.png')\n",
    "b=2\n",
    "\n",
    "for imag in range(len(lista_img_url)):\n",
    "    imag=imag+1\n",
    "    worksheet.insert_image(f'I{b}', f'Imagenes/imagen{imag}.png') # CARGAMOS LA IMAGEN NUMERADA Y LA PEGAMOS EN LA CELDA I NUMERADA\n",
    "    b=b+1\n",
    "\n",
    "\n",
    "# Close the Pandas Excel writer and output the Excel file.\n",
    "writer.save() # GUARDAMOS EL EXCEL"
   ]
  },
  {
   "cell_type": "markdown",
   "id": "d5078605-2792-4d48-b765-851baf728d59",
   "metadata": {},
   "source": [
    "# LIMPIEZA DE LA TABLA"
   ]
  },
  {
   "cell_type": "code",
   "execution_count": 227,
   "id": "39934d2a-7115-4e82-9047-e472fecf2fe0",
   "metadata": {},
   "outputs": [],
   "source": [
    "df = pd.read_excel('tabla_productos.xlsx', index_col=0) "
   ]
  },
  {
   "cell_type": "code",
   "execution_count": 228,
   "id": "a0dece11-4062-4c67-80d9-e2a94d3939ca",
   "metadata": {},
   "outputs": [
    {
     "data": {
      "text/html": [
       "<div>\n",
       "<style scoped>\n",
       "    .dataframe tbody tr th:only-of-type {\n",
       "        vertical-align: middle;\n",
       "    }\n",
       "\n",
       "    .dataframe tbody tr th {\n",
       "        vertical-align: top;\n",
       "    }\n",
       "\n",
       "    .dataframe thead th {\n",
       "        text-align: right;\n",
       "    }\n",
       "</style>\n",
       "<table border=\"1\" class=\"dataframe\">\n",
       "  <thead>\n",
       "    <tr style=\"text-align: right;\">\n",
       "      <th></th>\n",
       "      <th>Nombre</th>\n",
       "      <th>Modelo</th>\n",
       "      <th>Marca</th>\n",
       "      <th>Precio</th>\n",
       "      <th>Descripcion</th>\n",
       "      <th>Url IMG</th>\n",
       "    </tr>\n",
       "  </thead>\n",
       "  <tbody>\n",
       "    <tr>\n",
       "      <th>0</th>\n",
       "      <td>FOLDER TAMAÑO CARTA COLOR CREMA ECOLOGICO</td>\n",
       "      <td>11417</td>\n",
       "      <td>BEROKY        1</td>\n",
       "      <td>$1.52</td>\n",
       "      <td>FOLDER TAMAÑO CARTA EN CARTULINA DE 175 GRAMOS...</td>\n",
       "      <td>https://henki.com.mx/erp/shared_resources/prod...</td>\n",
       "    </tr>\n",
       "    <tr>\n",
       "      <th>1</th>\n",
       "      <td>SOBRE BOLSA SOLAPA ENGOMADA MANILA CARTA</td>\n",
       "      <td>SOBMGK-CTA</td>\n",
       "      <td>KIP        1</td>\n",
       "      <td>$2.27</td>\n",
       "      <td>SOBRE BOLSA SOLAPA ENGOMADA PAPEL MANILA DE 90...</td>\n",
       "      <td>https://henki.com.mx/erp/shared_resources/prod...</td>\n",
       "    </tr>\n",
       "    <tr>\n",
       "      <th>2</th>\n",
       "      <td>SOBRE BLANCO PARA CORRESPONDENCIA CARTA SIN VE...</td>\n",
       "      <td>SOBBCO-CTA</td>\n",
       "      <td>KIP        1</td>\n",
       "      <td>$0.56</td>\n",
       "      <td>SOBRE BLANCO PARA CORRESPONDENCIA CARTA 6 3/4 ...</td>\n",
       "      <td>https://henki.com.mx/erp/shared_resources/prod...</td>\n",
       "    </tr>\n",
       "    <tr>\n",
       "      <th>3</th>\n",
       "      <td>SOBRE BOLSA SOLAPA ENGOMADA MANILA EXTRA OFICIO</td>\n",
       "      <td>SOBMGK-OFI</td>\n",
       "      <td>KIP        1</td>\n",
       "      <td>$2.85</td>\n",
       "      <td>SOBRE BOLSA SOLAPA ENGOMADA PAPEL MANILA DE 90...</td>\n",
       "      <td>https://henki.com.mx/erp/shared_resources/prod...</td>\n",
       "    </tr>\n",
       "    <tr>\n",
       "      <th>4</th>\n",
       "      <td>BOLIGRAFO PUNTO MEDIANO AZUL</td>\n",
       "      <td>BOLEX</td>\n",
       "      <td>BOLEX        1</td>\n",
       "      <td>$2.13</td>\n",
       "      <td>BOLIGRAFO PUNTO MEDIANO AZUL BOLEX</td>\n",
       "      <td>https://henki.com.mx/erp/shared_resources/rest...</td>\n",
       "    </tr>\n",
       "  </tbody>\n",
       "</table>\n",
       "</div>"
      ],
      "text/plain": [
       "                                              Nombre      Modelo  \\\n",
       "0          FOLDER TAMAÑO CARTA COLOR CREMA ECOLOGICO       11417   \n",
       "1           SOBRE BOLSA SOLAPA ENGOMADA MANILA CARTA  SOBMGK-CTA   \n",
       "2  SOBRE BLANCO PARA CORRESPONDENCIA CARTA SIN VE...  SOBBCO-CTA   \n",
       "3    SOBRE BOLSA SOLAPA ENGOMADA MANILA EXTRA OFICIO  SOBMGK-OFI   \n",
       "4                       BOLIGRAFO PUNTO MEDIANO AZUL       BOLEX   \n",
       "\n",
       "             Marca Precio                                        Descripcion  \\\n",
       "0  BEROKY        1  $1.52  FOLDER TAMAÑO CARTA EN CARTULINA DE 175 GRAMOS...   \n",
       "1     KIP        1  $2.27  SOBRE BOLSA SOLAPA ENGOMADA PAPEL MANILA DE 90...   \n",
       "2     KIP        1  $0.56  SOBRE BLANCO PARA CORRESPONDENCIA CARTA 6 3/4 ...   \n",
       "3     KIP        1  $2.85  SOBRE BOLSA SOLAPA ENGOMADA PAPEL MANILA DE 90...   \n",
       "4   BOLEX        1  $2.13                 BOLIGRAFO PUNTO MEDIANO AZUL BOLEX   \n",
       "\n",
       "                                             Url IMG  \n",
       "0  https://henki.com.mx/erp/shared_resources/prod...  \n",
       "1  https://henki.com.mx/erp/shared_resources/prod...  \n",
       "2  https://henki.com.mx/erp/shared_resources/prod...  \n",
       "3  https://henki.com.mx/erp/shared_resources/prod...  \n",
       "4  https://henki.com.mx/erp/shared_resources/rest...  "
      ]
     },
     "execution_count": 228,
     "metadata": {},
     "output_type": "execute_result"
    }
   ],
   "source": [
    "df.head(5)"
   ]
  },
  {
   "cell_type": "code",
   "execution_count": 229,
   "id": "50fdf96d-d9d1-48da-8ce7-fcc1d8ca0ad6",
   "metadata": {},
   "outputs": [
    {
     "name": "stdout",
     "output_type": "stream",
     "text": [
      "<class 'pandas.core.frame.DataFrame'>\n",
      "Int64Index: 2397 entries, 0 to 2396\n",
      "Data columns (total 6 columns):\n",
      " #   Column       Non-Null Count  Dtype \n",
      "---  ------       --------------  ----- \n",
      " 0   Nombre       2397 non-null   object\n",
      " 1   Modelo       2380 non-null   object\n",
      " 2   Marca        2397 non-null   object\n",
      " 3   Precio       2381 non-null   object\n",
      " 4   Descripcion  2397 non-null   object\n",
      " 5   Url IMG      2397 non-null   object\n",
      "dtypes: object(6)\n",
      "memory usage: 131.1+ KB\n"
     ]
    }
   ],
   "source": [
    "df.info()"
   ]
  },
  {
   "cell_type": "code",
   "execution_count": 230,
   "id": "43adcb8d-84bb-44c3-9b9f-7ba75be7a1fc",
   "metadata": {},
   "outputs": [
    {
     "data": {
      "text/plain": [
       "Nombre          0\n",
       "Modelo         17\n",
       "Marca           0\n",
       "Precio         16\n",
       "Descripcion     0\n",
       "Url IMG         0\n",
       "dtype: int64"
      ]
     },
     "execution_count": 230,
     "metadata": {},
     "output_type": "execute_result"
    }
   ],
   "source": [
    "df.isnull().sum()"
   ]
  },
  {
   "cell_type": "code",
   "execution_count": 231,
   "id": "236be84e-ceb0-432e-905f-cc262a6c983b",
   "metadata": {},
   "outputs": [],
   "source": [
    "df['Modelo'].fillna('Sin Modelo', inplace = True)"
   ]
  },
  {
   "cell_type": "code",
   "execution_count": 232,
   "id": "2227ebb3-3ed6-493a-ae96-b146f0da9084",
   "metadata": {},
   "outputs": [
    {
     "data": {
      "text/plain": [
       "Nombre          0\n",
       "Modelo          0\n",
       "Marca           0\n",
       "Precio         16\n",
       "Descripcion     0\n",
       "Url IMG         0\n",
       "dtype: int64"
      ]
     },
     "execution_count": 232,
     "metadata": {},
     "output_type": "execute_result"
    }
   ],
   "source": [
    "df.isnull().sum()"
   ]
  },
  {
   "cell_type": "code",
   "execution_count": 233,
   "id": "4bdfa971-92cf-4b2b-9161-4454e9c7339f",
   "metadata": {},
   "outputs": [],
   "source": [
    "df['Precio'].fillna(0, inplace = True)"
   ]
  },
  {
   "cell_type": "code",
   "execution_count": 234,
   "id": "ae1b0332-c5ca-401c-91db-fb44126b95b4",
   "metadata": {},
   "outputs": [
    {
     "data": {
      "text/plain": [
       "Nombre         0\n",
       "Modelo         0\n",
       "Marca          0\n",
       "Precio         0\n",
       "Descripcion    0\n",
       "Url IMG        0\n",
       "dtype: int64"
      ]
     },
     "execution_count": 234,
     "metadata": {},
     "output_type": "execute_result"
    }
   ],
   "source": [
    "df.isnull().sum()"
   ]
  },
  {
   "cell_type": "code",
   "execution_count": 235,
   "id": "af2a0eae-1c38-440e-a32d-2de8be9e7cbf",
   "metadata": {
    "tags": []
   },
   "outputs": [
    {
     "data": {
      "text/plain": [
       "array(['BEROKY        1', 'KIP        1', 'BOLEX        1',\n",
       "       'JOCAR        1', 'MYP        1', 'AZOR        1',\n",
       "       'OXFORD        1', 'SIN MARCA        1', 'HERCULES        1',\n",
       "       'ESCRIMEX        1', 'APSA        1', 'BACO        1',\n",
       "       'KYMA        1', 'A-INK        1', 'FORTEC        1',\n",
       "       'MAE        1', 'DIXON        1', 'LEADER        1',\n",
       "       'SABONIS        1', 'BEROL        1', 'JYL        1',\n",
       "       'ACCO        1', 'BIC        1', 'DIEM        1', 'TROSA        1',\n",
       "       'BUFFY        3          ', 'GBC        1', 'ESTRELLA        1',\n",
       "       'MAPASA        1', 'PELIKAN        1', 'MEMO TIP        1',\n",
       "       'WILSON JONES        1', 'MANNY        1', 'BARRILITO        1',\n",
       "       'SHELY        1', 'CORTY        1', 'PENDAFLEX        1',\n",
       "       'HENKEL        1', 'KYMA        3          ',\n",
       "       'FLASHFILE        3          ', 'JANEL        1', 'KORES        1',\n",
       "       'INDUX        1', 'OKAMI        1', 'PETIGON        1',\n",
       "       'STEMPEL        1', 'ARTLINE        1', 'PCM        1',\n",
       "       'MANNY        3          ', 'PILOT        1', 'RICMEN        1',\n",
       "       'OFFICIUM        1', 'COPAMEX        1',\n",
       "       'PELIKAN        3          ', 'PEGASO        1', 'FACTIS        1',\n",
       "       '3M        1', 'PRITT        1', 'BIC        3          ',\n",
       "       'FIFA        1', 'RESISTOL        1', 'OLIVIA        1',\n",
       "       'GOODY LASER DE MEXICO        1', 'LAZZARI        1',\n",
       "       'PRODUCTOS GM        1', 'PENTEL        1',\n",
       "       'BEROL        3          ', 'ESCRIMEX        3          ',\n",
       "       'VEROMO        3          ', 'EUROCOLOR        1',\n",
       "       'TODO DE CARTON        1', 'BARRILITO        3          ',\n",
       "       'PINOS ALTOS        1', 'SWINGLINE        1', 'LEFORT        1',\n",
       "       'RAYTER        3          ', 'KINERA        1', 'LEADER        4',\n",
       "       'EL CUERVO        1', 'ZEBRA        1', 'LESA        1',\n",
       "       'SCRIBE        1', 'TUK        1', 'ESTRELLA        3          ',\n",
       "       'HUERTA        1', 'BUFFY        1', 'BOFLEX        1',\n",
       "       'ACCO        3          ', 'PONTOR        1', 'MIL´U        1',\n",
       "       'LAFICA        1', 'ZEBRA        3          ', 'IRIS        1',\n",
       "       'TLG        1', 'PEGA QUIP        1', 'KOLA LOKA        1',\n",
       "       'FORMATA        1', 'EPSON        1', 'ACEGRAPAS FIFA        1',\n",
       "       'ZEBRA BINDINGS        1', 'SABLON         3          ',\n",
       "       'JUMBO        1', 'AGUILA        1', 'KINERA        3          ',\n",
       "       'SABLON         1', 'UNIBALL        3          ',\n",
       "       'TRANSFER        1', 'CARDINAL        1',\n",
       "       'FORMATA        3          ', 'OLFA        1', 'DELTA        1',\n",
       "       'SHINY        1', 'UHU        1', 'ARGOS        4',\n",
       "       'SCOOL        1', 'SABLON        1', 'CARSI        1',\n",
       "       'RAYTER        1', 'CRAYOLA        1', 'LAROUSSE        1',\n",
       "       'MAPASA        3          ', 'BOSTON        1', 'CARSI        4',\n",
       "       'UNIBALL        1', 'AVERY        1', 'MAPED        1',\n",
       "       'CASIO        1', 'CANON        1', 'RIHAN        1',\n",
       "       'KOLA-LOKA        1', 'LESA        4', 'YAMAHA        1',\n",
       "       'POLIDEX        1', 'COLOP        1', 'STAEDTLER        1',\n",
       "       'PRINTAFORM        1', 'ATRAX        1', 'NORMA        1',\n",
       "       'POLITEC        1', 'AZOR        3          ', 'EAGLE        1',\n",
       "       'GEO        1', 'DYMO        1', 'ACRIMET        1',\n",
       "       'KIEL        1', 'STABILO        1', 'STAFFORD        1',\n",
       "       'KORES        3          ', 'VINCI        1', 'VEROMO        1',\n",
       "       'CHATEU        1', 'NAVIPLASTICK        1',\n",
       "       'JANEL        3          ', 'TRUPER        1',\n",
       "       'PILOT        3          ', 'BOSTITCH        1', 'PAYASO        1',\n",
       "       'STANLEY        1', 'REPUBLICA        1', 'FELLOWES        1',\n",
       "       'SOL        1', 'CANON        3          ', 'SAMSILL        1',\n",
       "       'PLASTILOKA        1', 'ARGOS        1',\n",
       "       'A-INK        3          ', 'DATAPAC        1', 'PERFEX        1',\n",
       "       'QUIK ERASE        1', 'CORCIMEX        4', 'GEO        4',\n",
       "       'LOHNOS        3          ', 'BIC        4', 'OFI-PRO        1',\n",
       "       '3M        4', 'INOXCROM        1', 'COLOP        4',\n",
       "       'KADIZZ        4', 'ALFRA EVEREST        1', 'MONARCH        4',\n",
       "       'MONARCH        1', 'BROBOTIX        1', 'TRODAT        1',\n",
       "       'HERMEX        1', 'NAVITEK        4', 'DIXON        4',\n",
       "       'MAXSEAL        1', 'ROYAL        1', 'AZOR        4',\n",
       "       'GRAINGER        1'], dtype=object)"
      ]
     },
     "execution_count": 235,
     "metadata": {},
     "output_type": "execute_result"
    }
   ],
   "source": [
    "df.Marca.unique()"
   ]
  },
  {
   "cell_type": "code",
   "execution_count": null,
   "id": "8428b016-009e-40b8-8ba4-ee072abb88ae",
   "metadata": {},
   "outputs": [],
   "source": []
  },
  {
   "cell_type": "code",
   "execution_count": 236,
   "id": "1866dcf6-c024-47ae-9a8c-db8668a52fce",
   "metadata": {},
   "outputs": [],
   "source": [
    "df.Marca = df.Marca.str.replace(r'\\s+\\d', '', regex = True).str.strip(' ')"
   ]
  },
  {
   "cell_type": "code",
   "execution_count": 237,
   "id": "5e679603-4ea8-4b65-9768-557ba08ba088",
   "metadata": {},
   "outputs": [
    {
     "data": {
      "text/plain": [
       "array(['BEROKY', 'KIP', 'BOLEX', 'JOCAR', 'MYP', 'AZOR', 'OXFORD',\n",
       "       'SIN MARCA', 'HERCULES', 'ESCRIMEX', 'APSA', 'BACO', 'KYMA',\n",
       "       'A-INK', 'FORTEC', 'MAE', 'DIXON', 'LEADER', 'SABONIS', 'BEROL',\n",
       "       'JYL', 'ACCO', 'BIC', 'DIEM', 'TROSA', 'BUFFY', 'GBC', 'ESTRELLA',\n",
       "       'MAPASA', 'PELIKAN', 'MEMO TIP', 'WILSON JONES', 'MANNY',\n",
       "       'BARRILITO', 'SHELY', 'CORTY', 'PENDAFLEX', 'HENKEL', 'FLASHFILE',\n",
       "       'JANEL', 'KORES', 'INDUX', 'OKAMI', 'PETIGON', 'STEMPEL',\n",
       "       'ARTLINE', 'PCM', 'PILOT', 'RICMEN', 'OFFICIUM', 'COPAMEX',\n",
       "       'PEGASO', 'FACTIS', '3M', 'PRITT', 'FIFA', 'RESISTOL', 'OLIVIA',\n",
       "       'GOODY LASER DE MEXICO', 'LAZZARI', 'PRODUCTOS GM', 'PENTEL',\n",
       "       'VEROMO', 'EUROCOLOR', 'TODO DE CARTON', 'PINOS ALTOS',\n",
       "       'SWINGLINE', 'LEFORT', 'RAYTER', 'KINERA', 'EL CUERVO', 'ZEBRA',\n",
       "       'LESA', 'SCRIBE', 'TUK', 'HUERTA', 'BOFLEX', 'PONTOR', 'MIL´U',\n",
       "       'LAFICA', 'IRIS', 'TLG', 'PEGA QUIP', 'KOLA LOKA', 'FORMATA',\n",
       "       'EPSON', 'ACEGRAPAS FIFA', 'ZEBRA BINDINGS', 'SABLON', 'JUMBO',\n",
       "       'AGUILA', 'UNIBALL', 'TRANSFER', 'CARDINAL', 'OLFA', 'DELTA',\n",
       "       'SHINY', 'UHU', 'ARGOS', 'SCOOL', 'CARSI', 'CRAYOLA', 'LAROUSSE',\n",
       "       'BOSTON', 'AVERY', 'MAPED', 'CASIO', 'CANON', 'RIHAN', 'KOLA-LOKA',\n",
       "       'YAMAHA', 'POLIDEX', 'COLOP', 'STAEDTLER', 'PRINTAFORM', 'ATRAX',\n",
       "       'NORMA', 'POLITEC', 'EAGLE', 'GEO', 'DYMO', 'ACRIMET', 'KIEL',\n",
       "       'STABILO', 'STAFFORD', 'VINCI', 'CHATEU', 'NAVIPLASTICK', 'TRUPER',\n",
       "       'BOSTITCH', 'PAYASO', 'STANLEY', 'REPUBLICA', 'FELLOWES', 'SOL',\n",
       "       'SAMSILL', 'PLASTILOKA', 'DATAPAC', 'PERFEX', 'QUIK ERASE',\n",
       "       'CORCIMEX', 'LOHNOS', 'OFI-PRO', 'INOXCROM', 'KADIZZ',\n",
       "       'ALFRA EVEREST', 'MONARCH', 'BROBOTIX', 'TRODAT', 'HERMEX',\n",
       "       'NAVITEK', 'MAXSEAL', 'ROYAL', 'GRAINGER'], dtype=object)"
      ]
     },
     "execution_count": 237,
     "metadata": {},
     "output_type": "execute_result"
    }
   ],
   "source": [
    "df.Marca.unique()"
   ]
  },
  {
   "cell_type": "code",
   "execution_count": 238,
   "id": "4307c9a5-8e3c-4aa2-a7c6-27220a8b2595",
   "metadata": {},
   "outputs": [
    {
     "data": {
      "text/plain": [
       "array(['$1.52', '$2.27', '$0.56', ..., '$18.30', '$115.22', '$302.06'],\n",
       "      dtype=object)"
      ]
     },
     "execution_count": 238,
     "metadata": {},
     "output_type": "execute_result"
    }
   ],
   "source": [
    "df.Precio.unique()"
   ]
  },
  {
   "cell_type": "code",
   "execution_count": 239,
   "id": "1ce6d4b5-3cb7-4d15-95ec-6068934c3a50",
   "metadata": {},
   "outputs": [],
   "source": [
    "df.Precio = df.Precio.str.strip('$').str.replace(',', '')"
   ]
  },
  {
   "cell_type": "code",
   "execution_count": 240,
   "id": "07b572e4-3149-419c-a0bc-7c1c81a0b3e4",
   "metadata": {},
   "outputs": [
    {
     "data": {
      "text/html": [
       "<div>\n",
       "<style scoped>\n",
       "    .dataframe tbody tr th:only-of-type {\n",
       "        vertical-align: middle;\n",
       "    }\n",
       "\n",
       "    .dataframe tbody tr th {\n",
       "        vertical-align: top;\n",
       "    }\n",
       "\n",
       "    .dataframe thead th {\n",
       "        text-align: right;\n",
       "    }\n",
       "</style>\n",
       "<table border=\"1\" class=\"dataframe\">\n",
       "  <thead>\n",
       "    <tr style=\"text-align: right;\">\n",
       "      <th></th>\n",
       "      <th>Nombre</th>\n",
       "      <th>Modelo</th>\n",
       "      <th>Marca</th>\n",
       "      <th>Precio</th>\n",
       "      <th>Descripcion</th>\n",
       "      <th>Url IMG</th>\n",
       "    </tr>\n",
       "  </thead>\n",
       "  <tbody>\n",
       "    <tr>\n",
       "      <th>0</th>\n",
       "      <td>FOLDER TAMAÑO CARTA COLOR CREMA ECOLOGICO</td>\n",
       "      <td>11417</td>\n",
       "      <td>BEROKY</td>\n",
       "      <td>1.52</td>\n",
       "      <td>FOLDER TAMAÑO CARTA EN CARTULINA DE 175 GRAMOS...</td>\n",
       "      <td>https://henki.com.mx/erp/shared_resources/prod...</td>\n",
       "    </tr>\n",
       "    <tr>\n",
       "      <th>1</th>\n",
       "      <td>SOBRE BOLSA SOLAPA ENGOMADA MANILA CARTA</td>\n",
       "      <td>SOBMGK-CTA</td>\n",
       "      <td>KIP</td>\n",
       "      <td>2.27</td>\n",
       "      <td>SOBRE BOLSA SOLAPA ENGOMADA PAPEL MANILA DE 90...</td>\n",
       "      <td>https://henki.com.mx/erp/shared_resources/prod...</td>\n",
       "    </tr>\n",
       "  </tbody>\n",
       "</table>\n",
       "</div>"
      ],
      "text/plain": [
       "                                      Nombre      Modelo   Marca Precio  \\\n",
       "0  FOLDER TAMAÑO CARTA COLOR CREMA ECOLOGICO       11417  BEROKY   1.52   \n",
       "1   SOBRE BOLSA SOLAPA ENGOMADA MANILA CARTA  SOBMGK-CTA     KIP   2.27   \n",
       "\n",
       "                                         Descripcion  \\\n",
       "0  FOLDER TAMAÑO CARTA EN CARTULINA DE 175 GRAMOS...   \n",
       "1  SOBRE BOLSA SOLAPA ENGOMADA PAPEL MANILA DE 90...   \n",
       "\n",
       "                                             Url IMG  \n",
       "0  https://henki.com.mx/erp/shared_resources/prod...  \n",
       "1  https://henki.com.mx/erp/shared_resources/prod...  "
      ]
     },
     "execution_count": 240,
     "metadata": {},
     "output_type": "execute_result"
    }
   ],
   "source": [
    "df.head(2)"
   ]
  },
  {
   "cell_type": "code",
   "execution_count": 241,
   "id": "c653b8b6-8f9c-4dd8-88ad-8e1b77cd7ef6",
   "metadata": {},
   "outputs": [
    {
     "data": {
      "text/plain": [
       "Nombre         object\n",
       "Modelo         object\n",
       "Marca          object\n",
       "Precio         object\n",
       "Descripcion    object\n",
       "Url IMG        object\n",
       "dtype: object"
      ]
     },
     "execution_count": 241,
     "metadata": {},
     "output_type": "execute_result"
    }
   ],
   "source": [
    "df.dtypes"
   ]
  },
  {
   "cell_type": "code",
   "execution_count": 242,
   "id": "b7d65f35-23c7-4088-87fd-5d3e43a64dc0",
   "metadata": {
    "tags": []
   },
   "outputs": [
    {
     "data": {
      "text/plain": [
       "0         1.52\n",
       "1         2.27\n",
       "2         0.56\n",
       "3         2.85\n",
       "4         2.13\n",
       "         ...  \n",
       "2392    115.22\n",
       "2393     33.96\n",
       "2394     24.79\n",
       "2395    302.06\n",
       "2396     47.95\n",
       "Name: Precio, Length: 2397, dtype: object"
      ]
     },
     "execution_count": 242,
     "metadata": {},
     "output_type": "execute_result"
    }
   ],
   "source": [
    "df.Precio"
   ]
  },
  {
   "cell_type": "code",
   "execution_count": 243,
   "id": "d2d5db10-4abb-4ac2-95b1-3abd23e09b73",
   "metadata": {},
   "outputs": [],
   "source": [
    "df.Precio = df.Precio.astype('float')"
   ]
  },
  {
   "cell_type": "code",
   "execution_count": 244,
   "id": "df526877-5f07-4556-8733-9c741f50381b",
   "metadata": {},
   "outputs": [
    {
     "data": {
      "text/html": [
       "<div>\n",
       "<style scoped>\n",
       "    .dataframe tbody tr th:only-of-type {\n",
       "        vertical-align: middle;\n",
       "    }\n",
       "\n",
       "    .dataframe tbody tr th {\n",
       "        vertical-align: top;\n",
       "    }\n",
       "\n",
       "    .dataframe thead th {\n",
       "        text-align: right;\n",
       "    }\n",
       "</style>\n",
       "<table border=\"1\" class=\"dataframe\">\n",
       "  <thead>\n",
       "    <tr style=\"text-align: right;\">\n",
       "      <th></th>\n",
       "      <th>Nombre</th>\n",
       "      <th>Modelo</th>\n",
       "      <th>Marca</th>\n",
       "      <th>Precio</th>\n",
       "      <th>Descripcion</th>\n",
       "      <th>Url IMG</th>\n",
       "    </tr>\n",
       "  </thead>\n",
       "  <tbody>\n",
       "    <tr>\n",
       "      <th>0</th>\n",
       "      <td>FOLDER TAMAÑO CARTA COLOR CREMA ECOLOGICO</td>\n",
       "      <td>11417</td>\n",
       "      <td>BEROKY</td>\n",
       "      <td>1.52</td>\n",
       "      <td>FOLDER TAMAÑO CARTA EN CARTULINA DE 175 GRAMOS...</td>\n",
       "      <td>https://henki.com.mx/erp/shared_resources/prod...</td>\n",
       "    </tr>\n",
       "    <tr>\n",
       "      <th>1</th>\n",
       "      <td>SOBRE BOLSA SOLAPA ENGOMADA MANILA CARTA</td>\n",
       "      <td>SOBMGK-CTA</td>\n",
       "      <td>KIP</td>\n",
       "      <td>2.27</td>\n",
       "      <td>SOBRE BOLSA SOLAPA ENGOMADA PAPEL MANILA DE 90...</td>\n",
       "      <td>https://henki.com.mx/erp/shared_resources/prod...</td>\n",
       "    </tr>\n",
       "    <tr>\n",
       "      <th>2</th>\n",
       "      <td>SOBRE BLANCO PARA CORRESPONDENCIA CARTA SIN VE...</td>\n",
       "      <td>SOBBCO-CTA</td>\n",
       "      <td>KIP</td>\n",
       "      <td>0.56</td>\n",
       "      <td>SOBRE BLANCO PARA CORRESPONDENCIA CARTA 6 3/4 ...</td>\n",
       "      <td>https://henki.com.mx/erp/shared_resources/prod...</td>\n",
       "    </tr>\n",
       "    <tr>\n",
       "      <th>3</th>\n",
       "      <td>SOBRE BOLSA SOLAPA ENGOMADA MANILA EXTRA OFICIO</td>\n",
       "      <td>SOBMGK-OFI</td>\n",
       "      <td>KIP</td>\n",
       "      <td>2.85</td>\n",
       "      <td>SOBRE BOLSA SOLAPA ENGOMADA PAPEL MANILA DE 90...</td>\n",
       "      <td>https://henki.com.mx/erp/shared_resources/prod...</td>\n",
       "    </tr>\n",
       "    <tr>\n",
       "      <th>4</th>\n",
       "      <td>BOLIGRAFO PUNTO MEDIANO AZUL</td>\n",
       "      <td>BOLEX</td>\n",
       "      <td>BOLEX</td>\n",
       "      <td>2.13</td>\n",
       "      <td>BOLIGRAFO PUNTO MEDIANO AZUL BOLEX</td>\n",
       "      <td>https://henki.com.mx/erp/shared_resources/rest...</td>\n",
       "    </tr>\n",
       "  </tbody>\n",
       "</table>\n",
       "</div>"
      ],
      "text/plain": [
       "                                              Nombre      Modelo   Marca  \\\n",
       "0          FOLDER TAMAÑO CARTA COLOR CREMA ECOLOGICO       11417  BEROKY   \n",
       "1           SOBRE BOLSA SOLAPA ENGOMADA MANILA CARTA  SOBMGK-CTA     KIP   \n",
       "2  SOBRE BLANCO PARA CORRESPONDENCIA CARTA SIN VE...  SOBBCO-CTA     KIP   \n",
       "3    SOBRE BOLSA SOLAPA ENGOMADA MANILA EXTRA OFICIO  SOBMGK-OFI     KIP   \n",
       "4                       BOLIGRAFO PUNTO MEDIANO AZUL       BOLEX   BOLEX   \n",
       "\n",
       "   Precio                                        Descripcion  \\\n",
       "0    1.52  FOLDER TAMAÑO CARTA EN CARTULINA DE 175 GRAMOS...   \n",
       "1    2.27  SOBRE BOLSA SOLAPA ENGOMADA PAPEL MANILA DE 90...   \n",
       "2    0.56  SOBRE BLANCO PARA CORRESPONDENCIA CARTA 6 3/4 ...   \n",
       "3    2.85  SOBRE BOLSA SOLAPA ENGOMADA PAPEL MANILA DE 90...   \n",
       "4    2.13                 BOLIGRAFO PUNTO MEDIANO AZUL BOLEX   \n",
       "\n",
       "                                             Url IMG  \n",
       "0  https://henki.com.mx/erp/shared_resources/prod...  \n",
       "1  https://henki.com.mx/erp/shared_resources/prod...  \n",
       "2  https://henki.com.mx/erp/shared_resources/prod...  \n",
       "3  https://henki.com.mx/erp/shared_resources/prod...  \n",
       "4  https://henki.com.mx/erp/shared_resources/rest...  "
      ]
     },
     "execution_count": 244,
     "metadata": {},
     "output_type": "execute_result"
    }
   ],
   "source": [
    "df.head(5)"
   ]
  },
  {
   "cell_type": "code",
   "execution_count": 245,
   "id": "f682f2c2-72d3-4bd7-9d13-6cfaf6760fbf",
   "metadata": {},
   "outputs": [
    {
     "data": {
      "text/plain": [
       "Nombre          object\n",
       "Modelo          object\n",
       "Marca           object\n",
       "Precio         float64\n",
       "Descripcion     object\n",
       "Url IMG         object\n",
       "dtype: object"
      ]
     },
     "execution_count": 245,
     "metadata": {},
     "output_type": "execute_result"
    }
   ],
   "source": [
    "df.dtypes"
   ]
  },
  {
   "cell_type": "code",
   "execution_count": 246,
   "id": "4271d05c-f619-497d-a741-7f4e1e824c0d",
   "metadata": {},
   "outputs": [],
   "source": [
    "df.to_csv('tabla_productos_limpio.cvs', index=False) #GUARDAMOS EN UNA TABLA CVS"
   ]
  },
  {
   "cell_type": "code",
   "execution_count": 247,
   "id": "62660785-3115-4276-9c79-b9380345509f",
   "metadata": {},
   "outputs": [],
   "source": [
    "df.to_excel('tabla_productos_limpio.xlsx', index=False) #GUARDAMOS EN UNA TABLA DE EXCEL"
   ]
  },
  {
   "cell_type": "code",
   "execution_count": 248,
   "id": "e910fd5e-9006-4445-85c6-a60a23ff4dec",
   "metadata": {
    "tags": []
   },
   "outputs": [],
   "source": [
    "df.insert(6, \"IMAGEN\", \"\") "
   ]
  },
  {
   "cell_type": "code",
   "execution_count": 249,
   "id": "11a84d50-6280-4c51-b831-1b0cd88ff257",
   "metadata": {},
   "outputs": [
    {
     "data": {
      "text/html": [
       "<div>\n",
       "<style scoped>\n",
       "    .dataframe tbody tr th:only-of-type {\n",
       "        vertical-align: middle;\n",
       "    }\n",
       "\n",
       "    .dataframe tbody tr th {\n",
       "        vertical-align: top;\n",
       "    }\n",
       "\n",
       "    .dataframe thead th {\n",
       "        text-align: right;\n",
       "    }\n",
       "</style>\n",
       "<table border=\"1\" class=\"dataframe\">\n",
       "  <thead>\n",
       "    <tr style=\"text-align: right;\">\n",
       "      <th></th>\n",
       "      <th>Nombre</th>\n",
       "      <th>Modelo</th>\n",
       "      <th>Marca</th>\n",
       "      <th>Precio</th>\n",
       "      <th>Descripcion</th>\n",
       "      <th>Url IMG</th>\n",
       "      <th>IMAGEN</th>\n",
       "    </tr>\n",
       "  </thead>\n",
       "  <tbody>\n",
       "    <tr>\n",
       "      <th>0</th>\n",
       "      <td>FOLDER TAMAÑO CARTA COLOR CREMA ECOLOGICO</td>\n",
       "      <td>11417</td>\n",
       "      <td>BEROKY</td>\n",
       "      <td>1.52</td>\n",
       "      <td>FOLDER TAMAÑO CARTA EN CARTULINA DE 175 GRAMOS...</td>\n",
       "      <td>https://henki.com.mx/erp/shared_resources/prod...</td>\n",
       "      <td></td>\n",
       "    </tr>\n",
       "    <tr>\n",
       "      <th>1</th>\n",
       "      <td>SOBRE BOLSA SOLAPA ENGOMADA MANILA CARTA</td>\n",
       "      <td>SOBMGK-CTA</td>\n",
       "      <td>KIP</td>\n",
       "      <td>2.27</td>\n",
       "      <td>SOBRE BOLSA SOLAPA ENGOMADA PAPEL MANILA DE 90...</td>\n",
       "      <td>https://henki.com.mx/erp/shared_resources/prod...</td>\n",
       "      <td></td>\n",
       "    </tr>\n",
       "  </tbody>\n",
       "</table>\n",
       "</div>"
      ],
      "text/plain": [
       "                                      Nombre      Modelo   Marca  Precio  \\\n",
       "0  FOLDER TAMAÑO CARTA COLOR CREMA ECOLOGICO       11417  BEROKY    1.52   \n",
       "1   SOBRE BOLSA SOLAPA ENGOMADA MANILA CARTA  SOBMGK-CTA     KIP    2.27   \n",
       "\n",
       "                                         Descripcion  \\\n",
       "0  FOLDER TAMAÑO CARTA EN CARTULINA DE 175 GRAMOS...   \n",
       "1  SOBRE BOLSA SOLAPA ENGOMADA PAPEL MANILA DE 90...   \n",
       "\n",
       "                                             Url IMG IMAGEN  \n",
       "0  https://henki.com.mx/erp/shared_resources/prod...         \n",
       "1  https://henki.com.mx/erp/shared_resources/prod...         "
      ]
     },
     "execution_count": 249,
     "metadata": {},
     "output_type": "execute_result"
    }
   ],
   "source": [
    "df.head(2)"
   ]
  },
  {
   "cell_type": "code",
   "execution_count": 250,
   "id": "8179fbea-a7e6-42c6-8eeb-ce9ba2f7fef6",
   "metadata": {},
   "outputs": [
    {
     "data": {
      "text/plain": [
       "2397"
      ]
     },
     "execution_count": 250,
     "metadata": {},
     "output_type": "execute_result"
    }
   ],
   "source": [
    "len(df)"
   ]
  },
  {
   "cell_type": "code",
   "execution_count": null,
   "id": "2a0a3dbb-30e4-4613-bb77-9cabdce6bbec",
   "metadata": {},
   "outputs": [],
   "source": []
  },
  {
   "cell_type": "code",
   "execution_count": 252,
   "id": "25ff477e-655e-45ee-80e5-9f340094d345",
   "metadata": {},
   "outputs": [],
   "source": [
    "import pandas as pd\n",
    "\n",
    "\n",
    "# Create a Pandas dataframe from some data.\n",
    "#df = pd.DataFrame({'Data': [10, 20, 30, 20, 15, 30, 45]})\n",
    "\n",
    "# Create a Pandas Excel writer using XlsxWriter as the engine.\n",
    "writer = pd.ExcelWriter('Tabla_producto_image_limpio.xlsx', engine='xlsxwriter') # RENOMBRANDO EL NUEVO EXCELN COMO TABLA_PRODUCTO_IMAGE\n",
    "\n",
    "# Convert the dataframe to an XlsxWriter Excel object.\n",
    "df.to_excel(writer, index=False, sheet_name='Sheet1') # ACTIVAMOS EL PODER RESCRIBIR EL LIBRO SHEET1\n",
    "\n",
    "# Get the xlsxwriter workbook and worksheet objects.\n",
    "workbook  = writer.book\n",
    "worksheet = writer.sheets['Sheet1'] # CREAMOS LA FUNCION DE SOBRE ESCIRBIR \n",
    "\n",
    "# Insert an image.\n",
    "#worksheet.insert_image('I2', 'logo.png')\n",
    "b=2\n",
    "\n",
    "for imag in range(len(df)):\n",
    "    imag=imag+1\n",
    "    worksheet.insert_image(f'G{b}', f'Imagenes/imagen{imag}.png') # CARGAMOS LA IMAGEN NUMERADA Y LA PEGAMOS EN LA CELDA I NUMERADA\n",
    "    b=b+1\n",
    "\n",
    "\n",
    "# Close the Pandas Excel writer and output the Excel file.\n",
    "writer.save() # GUARDAMOS EL EXCEL"
   ]
  },
  {
   "cell_type": "code",
   "execution_count": 223,
   "id": "e5928272-e559-494d-b25b-d77863733525",
   "metadata": {},
   "outputs": [
    {
     "name": "stdout",
     "output_type": "stream",
     "text": [
      "Help on method to_excel in module pandas.core.generic:\n",
      "\n",
      "to_excel(excel_writer, sheet_name: 'str' = 'Sheet1', na_rep: 'str' = '', float_format: 'str | None' = None, columns=None, header=True, index=True, index_label=None, startrow=0, startcol=0, engine=None, merge_cells=True, encoding=None, inf_rep='inf', verbose=True, freeze_panes=None, storage_options: 'StorageOptions' = None) -> 'None' method of pandas.core.frame.DataFrame instance\n",
      "    Write object to an Excel sheet.\n",
      "    \n",
      "    To write a single object to an Excel .xlsx file it is only necessary to\n",
      "    specify a target file name. To write to multiple sheets it is necessary to\n",
      "    create an `ExcelWriter` object with a target file name, and specify a sheet\n",
      "    in the file to write to.\n",
      "    \n",
      "    Multiple sheets may be written to by specifying unique `sheet_name`.\n",
      "    With all data written to the file it is necessary to save the changes.\n",
      "    Note that creating an `ExcelWriter` object with a file name that already\n",
      "    exists will result in the contents of the existing file being erased.\n",
      "    \n",
      "    Parameters\n",
      "    ----------\n",
      "    excel_writer : path-like, file-like, or ExcelWriter object\n",
      "        File path or existing ExcelWriter.\n",
      "    sheet_name : str, default 'Sheet1'\n",
      "        Name of sheet which will contain DataFrame.\n",
      "    na_rep : str, default ''\n",
      "        Missing data representation.\n",
      "    float_format : str, optional\n",
      "        Format string for floating point numbers. For example\n",
      "        ``float_format=\"%.2f\"`` will format 0.1234 to 0.12.\n",
      "    columns : sequence or list of str, optional\n",
      "        Columns to write.\n",
      "    header : bool or list of str, default True\n",
      "        Write out the column names. If a list of string is given it is\n",
      "        assumed to be aliases for the column names.\n",
      "    index : bool, default True\n",
      "        Write row names (index).\n",
      "    index_label : str or sequence, optional\n",
      "        Column label for index column(s) if desired. If not specified, and\n",
      "        `header` and `index` are True, then the index names are used. A\n",
      "        sequence should be given if the DataFrame uses MultiIndex.\n",
      "    startrow : int, default 0\n",
      "        Upper left cell row to dump data frame.\n",
      "    startcol : int, default 0\n",
      "        Upper left cell column to dump data frame.\n",
      "    engine : str, optional\n",
      "        Write engine to use, 'openpyxl' or 'xlsxwriter'. You can also set this\n",
      "        via the options ``io.excel.xlsx.writer``, ``io.excel.xls.writer``, and\n",
      "        ``io.excel.xlsm.writer``.\n",
      "    \n",
      "        .. deprecated:: 1.2.0\n",
      "    \n",
      "            As the `xlwt <https://pypi.org/project/xlwt/>`__ package is no longer\n",
      "            maintained, the ``xlwt`` engine will be removed in a future version\n",
      "            of pandas.\n",
      "    \n",
      "    merge_cells : bool, default True\n",
      "        Write MultiIndex and Hierarchical Rows as merged cells.\n",
      "    encoding : str, optional\n",
      "        Encoding of the resulting excel file. Only necessary for xlwt,\n",
      "        other writers support unicode natively.\n",
      "    inf_rep : str, default 'inf'\n",
      "        Representation for infinity (there is no native representation for\n",
      "        infinity in Excel).\n",
      "    verbose : bool, default True\n",
      "        Display more information in the error logs.\n",
      "    freeze_panes : tuple of int (length 2), optional\n",
      "        Specifies the one-based bottommost row and rightmost column that\n",
      "        is to be frozen.\n",
      "    storage_options : dict, optional\n",
      "        Extra options that make sense for a particular storage connection, e.g.\n",
      "        host, port, username, password, etc. For HTTP(S) URLs the key-value pairs\n",
      "        are forwarded to ``urllib`` as header options. For other URLs (e.g.\n",
      "        starting with \"s3://\", and \"gcs://\") the key-value pairs are forwarded to\n",
      "        ``fsspec``. Please see ``fsspec`` and ``urllib`` for more details.\n",
      "    \n",
      "        .. versionadded:: 1.2.0\n",
      "    \n",
      "    See Also\n",
      "    --------\n",
      "    to_csv : Write DataFrame to a comma-separated values (csv) file.\n",
      "    ExcelWriter : Class for writing DataFrame objects into excel sheets.\n",
      "    read_excel : Read an Excel file into a pandas DataFrame.\n",
      "    read_csv : Read a comma-separated values (csv) file into DataFrame.\n",
      "    \n",
      "    Notes\n",
      "    -----\n",
      "    For compatibility with :meth:`~DataFrame.to_csv`,\n",
      "    to_excel serializes lists and dicts to strings before writing.\n",
      "    \n",
      "    Once a workbook has been saved it is not possible to write further\n",
      "    data without rewriting the whole workbook.\n",
      "    \n",
      "    Examples\n",
      "    --------\n",
      "    \n",
      "    Create, write to and save a workbook:\n",
      "    \n",
      "    >>> df1 = pd.DataFrame([['a', 'b'], ['c', 'd']],\n",
      "    ...                    index=['row 1', 'row 2'],\n",
      "    ...                    columns=['col 1', 'col 2'])\n",
      "    >>> df1.to_excel(\"output.xlsx\")  # doctest: +SKIP\n",
      "    \n",
      "    To specify the sheet name:\n",
      "    \n",
      "    >>> df1.to_excel(\"output.xlsx\",\n",
      "    ...              sheet_name='Sheet_name_1')  # doctest: +SKIP\n",
      "    \n",
      "    If you wish to write to more than one sheet in the workbook, it is\n",
      "    necessary to specify an ExcelWriter object:\n",
      "    \n",
      "    >>> df2 = df1.copy()\n",
      "    >>> with pd.ExcelWriter('output.xlsx') as writer:  # doctest: +SKIP\n",
      "    ...     df1.to_excel(writer, sheet_name='Sheet_name_1')\n",
      "    ...     df2.to_excel(writer, sheet_name='Sheet_name_2')\n",
      "    \n",
      "    ExcelWriter can also be used to append to an existing Excel file:\n",
      "    \n",
      "    >>> with pd.ExcelWriter('output.xlsx',\n",
      "    ...                     mode='a') as writer:  # doctest: +SKIP\n",
      "    ...     df.to_excel(writer, sheet_name='Sheet_name_3')\n",
      "    \n",
      "    To set the library that is used to write the Excel file,\n",
      "    you can pass the `engine` keyword (the default engine is\n",
      "    automatically chosen depending on the file extension):\n",
      "    \n",
      "    >>> df1.to_excel('output1.xlsx', engine='xlsxwriter')  # doctest: +SKIP\n",
      "\n"
     ]
    }
   ],
   "source": [
    "help(df.to_excel)"
   ]
  },
  {
   "cell_type": "code",
   "execution_count": null,
   "id": "0bdfc33b-ebe7-47df-8b70-15b81d202136",
   "metadata": {},
   "outputs": [],
   "source": []
  },
  {
   "cell_type": "code",
   "execution_count": null,
   "id": "5a3da4a5-6dce-4afa-a0db-83a322e6d904",
   "metadata": {},
   "outputs": [],
   "source": []
  },
  {
   "cell_type": "code",
   "execution_count": null,
   "id": "fcfd3dbd-8523-4892-9af6-be42755ea1f3",
   "metadata": {},
   "outputs": [],
   "source": []
  },
  {
   "cell_type": "code",
   "execution_count": null,
   "id": "c76e17b7-c9f1-4062-8480-a4abbef8006e",
   "metadata": {},
   "outputs": [],
   "source": []
  }
 ],
 "metadata": {
  "kernelspec": {
   "display_name": "Python 3 (ipykernel)",
   "language": "python",
   "name": "python3"
  },
  "language_info": {
   "codemirror_mode": {
    "name": "ipython",
    "version": 3
   },
   "file_extension": ".py",
   "mimetype": "text/x-python",
   "name": "python",
   "nbconvert_exporter": "python",
   "pygments_lexer": "ipython3",
   "version": "3.9.13"
  }
 },
 "nbformat": 4,
 "nbformat_minor": 5
}
