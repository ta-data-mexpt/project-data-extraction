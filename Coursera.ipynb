{
 "cells": [
  {
   "cell_type": "code",
   "execution_count": 10,
   "metadata": {},
   "outputs": [],
   "source": [
    "import requests\n",
    "from bs4 import BeautifulSoup\n",
    "import pandas as pd"
   ]
  },
  {
   "cell_type": "code",
   "execution_count": 21,
   "metadata": {},
   "outputs": [],
   "source": [
    "url_Data_Science = 'https://www.coursera.org/browse/data-science?facets=entityTypeTag%3ACourses%2CcategoryMultiTag%3Adata-science'\n",
    "html_Data_Science = requests.get(url_Data_Science).content\n",
    "soup_Data_Science = BeautifulSoup(html_Data_Science)"
   ]
  },
  {
   "cell_type": "code",
   "execution_count": 22,
   "metadata": {},
   "outputs": [],
   "source": [
    "get_courses_DS = soup_Data_Science.find_all('div', {'class':'product-name'})"
   ]
  },
  {
   "cell_type": "code",
   "execution_count": 23,
   "metadata": {},
   "outputs": [
    {
     "data": {
      "text/plain": [
       "['Machine Learning',\n",
       " 'Neural Networks and Deep Learning',\n",
       " 'Python Data Structures',\n",
       " 'Excel Skills for Business: Essentials',\n",
       " 'What is Data Science? ',\n",
       " 'Introduction to Data Science in Python',\n",
       " 'Python for Data Science and AI',\n",
       " 'Marketing Analytics',\n",
       " 'The Data Scientist’s Toolbox',\n",
       " 'Improving Deep Neural Networks: Hyperparameter tuning, Regularization and Optimization',\n",
       " 'Machine Learning with Python',\n",
       " 'Data Science Math Skills',\n",
       " 'Convolutional Neural Networks',\n",
       " 'R Programming',\n",
       " 'Data Analysis with Python',\n",
       " 'Open Source tools for Data Science',\n",
       " 'Databases and SQL for Data Science',\n",
       " 'Machine Learning for Business Professionals',\n",
       " 'Mathematics for Machine Learning: Linear Algebra']"
      ]
     },
     "execution_count": 23,
     "metadata": {},
     "output_type": "execute_result"
    }
   ],
   "source": [
    "courses_Data_Science = []\n",
    "for course in get_courses_DS:\n",
    "    courses_Data_Science.append(course.text)\n",
    "courses_Data_Science"
   ]
  },
  {
   "cell_type": "code",
   "execution_count": 24,
   "metadata": {},
   "outputs": [
    {
     "data": {
      "text/plain": [
       "19"
      ]
     },
     "execution_count": 24,
     "metadata": {},
     "output_type": "execute_result"
    }
   ],
   "source": [
    "len(courses_Data_Science)"
   ]
  },
  {
   "cell_type": "code",
   "execution_count": null,
   "metadata": {},
   "outputs": [],
   "source": []
  }
 ],
 "metadata": {
  "kernelspec": {
   "display_name": "Python 3",
   "language": "python",
   "name": "python3"
  },
  "language_info": {
   "codemirror_mode": {
    "name": "ipython",
    "version": 3
   },
   "file_extension": ".py",
   "mimetype": "text/x-python",
   "name": "python",
   "nbconvert_exporter": "python",
   "pygments_lexer": "ipython3",
   "version": "3.7.6"
  }
 },
 "nbformat": 4,
 "nbformat_minor": 4
}
