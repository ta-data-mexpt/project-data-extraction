{
 "cells": [
  {
   "cell_type": "code",
   "execution_count": 148,
   "id": "46856b67-777b-4a2e-93a5-1f83693f2347",
   "metadata": {},
   "outputs": [],
   "source": [
    "import requests\n",
    "from bs4 import BeautifulSoup\n",
    "import pandas as pd\n",
    "import html5lib\n",
    "import yfinance as yf"
   ]
  },
  {
   "cell_type": "code",
   "execution_count": null,
   "id": "115e61b2-5c5e-4366-9907-f5f655f7c408",
   "metadata": {},
   "outputs": [],
   "source": []
  },
  {
   "cell_type": "code",
   "execution_count": 9,
   "id": "5a638f2e-fabe-40ae-8a37-2de0c09f04c5",
   "metadata": {},
   "outputs": [
    {
     "name": "stdout",
     "output_type": "stream",
     "text": [
      "yfinance.Ticker object <AAPL>\n"
     ]
    },
    {
     "data": {
      "text/html": [
       "<div>\n",
       "<style scoped>\n",
       "    .dataframe tbody tr th:only-of-type {\n",
       "        vertical-align: middle;\n",
       "    }\n",
       "\n",
       "    .dataframe tbody tr th {\n",
       "        vertical-align: top;\n",
       "    }\n",
       "\n",
       "    .dataframe thead th {\n",
       "        text-align: right;\n",
       "    }\n",
       "</style>\n",
       "<table border=\"1\" class=\"dataframe\">\n",
       "  <thead>\n",
       "    <tr style=\"text-align: right;\">\n",
       "      <th></th>\n",
       "      <th>Open</th>\n",
       "      <th>High</th>\n",
       "      <th>Low</th>\n",
       "      <th>Close</th>\n",
       "      <th>Volume</th>\n",
       "      <th>Dividends</th>\n",
       "      <th>Stock Splits</th>\n",
       "    </tr>\n",
       "    <tr>\n",
       "      <th>Date</th>\n",
       "      <th></th>\n",
       "      <th></th>\n",
       "      <th></th>\n",
       "      <th></th>\n",
       "      <th></th>\n",
       "      <th></th>\n",
       "      <th></th>\n",
       "    </tr>\n",
       "  </thead>\n",
       "  <tbody>\n",
       "    <tr>\n",
       "      <th>1980-12-12 00:00:00-05:00</th>\n",
       "      <td>0.099874</td>\n",
       "      <td>0.100308</td>\n",
       "      <td>0.099874</td>\n",
       "      <td>0.099874</td>\n",
       "      <td>469033600</td>\n",
       "      <td>0.0</td>\n",
       "      <td>0.0</td>\n",
       "    </tr>\n",
       "    <tr>\n",
       "      <th>1980-12-15 00:00:00-05:00</th>\n",
       "      <td>0.095098</td>\n",
       "      <td>0.095098</td>\n",
       "      <td>0.094663</td>\n",
       "      <td>0.094663</td>\n",
       "      <td>175884800</td>\n",
       "      <td>0.0</td>\n",
       "      <td>0.0</td>\n",
       "    </tr>\n",
       "    <tr>\n",
       "      <th>1980-12-16 00:00:00-05:00</th>\n",
       "      <td>0.088149</td>\n",
       "      <td>0.088149</td>\n",
       "      <td>0.087715</td>\n",
       "      <td>0.087715</td>\n",
       "      <td>105728000</td>\n",
       "      <td>0.0</td>\n",
       "      <td>0.0</td>\n",
       "    </tr>\n",
       "    <tr>\n",
       "      <th>1980-12-17 00:00:00-05:00</th>\n",
       "      <td>0.089886</td>\n",
       "      <td>0.090320</td>\n",
       "      <td>0.089886</td>\n",
       "      <td>0.089886</td>\n",
       "      <td>86441600</td>\n",
       "      <td>0.0</td>\n",
       "      <td>0.0</td>\n",
       "    </tr>\n",
       "    <tr>\n",
       "      <th>1980-12-18 00:00:00-05:00</th>\n",
       "      <td>0.092492</td>\n",
       "      <td>0.092926</td>\n",
       "      <td>0.092492</td>\n",
       "      <td>0.092492</td>\n",
       "      <td>73449600</td>\n",
       "      <td>0.0</td>\n",
       "      <td>0.0</td>\n",
       "    </tr>\n",
       "    <tr>\n",
       "      <th>...</th>\n",
       "      <td>...</td>\n",
       "      <td>...</td>\n",
       "      <td>...</td>\n",
       "      <td>...</td>\n",
       "      <td>...</td>\n",
       "      <td>...</td>\n",
       "      <td>...</td>\n",
       "    </tr>\n",
       "    <tr>\n",
       "      <th>2022-11-15 00:00:00-05:00</th>\n",
       "      <td>152.220001</td>\n",
       "      <td>153.589996</td>\n",
       "      <td>148.559998</td>\n",
       "      <td>150.039993</td>\n",
       "      <td>89868300</td>\n",
       "      <td>0.0</td>\n",
       "      <td>0.0</td>\n",
       "    </tr>\n",
       "    <tr>\n",
       "      <th>2022-11-16 00:00:00-05:00</th>\n",
       "      <td>149.130005</td>\n",
       "      <td>149.869995</td>\n",
       "      <td>147.289993</td>\n",
       "      <td>148.789993</td>\n",
       "      <td>64218300</td>\n",
       "      <td>0.0</td>\n",
       "      <td>0.0</td>\n",
       "    </tr>\n",
       "    <tr>\n",
       "      <th>2022-11-17 00:00:00-05:00</th>\n",
       "      <td>146.429993</td>\n",
       "      <td>151.479996</td>\n",
       "      <td>146.149994</td>\n",
       "      <td>150.720001</td>\n",
       "      <td>80389400</td>\n",
       "      <td>0.0</td>\n",
       "      <td>0.0</td>\n",
       "    </tr>\n",
       "    <tr>\n",
       "      <th>2022-11-18 00:00:00-05:00</th>\n",
       "      <td>152.309998</td>\n",
       "      <td>152.699997</td>\n",
       "      <td>149.970001</td>\n",
       "      <td>151.289993</td>\n",
       "      <td>74794600</td>\n",
       "      <td>0.0</td>\n",
       "      <td>0.0</td>\n",
       "    </tr>\n",
       "    <tr>\n",
       "      <th>2022-11-21 00:00:00-05:00</th>\n",
       "      <td>150.160004</td>\n",
       "      <td>150.369995</td>\n",
       "      <td>147.720001</td>\n",
       "      <td>148.009995</td>\n",
       "      <td>58646900</td>\n",
       "      <td>0.0</td>\n",
       "      <td>0.0</td>\n",
       "    </tr>\n",
       "  </tbody>\n",
       "</table>\n",
       "<p>10576 rows × 7 columns</p>\n",
       "</div>"
      ],
      "text/plain": [
       "                                 Open        High         Low       Close  \\\n",
       "Date                                                                        \n",
       "1980-12-12 00:00:00-05:00    0.099874    0.100308    0.099874    0.099874   \n",
       "1980-12-15 00:00:00-05:00    0.095098    0.095098    0.094663    0.094663   \n",
       "1980-12-16 00:00:00-05:00    0.088149    0.088149    0.087715    0.087715   \n",
       "1980-12-17 00:00:00-05:00    0.089886    0.090320    0.089886    0.089886   \n",
       "1980-12-18 00:00:00-05:00    0.092492    0.092926    0.092492    0.092492   \n",
       "...                               ...         ...         ...         ...   \n",
       "2022-11-15 00:00:00-05:00  152.220001  153.589996  148.559998  150.039993   \n",
       "2022-11-16 00:00:00-05:00  149.130005  149.869995  147.289993  148.789993   \n",
       "2022-11-17 00:00:00-05:00  146.429993  151.479996  146.149994  150.720001   \n",
       "2022-11-18 00:00:00-05:00  152.309998  152.699997  149.970001  151.289993   \n",
       "2022-11-21 00:00:00-05:00  150.160004  150.369995  147.720001  148.009995   \n",
       "\n",
       "                              Volume  Dividends  Stock Splits  \n",
       "Date                                                           \n",
       "1980-12-12 00:00:00-05:00  469033600        0.0           0.0  \n",
       "1980-12-15 00:00:00-05:00  175884800        0.0           0.0  \n",
       "1980-12-16 00:00:00-05:00  105728000        0.0           0.0  \n",
       "1980-12-17 00:00:00-05:00   86441600        0.0           0.0  \n",
       "1980-12-18 00:00:00-05:00   73449600        0.0           0.0  \n",
       "...                              ...        ...           ...  \n",
       "2022-11-15 00:00:00-05:00   89868300        0.0           0.0  \n",
       "2022-11-16 00:00:00-05:00   64218300        0.0           0.0  \n",
       "2022-11-17 00:00:00-05:00   80389400        0.0           0.0  \n",
       "2022-11-18 00:00:00-05:00   74794600        0.0           0.0  \n",
       "2022-11-21 00:00:00-05:00   58646900        0.0           0.0  \n",
       "\n",
       "[10576 rows x 7 columns]"
      ]
     },
     "execution_count": 9,
     "metadata": {},
     "output_type": "execute_result"
    }
   ],
   "source": [
    "#PARTE NRO 1 : SE EXTRAJO DATA EN TIEMPO REAL DE YAHOO FINANCE CON API Y LIBRERIA yfinance DE ESTE LINK https://github.com/ranaroussi/yfinance\n",
    "\n",
    "msft = yf.Ticker(\"AAPL\")\n",
    "print(msft)\n",
    "\n",
    "hist = msft.history(period=\"max\")\n",
    "hist"
   ]
  },
  {
   "cell_type": "code",
   "execution_count": null,
   "id": "35af8f7d-9b22-4764-b971-adef3cb78f24",
   "metadata": {},
   "outputs": [],
   "source": [
    "\n",
    "#SE EXTRAJO LA DATA DEL PRECIO DE LOS PRODUCTOS DE UNA DE LAS GRANDES CADENAS DE SUPRMERCADOS EN VENEZUELA LLAMADA PLAN SUAREZ, SON 480 PAGINAS DE PRODUCTOS"
   ]
  },
  {
   "cell_type": "code",
   "execution_count": 87,
   "id": "984d77f8-9e7d-402e-ba92-f724845de4af",
   "metadata": {},
   "outputs": [
    {
     "name": "stdout",
     "output_type": "stream",
     "text": [
      "done\n"
     ]
    }
   ],
   "source": [
    "\n",
    "lista = []\n",
    "for i in range(2,482) :\n",
    "    url2 = f'https://www.plansuarez.com/index.php?route=product/catalog&page={i}'\n",
    "    link1 = requests.get(url2)\n",
    "    sopa = BeautifulSoup(link1.content)\n",
    "    hack = sopa.select('span.price-normal')\n",
    "    lista.append([tag.text for tag in hack])\n",
    "flat_list = [item for sublist in lista for item in sublist]\n",
    "\n",
    "print('done')\n",
    "\n",
    "#flat_list hay 482 paginas"
   ]
  },
  {
   "cell_type": "code",
   "execution_count": null,
   "id": "9ad1c647-0911-4cea-b7d6-34496e3d09fb",
   "metadata": {},
   "outputs": [],
   "source": []
  },
  {
   "cell_type": "code",
   "execution_count": 72,
   "id": "4a529e18-1853-4eec-b21b-f4516f187b1b",
   "metadata": {},
   "outputs": [
    {
     "name": "stdout",
     "output_type": "stream",
     "text": [
      "done\n"
     ]
    }
   ],
   "source": [
    "\n",
    "lista3 = []\n",
    "for i in range(2,482) :\n",
    "    url2 = f'https://www.plansuarez.com/index.php?route=product/catalog&page={i}'\n",
    "    link3 = requests.get(url2)\n",
    "    sopa3 = BeautifulSoup(link3.content)\n",
    "    hack1 = sopa3.select('span.price-tax')\n",
    "    lista3.append([tag.text for tag in hack1])\n",
    "flat_list3 = [item for sublist in lista3 for item in sublist]\n",
    "print('done')\n"
   ]
  },
  {
   "cell_type": "code",
   "execution_count": 89,
   "id": "20ff7a97-9646-421a-bfa0-97032da809d1",
   "metadata": {},
   "outputs": [],
   "source": [
    "\n",
    "#DE IGUAL FORMA SE EXTRAJO LA DATA DE LOS PRODUCTOS"
   ]
  },
  {
   "cell_type": "code",
   "execution_count": 149,
   "id": "8da09f88-88ed-4a88-88a6-b75adc1b352a",
   "metadata": {},
   "outputs": [
    {
     "name": "stdout",
     "output_type": "stream",
     "text": [
      "done\n"
     ]
    }
   ],
   "source": [
    "\n",
    "\n",
    "lista2 = []\n",
    "for i in range(2,482) :\n",
    "    url = f'https://www.plansuarez.com/index.php?route=product/catalog&page={i}'\n",
    "    link = requests.get(url)\n",
    "    sopa = BeautifulSoup(link1.content)\n",
    "    hack = sopa.select('div.name')\n",
    "    lista2.append([tag.text for tag in hack])\n",
    "flat_list2 = [item for sublist in lista2 for item in sublist]\n",
    "\n",
    "print('done')"
   ]
  },
  {
   "cell_type": "code",
   "execution_count": null,
   "id": "0127bf32-58d7-4176-8505-0801b62586ba",
   "metadata": {},
   "outputs": [],
   "source": [
    "# SE EXTRAJERON Y LIMPIARON LAS TASAS DE CAMBIO EN BS, DOLARES Y PESOS MEXICANOS EN PAGINAS FIABLES"
   ]
  },
  {
   "cell_type": "code",
   "execution_count": 118,
   "id": "c49ac98a-c9d8-44bc-88fa-0e50c9f8f022",
   "metadata": {},
   "outputs": [
    {
     "data": {
      "text/plain": [
       "10.235"
      ]
     },
     "execution_count": 118,
     "metadata": {},
     "output_type": "execute_result"
    }
   ],
   "source": [
    "\n",
    "url2 = 'https://monitordolarvenezuela.com/'\n",
    "link2 = requests.get(url2)\n",
    "link2.status_code\n",
    "sopa2 = BeautifulSoup(link2.content , 'html.parser')\n",
    "bcv = sopa2.select('p')\n",
    "a = [ i.replace('bs =','') for i in bcv[0]]\n",
    "b = [ float(i.replace('Bs =','').replace(',','.')) for i in a]\n",
    "tasa_bs = b[0]\n",
    "tasa_bs\n"
   ]
  },
  {
   "cell_type": "code",
   "execution_count": 142,
   "id": "1c13b4b6-f349-48a1-9d42-f5ca0ece7afc",
   "metadata": {},
   "outputs": [
    {
     "data": {
      "text/plain": [
       "19.3825"
      ]
     },
     "execution_count": 142,
     "metadata": {},
     "output_type": "execute_result"
    }
   ],
   "source": [
    "url3 = 'https://www.google.com/finance/quote/USD-MXN?sa=X&ved=2ahUKEwisqo34vsf7AhXHRTABHZrjA1kQmY0JegQICBAc'\n",
    "link3 = requests.get(url3)\n",
    "link3.status_code\n",
    "sopa2 = BeautifulSoup(link3.content , 'html.parser')\n",
    "mex = sopa2.select('div.YMlKec.fxKbKc')\n",
    "usd_mex = [float(i.text) for i in mex]\n",
    "tasa_mex = usd_mex[0]\n",
    "tasa_mex"
   ]
  },
  {
   "cell_type": "code",
   "execution_count": null,
   "id": "8e552b85-aa39-4a81-bf33-a4b9aa5008c0",
   "metadata": {},
   "outputs": [],
   "source": [
    "#SE CREO EN DATAFRAME Y SE LIMPIARON LOS CAMPOS DE PRECIO_BS PARA SER MANEJADO COMO UN NUMERO DECIMAL"
   ]
  },
  {
   "cell_type": "code",
   "execution_count": 147,
   "id": "a1085037-ca2f-4230-bc8e-6ee58cd84964",
   "metadata": {},
   "outputs": [
    {
     "name": "stdout",
     "output_type": "stream",
     "text": [
      "7680 7680\n"
     ]
    },
    {
     "data": {
      "text/html": [
       "<div>\n",
       "<style scoped>\n",
       "    .dataframe tbody tr th:only-of-type {\n",
       "        vertical-align: middle;\n",
       "    }\n",
       "\n",
       "    .dataframe tbody tr th {\n",
       "        vertical-align: top;\n",
       "    }\n",
       "\n",
       "    .dataframe thead th {\n",
       "        text-align: right;\n",
       "    }\n",
       "</style>\n",
       "<table border=\"1\" class=\"dataframe\">\n",
       "  <thead>\n",
       "    <tr style=\"text-align: right;\">\n",
       "      <th></th>\n",
       "      <th>PRODUCTO</th>\n",
       "      <th>PRECIO_BS</th>\n",
       "      <th>PRECIO_USD</th>\n",
       "      <th>PRECIO_MEX</th>\n",
       "    </tr>\n",
       "  </thead>\n",
       "  <tbody>\n",
       "    <tr>\n",
       "      <th>0</th>\n",
       "      <td>ABRIDOR DE BOTELLA SFRONT COLORES VARIOS</td>\n",
       "      <td>41.79</td>\n",
       "      <td>4.083048</td>\n",
       "      <td>79.139685</td>\n",
       "    </tr>\n",
       "    <tr>\n",
       "      <th>1</th>\n",
       "      <td>ABRILLANTADOR KEM 4KG NEUTRO AL FRIO</td>\n",
       "      <td>386.08</td>\n",
       "      <td>37.721544</td>\n",
       "      <td>731.137821</td>\n",
       "    </tr>\n",
       "    <tr>\n",
       "      <th>2</th>\n",
       "      <td>ABRILLANTADOR KEM 4KG NEUTRO AL FRIO</td>\n",
       "      <td>386.08</td>\n",
       "      <td>37.721544</td>\n",
       "      <td>731.137821</td>\n",
       "    </tr>\n",
       "    <tr>\n",
       "      <th>3</th>\n",
       "      <td>ACEITE 4 TIEMPOS INCA PARA MOTO</td>\n",
       "      <td>94.98</td>\n",
       "      <td>9.279922</td>\n",
       "      <td>179.868085</td>\n",
       "    </tr>\n",
       "    <tr>\n",
       "      <th>4</th>\n",
       "      <td>ACEITE ADEREZO OLIVA BOA MESA PLAS 1LT</td>\n",
       "      <td>134.51</td>\n",
       "      <td>13.142159</td>\n",
       "      <td>254.727902</td>\n",
       "    </tr>\n",
       "    <tr>\n",
       "      <th>...</th>\n",
       "      <td>...</td>\n",
       "      <td>...</td>\n",
       "      <td>...</td>\n",
       "      <td>...</td>\n",
       "    </tr>\n",
       "    <tr>\n",
       "      <th>7675</th>\n",
       "      <td>ACEITE FULL SYNTHETIC SN 5W30 VENOCO GAL</td>\n",
       "      <td>184.25</td>\n",
       "      <td>18.001954</td>\n",
       "      <td>348.922875</td>\n",
       "    </tr>\n",
       "    <tr>\n",
       "      <th>7676</th>\n",
       "      <td>SANGRIA MAL PORTADA 175LT</td>\n",
       "      <td>42.65</td>\n",
       "      <td>4.167074</td>\n",
       "      <td>80.768307</td>\n",
       "    </tr>\n",
       "    <tr>\n",
       "      <th>7677</th>\n",
       "      <td>REFRESCO GLUP 2LT COLA</td>\n",
       "      <td>10.21</td>\n",
       "      <td>0.997557</td>\n",
       "      <td>19.335156</td>\n",
       "    </tr>\n",
       "    <tr>\n",
       "      <th>7678</th>\n",
       "      <td>LECHE POLVO DOBON 400GR COMPLETA</td>\n",
       "      <td>38.38</td>\n",
       "      <td>3.749878</td>\n",
       "      <td>72.682008</td>\n",
       "    </tr>\n",
       "    <tr>\n",
       "      <th>7679</th>\n",
       "      <td>AGUA MINERAL MINALBA 600ML</td>\n",
       "      <td>7.83</td>\n",
       "      <td>0.765022</td>\n",
       "      <td>14.828039</td>\n",
       "    </tr>\n",
       "  </tbody>\n",
       "</table>\n",
       "<p>7680 rows × 4 columns</p>\n",
       "</div>"
      ],
      "text/plain": [
       "                                      PRODUCTO  PRECIO_BS  PRECIO_USD  \\\n",
       "0     ABRIDOR DE BOTELLA SFRONT COLORES VARIOS      41.79    4.083048   \n",
       "1         ABRILLANTADOR KEM 4KG NEUTRO AL FRIO     386.08   37.721544   \n",
       "2         ABRILLANTADOR KEM 4KG NEUTRO AL FRIO     386.08   37.721544   \n",
       "3              ACEITE 4 TIEMPOS INCA PARA MOTO      94.98    9.279922   \n",
       "4       ACEITE ADEREZO OLIVA BOA MESA PLAS 1LT     134.51   13.142159   \n",
       "...                                        ...        ...         ...   \n",
       "7675  ACEITE FULL SYNTHETIC SN 5W30 VENOCO GAL     184.25   18.001954   \n",
       "7676                 SANGRIA MAL PORTADA 175LT      42.65    4.167074   \n",
       "7677                    REFRESCO GLUP 2LT COLA      10.21    0.997557   \n",
       "7678          LECHE POLVO DOBON 400GR COMPLETA      38.38    3.749878   \n",
       "7679                AGUA MINERAL MINALBA 600ML       7.83    0.765022   \n",
       "\n",
       "      PRECIO_MEX  \n",
       "0      79.139685  \n",
       "1     731.137821  \n",
       "2     731.137821  \n",
       "3     179.868085  \n",
       "4     254.727902  \n",
       "...          ...  \n",
       "7675  348.922875  \n",
       "7676   80.768307  \n",
       "7677   19.335156  \n",
       "7678   72.682008  \n",
       "7679   14.828039  \n",
       "\n",
       "[7680 rows x 4 columns]"
      ]
     },
     "execution_count": 147,
     "metadata": {},
     "output_type": "execute_result"
    }
   ],
   "source": [
    "flat_list_mod = [i.replace('Bs.','').replace(',','') for i in flat_list]\n",
    "\n",
    "flat_list_mod = [float(i) for i in flat_list_mod]\n",
    "\n",
    "\n",
    "\n",
    "print(len(flat_list) , len(flat_list2))\n",
    "\n",
    "dicti = {'PRODUCTO' : flat_list2 , 'PRECIO_BS' : flat_list_mod  }\n",
    "\n",
    "df = pd.DataFrame(dicti)\n",
    "df['PRECIO_USD'] = df['PRECIO_BS']/tasa_bs\n",
    "df['PRECIO_MEX'] = df['PRECIO_USD']*tasa_mex\n",
    "df\n"
   ]
  },
  {
   "cell_type": "code",
   "execution_count": null,
   "id": "6f6f403a-e62c-41f7-b6ba-1d919d108029",
   "metadata": {},
   "outputs": [],
   "source": []
  },
  {
   "cell_type": "code",
   "execution_count": null,
   "id": "7ed35126-50b0-4f71-90a0-fd6056dae46b",
   "metadata": {},
   "outputs": [],
   "source": []
  },
  {
   "cell_type": "code",
   "execution_count": null,
   "id": "697bb9ae-470a-40d1-827c-1bd035ff77e0",
   "metadata": {},
   "outputs": [],
   "source": []
  },
  {
   "cell_type": "code",
   "execution_count": null,
   "id": "a2d1cce5-158b-4276-94db-215618cdc2f7",
   "metadata": {},
   "outputs": [],
   "source": []
  },
  {
   "cell_type": "code",
   "execution_count": null,
   "id": "fff6ce97-1b51-44ac-a4e5-8858cb3262a7",
   "metadata": {},
   "outputs": [],
   "source": []
  },
  {
   "cell_type": "code",
   "execution_count": null,
   "id": "0387295f-038e-4f61-9457-cb47e6192cb5",
   "metadata": {},
   "outputs": [],
   "source": []
  }
 ],
 "metadata": {
  "kernelspec": {
   "display_name": "Python 3 (ipykernel)",
   "language": "python",
   "name": "python3"
  },
  "language_info": {
   "codemirror_mode": {
    "name": "ipython",
    "version": 3
   },
   "file_extension": ".py",
   "mimetype": "text/x-python",
   "name": "python",
   "nbconvert_exporter": "python",
   "pygments_lexer": "ipython3",
   "version": "3.9.12"
  }
 },
 "nbformat": 4,
 "nbformat_minor": 5
}
