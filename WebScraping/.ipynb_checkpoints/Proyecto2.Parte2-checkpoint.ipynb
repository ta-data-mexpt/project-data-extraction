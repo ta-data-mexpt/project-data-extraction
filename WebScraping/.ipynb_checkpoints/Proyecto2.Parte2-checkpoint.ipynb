{
 "cells": [
  {
   "cell_type": "code",
   "execution_count": 1,
   "metadata": {},
   "outputs": [],
   "source": [
    "from bs4 import BeautifulSoup\n",
    "from selenium import webdriver\n",
    "from selenium.webdriver.common.keys import Keys\n",
    "import time \n",
    "import re\n",
    "import math\n",
    "from selenium.webdriver.common.action_chains import ActionChains\n",
    "import pandas as pd\n",
    "import csv"
   ]
  },
  {
   "cell_type": "code",
   "execution_count": 2,
   "metadata": {},
   "outputs": [],
   "source": [
    "def fill_input(nombre_comercial, camara, actividad, entidad):\n",
    "    t=3 #tiempo de espera\n",
    "    #Rellenando el Nombre Comercial\n",
    "    elem_nombre = driver.find_element_by_xpath('//*[@id=\"entradaNombreComercial\"]')\n",
    "    elem_nombre.clear()\n",
    "    elem_nombre.click()\n",
    "    time.sleep(t)\n",
    "    ActionChains(driver).send_keys(nombre_comercial).send_keys(Keys.RETURN).perform()\n",
    "    #Llenando la camara\n",
    "    driver.find_element_by_xpath('//*[@id=\"vs1__combobox\"]').click()\n",
    "    time.sleep(t)\n",
    "    ActionChains(driver).send_keys(camara).send_keys(Keys.RETURN).perform()\n",
    "    #Llenando la actividad\n",
    "    driver.find_element_by_xpath('//*[@id=\"vs2__combobox\"]').click()\n",
    "    time.sleep(t)\n",
    "    ActionChains(driver).send_keys(actividad).send_keys(Keys.RETURN).perform()\n",
    "    #Rellenando la Entidad \n",
    "    driver.find_element_by_xpath('//*[@id=\"vs3__combobox\"]').click()\n",
    "    time.sleep(t)\n",
    "    ActionChains(driver).send_keys(entidad).send_keys(Keys.RETURN).perform()    \n",
    "    #Clic en el botón buscar\n",
    "    driver.find_element_by_id('botonGuardar').click()\n",
    "    return\n",
    "\n",
    "def info_extract():\n",
    "    #Entrando a la página con info de la empresa\n",
    "    driver.find_element_by_xpath('//*[@id=\"__BVID__72\"]/tbody/tr/td[4]/div/div/div/button').click()\n",
    "    time.sleep(4)\n",
    "    #Abriendo la pestaña los datos generales\n",
    "    i=0\n",
    "    for i in range(3):\n",
    "        driver.find_element_by_css_selector('.btn.btn-primary.active.center-block.btn-secondary.btn-block.collapsed').click()\n",
    "    time.sleep(4)\n",
    "    datos_brutos = driver.find_elements_by_css_selector('div.card-body')\n",
    "    datos_limpios = [element.text.split('\\n') for element in datos_brutos]\n",
    "    return datos_limpios\n",
    "\n",
    "#    Otra forma de hacerlo pero el numero de columnas no coinicide en todos los casos\n",
    "#    page_source = driver.page_source\n",
    "#    soup = BeautifulSoup(page_source, 'html')\n",
    "#    datos_generales = soup.select('p')\n",
    "#    datos_generales_clean = [element.text for element in datos_generales]\n",
    "#    tabla_datos= pd.DataFrame(datos_generales_clean, index=columns).T\n",
    "    \n"
   ]
  },
  {
   "cell_type": "code",
   "execution_count": 3,
   "metadata": {},
   "outputs": [],
   "source": [
    "#Llamando al webdriver Chrome y abriendo la página del siem\n",
    "driver = webdriver.Chrome('/Users/lupita/Documents/IronHack/complementos/chromedriver')"
   ]
  },
  {
   "cell_type": "code",
   "execution_count": null,
   "metadata": {},
   "outputs": [],
   "source": [
    "driver.get('https://siem.economia.gob.mx/ui/pubconsultaestablecimientos')"
   ]
  },
  {
   "cell_type": "code",
   "execution_count": null,
   "metadata": {},
   "outputs": [],
   "source": [
    "#Creando encabezado de tabla \n",
    "columns=['Nombre Comercial','Tipo de vialidad','Nombre de la vialidad','Número exterior',\\\n",
    "        'Edificio. Piso o Nivel','Número Interior','Número de Local','Codigo Postal',\\\n",
    "        'Tipo de asentamiento humano','Nombre asentamiento','Centro Comercial, Parque Industrial, otro',\\\n",
    "        'Nombre','Entrevialidades Tipo1','Nombre1','Tipo 2','Nombre 2','Vialidad Posterior Tipo',\\\n",
    "        'Nombre','Descripción Ubicación Territorial','Entidad Federativa','Delegación o Municipio',\\\n",
    "        'Localidad', 'Datos de Contacto. Telefóno', 'Extensión','E-mail','Otro','Sitio Web',\\\n",
    "        'Perfil General de la Empresa. Tipo', 'Tipo de Instalaciones','¿Exporta?',\\\n",
    "        'Paises','¿Importa?','Paises','Actividad principal', 'Producto o Servicio principal',\\\n",
    "        'Porcentaje','Producto o Servicio principal(2)','Porcentaje','Producto o Servicio principal(2)','Porcentaje',\\\n",
    "        'Actividad(Código)','Principales productos o servicois que ofrece','Destino',\\\n",
    "        'Principales insumos que demanda','Origen','Insumos (2)','Origen (2)',\\\n",
    "        'Insumos (3)','Origen (3)','Facebook', 'Twitter','Grupo Empresarial','Cámara y/o Asociación',\\\n",
    "        'Clúster','Cadena Productiva', 'Distintivo','Nombre Distintivo','Drop']\n",
    "\n",
    "hoteles_otros_servicios = pd.DataFrame( columns = columns) \n",
    "hoteles_otros_servicios"
   ]
  },
  {
   "cell_type": "code",
   "execution_count": 4,
   "metadata": {},
   "outputs": [
    {
     "data": {
      "text/plain": [
       "649"
      ]
     },
     "execution_count": 4,
     "metadata": {},
     "output_type": "execute_result"
    }
   ],
   "source": [
    "#Importando la lista de empresas\n",
    "lista_empresas = pd.read_csv ('lista_empresas0.csv')\n",
    "lista_empresas.drop(['Unnamed: 0'],axis=1)\n",
    "lista_empresas.columns\n",
    "len(lista_empresas)"
   ]
  },
  {
   "cell_type": "code",
   "execution_count": 5,
   "metadata": {},
   "outputs": [
    {
     "name": "stdout",
     "output_type": "stream",
     "text": [
      "Hay mas de un registro\n"
     ]
    },
    {
     "ename": "NoSuchElementException",
     "evalue": "Message: no such element: Unable to locate element: {\"method\":\"xpath\",\"selector\":\"//*[@id=\"app\"]/div[2]/div/div[2]/div/button\"}\n  (Session info: chrome=86.0.4240.198)\n",
     "output_type": "error",
     "traceback": [
      "\u001b[0;31m---------------------------------------------------------------------------\u001b[0m",
      "\u001b[0;31mNoSuchElementException\u001b[0m                    Traceback (most recent call last)",
      "\u001b[0;32m<ipython-input-5-a0a0e2d8c725>\u001b[0m in \u001b[0;36m<module>\u001b[0;34m\u001b[0m\n\u001b[1;32m     18\u001b[0m         \u001b[0mprint\u001b[0m\u001b[0;34m(\u001b[0m\u001b[0;34m\"No se encontró registro\"\u001b[0m\u001b[0;34m)\u001b[0m\u001b[0;34m\u001b[0m\u001b[0;34m\u001b[0m\u001b[0m\n\u001b[1;32m     19\u001b[0m     \u001b[0;32melif\u001b[0m \u001b[0mnumero\u001b[0m \u001b[0;34m==\u001b[0m \u001b[0;36m1\u001b[0m\u001b[0;34m:\u001b[0m\u001b[0;34m\u001b[0m\u001b[0;34m\u001b[0m\u001b[0m\n\u001b[0;32m---> 20\u001b[0;31m         \u001b[0minfo\u001b[0m \u001b[0;34m=\u001b[0m \u001b[0minfo_extract\u001b[0m\u001b[0;34m(\u001b[0m\u001b[0;34m)\u001b[0m\u001b[0;34m\u001b[0m\u001b[0;34m\u001b[0m\u001b[0m\n\u001b[0m\u001b[1;32m     21\u001b[0m         \u001b[0mdatos\u001b[0m\u001b[0;34m.\u001b[0m\u001b[0mappend\u001b[0m\u001b[0;34m(\u001b[0m\u001b[0minfo\u001b[0m\u001b[0;34m)\u001b[0m\u001b[0;34m\u001b[0m\u001b[0;34m\u001b[0m\u001b[0m\n\u001b[1;32m     22\u001b[0m \u001b[0;34m\u001b[0m\u001b[0m\n",
      "\u001b[0;32m<ipython-input-2-3a1235cabae9>\u001b[0m in \u001b[0;36minfo_extract\u001b[0;34m()\u001b[0m\n\u001b[1;32m     28\u001b[0m     \u001b[0mtime\u001b[0m\u001b[0;34m.\u001b[0m\u001b[0msleep\u001b[0m\u001b[0;34m(\u001b[0m\u001b[0;36m4\u001b[0m\u001b[0;34m)\u001b[0m\u001b[0;34m\u001b[0m\u001b[0;34m\u001b[0m\u001b[0m\n\u001b[1;32m     29\u001b[0m     \u001b[0;31m#Abriendo la pestaña los datos generales\u001b[0m\u001b[0;34m\u001b[0m\u001b[0;34m\u001b[0m\u001b[0;34m\u001b[0m\u001b[0m\n\u001b[0;32m---> 30\u001b[0;31m     \u001b[0mdriver\u001b[0m\u001b[0;34m.\u001b[0m\u001b[0mfind_element_by_xpath\u001b[0m\u001b[0;34m(\u001b[0m\u001b[0;34m'//*[@id=\"app\"]/div[2]/div/div[2]/div/button'\u001b[0m\u001b[0;34m)\u001b[0m\u001b[0;34m.\u001b[0m\u001b[0mclick\u001b[0m\u001b[0;34m(\u001b[0m\u001b[0;34m)\u001b[0m\u001b[0;34m\u001b[0m\u001b[0;34m\u001b[0m\u001b[0m\n\u001b[0m\u001b[1;32m     31\u001b[0m     \u001b[0mtime\u001b[0m\u001b[0;34m.\u001b[0m\u001b[0msleep\u001b[0m\u001b[0;34m(\u001b[0m\u001b[0;36m6\u001b[0m\u001b[0;34m)\u001b[0m\u001b[0;34m\u001b[0m\u001b[0;34m\u001b[0m\u001b[0m\n\u001b[1;32m     32\u001b[0m     \u001b[0;31m#Abriendo la pestaña de perfil general\u001b[0m\u001b[0;34m\u001b[0m\u001b[0;34m\u001b[0m\u001b[0;34m\u001b[0m\u001b[0m\n",
      "\u001b[0;32m/opt/anaconda3/lib/python3.7/site-packages/selenium/webdriver/remote/webdriver.py\u001b[0m in \u001b[0;36mfind_element_by_xpath\u001b[0;34m(self, xpath)\u001b[0m\n\u001b[1;32m    392\u001b[0m             \u001b[0melement\u001b[0m \u001b[0;34m=\u001b[0m \u001b[0mdriver\u001b[0m\u001b[0;34m.\u001b[0m\u001b[0mfind_element_by_xpath\u001b[0m\u001b[0;34m(\u001b[0m\u001b[0;34m'//div/td[1]'\u001b[0m\u001b[0;34m)\u001b[0m\u001b[0;34m\u001b[0m\u001b[0;34m\u001b[0m\u001b[0m\n\u001b[1;32m    393\u001b[0m         \"\"\"\n\u001b[0;32m--> 394\u001b[0;31m         \u001b[0;32mreturn\u001b[0m \u001b[0mself\u001b[0m\u001b[0;34m.\u001b[0m\u001b[0mfind_element\u001b[0m\u001b[0;34m(\u001b[0m\u001b[0mby\u001b[0m\u001b[0;34m=\u001b[0m\u001b[0mBy\u001b[0m\u001b[0;34m.\u001b[0m\u001b[0mXPATH\u001b[0m\u001b[0;34m,\u001b[0m \u001b[0mvalue\u001b[0m\u001b[0;34m=\u001b[0m\u001b[0mxpath\u001b[0m\u001b[0;34m)\u001b[0m\u001b[0;34m\u001b[0m\u001b[0;34m\u001b[0m\u001b[0m\n\u001b[0m\u001b[1;32m    395\u001b[0m \u001b[0;34m\u001b[0m\u001b[0m\n\u001b[1;32m    396\u001b[0m     \u001b[0;32mdef\u001b[0m \u001b[0mfind_elements_by_xpath\u001b[0m\u001b[0;34m(\u001b[0m\u001b[0mself\u001b[0m\u001b[0;34m,\u001b[0m \u001b[0mxpath\u001b[0m\u001b[0;34m)\u001b[0m\u001b[0;34m:\u001b[0m\u001b[0;34m\u001b[0m\u001b[0;34m\u001b[0m\u001b[0m\n",
      "\u001b[0;32m/opt/anaconda3/lib/python3.7/site-packages/selenium/webdriver/remote/webdriver.py\u001b[0m in \u001b[0;36mfind_element\u001b[0;34m(self, by, value)\u001b[0m\n\u001b[1;32m    976\u001b[0m         return self.execute(Command.FIND_ELEMENT, {\n\u001b[1;32m    977\u001b[0m             \u001b[0;34m'using'\u001b[0m\u001b[0;34m:\u001b[0m \u001b[0mby\u001b[0m\u001b[0;34m,\u001b[0m\u001b[0;34m\u001b[0m\u001b[0;34m\u001b[0m\u001b[0m\n\u001b[0;32m--> 978\u001b[0;31m             'value': value})['value']\n\u001b[0m\u001b[1;32m    979\u001b[0m \u001b[0;34m\u001b[0m\u001b[0m\n\u001b[1;32m    980\u001b[0m     \u001b[0;32mdef\u001b[0m \u001b[0mfind_elements\u001b[0m\u001b[0;34m(\u001b[0m\u001b[0mself\u001b[0m\u001b[0;34m,\u001b[0m \u001b[0mby\u001b[0m\u001b[0;34m=\u001b[0m\u001b[0mBy\u001b[0m\u001b[0;34m.\u001b[0m\u001b[0mID\u001b[0m\u001b[0;34m,\u001b[0m \u001b[0mvalue\u001b[0m\u001b[0;34m=\u001b[0m\u001b[0;32mNone\u001b[0m\u001b[0;34m)\u001b[0m\u001b[0;34m:\u001b[0m\u001b[0;34m\u001b[0m\u001b[0;34m\u001b[0m\u001b[0m\n",
      "\u001b[0;32m/opt/anaconda3/lib/python3.7/site-packages/selenium/webdriver/remote/webdriver.py\u001b[0m in \u001b[0;36mexecute\u001b[0;34m(self, driver_command, params)\u001b[0m\n\u001b[1;32m    319\u001b[0m         \u001b[0mresponse\u001b[0m \u001b[0;34m=\u001b[0m \u001b[0mself\u001b[0m\u001b[0;34m.\u001b[0m\u001b[0mcommand_executor\u001b[0m\u001b[0;34m.\u001b[0m\u001b[0mexecute\u001b[0m\u001b[0;34m(\u001b[0m\u001b[0mdriver_command\u001b[0m\u001b[0;34m,\u001b[0m \u001b[0mparams\u001b[0m\u001b[0;34m)\u001b[0m\u001b[0;34m\u001b[0m\u001b[0;34m\u001b[0m\u001b[0m\n\u001b[1;32m    320\u001b[0m         \u001b[0;32mif\u001b[0m \u001b[0mresponse\u001b[0m\u001b[0;34m:\u001b[0m\u001b[0;34m\u001b[0m\u001b[0;34m\u001b[0m\u001b[0m\n\u001b[0;32m--> 321\u001b[0;31m             \u001b[0mself\u001b[0m\u001b[0;34m.\u001b[0m\u001b[0merror_handler\u001b[0m\u001b[0;34m.\u001b[0m\u001b[0mcheck_response\u001b[0m\u001b[0;34m(\u001b[0m\u001b[0mresponse\u001b[0m\u001b[0;34m)\u001b[0m\u001b[0;34m\u001b[0m\u001b[0;34m\u001b[0m\u001b[0m\n\u001b[0m\u001b[1;32m    322\u001b[0m             response['value'] = self._unwrap_value(\n\u001b[1;32m    323\u001b[0m                 response.get('value', None))\n",
      "\u001b[0;32m/opt/anaconda3/lib/python3.7/site-packages/selenium/webdriver/remote/errorhandler.py\u001b[0m in \u001b[0;36mcheck_response\u001b[0;34m(self, response)\u001b[0m\n\u001b[1;32m    240\u001b[0m                 \u001b[0malert_text\u001b[0m \u001b[0;34m=\u001b[0m \u001b[0mvalue\u001b[0m\u001b[0;34m[\u001b[0m\u001b[0;34m'alert'\u001b[0m\u001b[0;34m]\u001b[0m\u001b[0;34m.\u001b[0m\u001b[0mget\u001b[0m\u001b[0;34m(\u001b[0m\u001b[0;34m'text'\u001b[0m\u001b[0;34m)\u001b[0m\u001b[0;34m\u001b[0m\u001b[0;34m\u001b[0m\u001b[0m\n\u001b[1;32m    241\u001b[0m             \u001b[0;32mraise\u001b[0m \u001b[0mexception_class\u001b[0m\u001b[0;34m(\u001b[0m\u001b[0mmessage\u001b[0m\u001b[0;34m,\u001b[0m \u001b[0mscreen\u001b[0m\u001b[0;34m,\u001b[0m \u001b[0mstacktrace\u001b[0m\u001b[0;34m,\u001b[0m \u001b[0malert_text\u001b[0m\u001b[0;34m)\u001b[0m\u001b[0;34m\u001b[0m\u001b[0;34m\u001b[0m\u001b[0m\n\u001b[0;32m--> 242\u001b[0;31m         \u001b[0;32mraise\u001b[0m \u001b[0mexception_class\u001b[0m\u001b[0;34m(\u001b[0m\u001b[0mmessage\u001b[0m\u001b[0;34m,\u001b[0m \u001b[0mscreen\u001b[0m\u001b[0;34m,\u001b[0m \u001b[0mstacktrace\u001b[0m\u001b[0;34m)\u001b[0m\u001b[0;34m\u001b[0m\u001b[0;34m\u001b[0m\u001b[0m\n\u001b[0m\u001b[1;32m    243\u001b[0m \u001b[0;34m\u001b[0m\u001b[0m\n\u001b[1;32m    244\u001b[0m     \u001b[0;32mdef\u001b[0m \u001b[0m_value_or_default\u001b[0m\u001b[0;34m(\u001b[0m\u001b[0mself\u001b[0m\u001b[0;34m,\u001b[0m \u001b[0mobj\u001b[0m\u001b[0;34m,\u001b[0m \u001b[0mkey\u001b[0m\u001b[0;34m,\u001b[0m \u001b[0mdefault\u001b[0m\u001b[0;34m)\u001b[0m\u001b[0;34m:\u001b[0m\u001b[0;34m\u001b[0m\u001b[0;34m\u001b[0m\u001b[0m\n",
      "\u001b[0;31mNoSuchElementException\u001b[0m: Message: no such element: Unable to locate element: {\"method\":\"xpath\",\"selector\":\"//*[@id=\"app\"]/div[2]/div/div[2]/div/button\"}\n  (Session info: chrome=86.0.4240.198)\n"
     ]
    }
   ],
   "source": [
    "driver.get('https://siem.economia.gob.mx/ui/pubconsultaestablecimientos')\n",
    "time.sleep(8)\n",
    "entidad = 'Ciudad de México'\n",
    "datos =[]\n",
    "for i in range(7,100,1):\n",
    "    #Defininedo las entradas del formulario\n",
    "    nombre_comercial = lista_empresas['Nombre Comercial'][i]\n",
    "    camara = lista_empresas['Cámara'][i]\n",
    "    actividad = lista_empresas['Actividad'][i]\n",
    "    #Llenando el formulario\n",
    "    fill_input(nombre_comercial, camara, actividad, entidad)\n",
    "    #obteniendo el número de registros encontrados en esa busqueda.\n",
    "    time.sleep(5)\n",
    "    registros = driver.find_elements_by_css_selector('h3.text-secondary')\n",
    "    leyenda_registros = [element.text for element in registros]\n",
    "    numero =int(re.search('\\d+',leyenda_registros[0]).group())\n",
    "    if numero == 0:\n",
    "        print(\"No se encontró registro\")\n",
    "    elif numero == 1:\n",
    "        info = info_extract()\n",
    "        datos.append(info)\n",
    "         \n",
    "        #hoteles_otros_servicios = pd.concat([hoteles_otros_servicios, info])\n",
    "        driver.get('https://siem.economia.gob.mx/ui/pubconsultaestablecimientos')\n",
    "        time.sleep(8)\n",
    "    else :\n",
    "        print(\"Hay mas de un registro\")\n",
    "datos_df = pd.DataFrame(datos)\n",
    "datos_df.to_csv('Datos_SIEM.csv', encoding='utf-8-sig')\n"
   ]
  },
  {
   "cell_type": "code",
   "execution_count": null,
   "metadata": {},
   "outputs": [],
   "source": [
    "datos_df = pd.DataFrame(datos)\n",
    "datos_df.to_csv('Datos_SIEM3.csv', encoding='utf-8-sig')\n"
   ]
  },
  {
   "cell_type": "code",
   "execution_count": 17,
   "metadata": {},
   "outputs": [],
   "source": [
    "#Abriendo la pestaña los datos generales\n"
   ]
  },
  {
   "cell_type": "code",
   "execution_count": null,
   "metadata": {},
   "outputs": [],
   "source": [
    "time.sleep(0)\n",
    "    #Abriendo la pestaña de perfil general\n",
    "driver.find_element_by_xpath('//*[@id=\"app\"]/div[2]/div/div[4]/div/button').click()\n",
    "time.sleep(0)\n",
    "    #Abrieno la pestaña de actividad económica\n",
    "driver.find_element_by_xpath('//*[@id=\"app\"]/div[2]/div/div[5]/div/button').click()\n",
    "time.sleep(0)\n",
    "datos_brutos = driver.find_elements_by_css_selector('div.card-body')\n",
    "datos_limpios = [element.text.split('\\n') for element in datos_brutos]\n",
    "\n",
    "//*[@id=\"app\"]/div[2]/div/div[3]/div/button"
   ]
  },
  {
   "cell_type": "code",
   "execution_count": null,
   "metadata": {},
   "outputs": [],
   "source": [
    "#time.sleep(1)\n",
    "    #Entrando a la página con info de la empresa\n",
    "#    driver.find_element_by_xpath('//*[@id=\"__BVID__72\"]/tbody/tr/td[4]/div/div/div/button').click()\n",
    " #   time.sleep(2)\n",
    "    #Abriendo la pestaña los datos generales\n",
    "driver.find_element_by_xpath('//*[@id=\"app\"]/div[2]/div/div[2]/div/button').click()\n",
    "time.sleep(2)\n",
    "    #Abriendo la pestaña de perfil general\n",
    "driver.find_element_by_xpath('//*[@id=\"app\"]/div[2]/div/div[3]/div/button').click()\n",
    "time.sleep(2)\n",
    "    #Abriendo la pestaña de actividad económica\n",
    "driver.find_element_by_xpath('//*[@id=\"app\"]/div[2]/div/div[4]/div/button').click()\n",
    "page_source = driver.page_source\n",
    "soup = BeautifulSoup(page_source, 'html')\n",
    "datos_generales = soup.select('p')\n",
    "datos_generales_clean = [element.text for element in datos_generales]\n",
    "tabla_datos= pd.DataFrame(datos_generales, index=columns).T"
   ]
  },
  {
   "cell_type": "code",
   "execution_count": null,
   "metadata": {},
   "outputs": [],
   "source": [
    "hoteles_otros_servicios = pd.concat([hoteles_otros_servicios, info])\n",
    "print(hoteles_otros_servicios)"
   ]
  },
  {
   "cell_type": "code",
   "execution_count": null,
   "metadata": {},
   "outputs": [],
   "source": [
    "driver.find_element_by_xpath('//*[@id=\"app\"]/div[2]/div/div[2]/div/button').click()\n",
    "#//*[@id=\"app\"]/div[2]/div/div[2]/div/button"
   ]
  },
  {
   "cell_type": "code",
   "execution_count": null,
   "metadata": {},
   "outputs": [],
   "source": []
  }
 ],
 "metadata": {
  "kernelspec": {
   "display_name": "Python 3",
   "language": "python",
   "name": "python3"
  },
  "language_info": {
   "codemirror_mode": {
    "name": "ipython",
    "version": 3
   },
   "file_extension": ".py",
   "mimetype": "text/x-python",
   "name": "python",
   "nbconvert_exporter": "python",
   "pygments_lexer": "ipython3",
   "version": "3.7.6"
  }
 },
 "nbformat": 4,
 "nbformat_minor": 4
}
