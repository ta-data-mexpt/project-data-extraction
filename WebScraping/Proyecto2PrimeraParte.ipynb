{
 "cells": [
  {
   "cell_type": "code",
   "execution_count": 1,
   "metadata": {},
   "outputs": [],
   "source": [
    "from bs4 import BeautifulSoup\n",
    "from selenium import webdriver\n",
    "from selenium.webdriver.common.keys import Keys\n",
    "import time \n",
    "import re\n",
    "import math\n",
    "from selenium.webdriver.common.action_chains import ActionChains\n",
    "import pandas as pd\n"
   ]
  },
  {
   "cell_type": "code",
   "execution_count": 2,
   "metadata": {},
   "outputs": [],
   "source": [
    "#Funcion para obtener tabla para un pestaña de una solicitud de \n",
    "#información.\n",
    "def obtener_tabla():\n",
    "    page_source = driver.page_source\n",
    "    table = pd.read_html(page_source)\n",
    "    lista = table[0]\n",
    "    columns = ['Nombre Comercial','Cámara', 'Entidad Federativa', 'Actividad']\n",
    "    lista.columns = columns  \n",
    "    lista.loc[:,'Entidad Federativa'] = 'Ciudad de México'\n",
    "    lista.loc[:,'Actividad'] = lista_actividades[posicion_actividad]\n",
    "    lista = lista[['Nombre Comercial','Cámara', 'Actividad','Entidad Federativa']]\n",
    "    return lista"
   ]
  },
  {
   "cell_type": "code",
   "execution_count": 3,
   "metadata": {},
   "outputs": [],
   "source": [
    "driver = webdriver.Chrome('/Users/lupita/Documents/IronHack/complementos/chromedriver')"
   ]
  },
  {
   "cell_type": "code",
   "execution_count": null,
   "metadata": {},
   "outputs": [],
   "source": [
    "#Obteniendo la lista de Cámaras\n",
    "driver.find_element_by_xpath('//*[@id=\"vs1__combobox\"]').click()\n",
    "time.sleep(5)\n",
    "lista_1 = driver.find_elements_by_id('vs1__listbox')\n",
    "camaras = [element.text.split('\\n') for element in lista_1]\n",
    "ActionChains(driver).send_keys(Keys.RETURN).perform()\n",
    "print(camaras )\n"
   ]
  },
  {
   "cell_type": "code",
   "execution_count": null,
   "metadata": {},
   "outputs": [],
   "source": [
    "lista_camaras = pd.DataFrame(camaras[0], columns=['Camaras'])\n",
    "lista_camaras.to_csv(r'ListaCamaras.csv', encoding=\"utf-8\")\n",
    "lista_camaras.head()"
   ]
  },
  {
   "cell_type": "code",
   "execution_count": 6,
   "metadata": {},
   "outputs": [
    {
     "name": "stdout",
     "output_type": "stream",
     "text": [
      "1098\n"
     ]
    },
    {
     "data": {
      "text/plain": [
       "list"
      ]
     },
     "execution_count": 6,
     "metadata": {},
     "output_type": "execute_result"
    }
   ],
   "source": [
    "#Obteniendo la lista de Actividades\n",
    "driver.find_element_by_xpath('//*[@id=\"vs2__combobox\"]').click()\n",
    "lista_2 = driver.find_elements_by_id('vs2__listbox')\n",
    "actividades = [element.text.split('\\n') for element in lista_2]\n",
    "ActionChains(driver).send_keys(Keys.RETURN).perform()\n",
    "lista_actividades = actividades[1]\n",
    "print(len(lista_actividades))\n",
    "type(lista_actividades)"
   ]
  },
  {
   "cell_type": "code",
   "execution_count": null,
   "metadata": {},
   "outputs": [],
   "source": [
    "#Convertir la lista de actividades a un csv\n",
    "sectores=pd.DataFrame(lista_actividades, columns=['Actividad'])\n",
    "sectores.to_csv(r'Actividades.csv', encoding=\"utf-8\")"
   ]
  },
  {
   "cell_type": "code",
   "execution_count": 7,
   "metadata": {},
   "outputs": [],
   "source": [
    "#Obteniendo la lista de entidades\n",
    "driver.find_element_by_xpath('//*[@id=\"vs3__combobox\"]').click()\n",
    "lista_3 = driver.find_elements_by_id('vs3__listbox')\n",
    "entidades = [element.text.split('\\n') for element in lista_3]\n",
    "ActionChains(driver).send_keys(Keys.RETURN).perform()"
   ]
  },
  {
   "cell_type": "code",
   "execution_count": 8,
   "metadata": {},
   "outputs": [],
   "source": [
    "lista_entidades=pd.DataFrame(entidades[1][1:], columns=['Entidades'])\n",
    "lista_entidades.to_csv('ListaEntidades.csv',encoding=\"utf-8\")"
   ]
  },
  {
   "cell_type": "code",
   "execution_count": 9,
   "metadata": {},
   "outputs": [],
   "source": [
    "#Seleccionando la Ciudad de México como entidad\n",
    "driver.find_element_by_xpath('//*[@id=\"vs3__combobox\"]').click()\n",
    "posicion_entidad = entidades[1].index('Ciudad de México')\n",
    "for i in range(posicion_entidad):\n",
    "    ActionChains(driver).send_keys(Keys.ARROW_DOWN).perform()\n",
    "ActionChains(driver).send_keys(Keys.RETURN).perform()"
   ]
  },
  {
   "cell_type": "code",
   "execution_count": 10,
   "metadata": {},
   "outputs": [
    {
     "data": {
      "text/plain": [
       "741"
      ]
     },
     "execution_count": 10,
     "metadata": {},
     "output_type": "execute_result"
    }
   ],
   "source": [
    "#Obteniendo el indice para una determinada actividad\n",
    "posicion_actividad = lista_actividades.index('Hoteles con otros servicios integrados')\n",
    "posicion_actividad"
   ]
  },
  {
   "cell_type": "code",
   "execution_count": 11,
   "metadata": {},
   "outputs": [],
   "source": [
    "#Seleccionando una actividad ingresando el nombre de la actividad\n",
    "elemen = driver.find_element_by_xpath('//*[@id=\"vs2__combobox\"]')\n",
    "elemen.click()\n",
    "ActionChains(driver).send_keys(lista_actividades[posicion_actividad]).perform()\n",
    "ActionChains(driver).send_keys(Keys.RETURN).perform()\n",
    "driver.find_element_by_id('botonGuardar').click()"
   ]
  },
  {
   "cell_type": "code",
   "execution_count": 12,
   "metadata": {},
   "outputs": [
    {
     "name": "stdout",
     "output_type": "stream",
     "text": [
      "a buscar\n",
      "649 65\n"
     ]
    }
   ],
   "source": [
    "#Verificando cuantos registros encontró para esa actividad. Si no\n",
    "#encuentra debe seguir con el siguiente sector. \n",
    "registros = driver.find_elements_by_css_selector('h3.text-secondary')\n",
    "leyenda_registros = [element.text for element in registros]\n",
    "numero =int(re.search('\\d+',leyenda_registros[0]).group())\n",
    "if numero>0:\n",
    "    print('a buscar')\n",
    "else:\n",
    "    print(\"Continua con la siguiente actividad\")\n",
    "#Calcula el número de paginas que tiene ese sector. \n",
    "paginas =math.ceil(numero/10)\n",
    "print(numero, paginas)"
   ]
  },
  {
   "cell_type": "code",
   "execution_count": 13,
   "metadata": {},
   "outputs": [],
   "source": [
    "#Recopilando la información de la busqueda por actividad.\n",
    "#Obteniendo todas la tablas de las pestañas y uniendola en una sola tabla\n",
    "lista_empresas=obtener_tabla()\n",
    "for i in range(paginas-1):\n",
    "    driver.find_element_by_xpath('//*[@id=\"__BVID__70\"]/div/ul/li[8]/button').click()\n",
    "    empresas_nuevas=obtener_tabla()\n",
    "    lista_empresas= pd.concat([lista_empresas,empresas_nuevas])\n",
    "lista_empresas = lista_empresas.reset_index(drop=True)\n",
    "lista_empresas\n",
    "lista_empresas.to_csv('lista_empresas0.csv',encoding=\"utf-8\")\n",
    "#lista1['Nombre Comercial']\n"
   ]
  },
  {
   "cell_type": "code",
   "execution_count": 14,
   "metadata": {},
   "outputs": [
    {
     "data": {
      "text/html": [
       "<div>\n",
       "<style scoped>\n",
       "    .dataframe tbody tr th:only-of-type {\n",
       "        vertical-align: middle;\n",
       "    }\n",
       "\n",
       "    .dataframe tbody tr th {\n",
       "        vertical-align: top;\n",
       "    }\n",
       "\n",
       "    .dataframe thead th {\n",
       "        text-align: right;\n",
       "    }\n",
       "</style>\n",
       "<table border=\"1\" class=\"dataframe\">\n",
       "  <thead>\n",
       "    <tr style=\"text-align: right;\">\n",
       "      <th></th>\n",
       "      <th>Nombre Comercial</th>\n",
       "      <th>Cámara</th>\n",
       "      <th>Actividad</th>\n",
       "      <th>Entidad Federativa</th>\n",
       "    </tr>\n",
       "  </thead>\n",
       "  <tbody>\n",
       "    <tr>\n",
       "      <th>0</th>\n",
       "      <td>VP LIVE</td>\n",
       "      <td>CANACO SERVYTUR CD DE MEXICO</td>\n",
       "      <td>Hoteles con otros servicios integrados</td>\n",
       "      <td>Ciudad de México</td>\n",
       "    </tr>\n",
       "    <tr>\n",
       "      <th>1</th>\n",
       "      <td>MARKA ENTERTAINMENT GROUP</td>\n",
       "      <td>CANACO SERVYTUR CD DE MEXICO</td>\n",
       "      <td>Hoteles con otros servicios integrados</td>\n",
       "      <td>Ciudad de México</td>\n",
       "    </tr>\n",
       "    <tr>\n",
       "      <th>2</th>\n",
       "      <td>NH AEROPUERTO</td>\n",
       "      <td>CANACO SERVYTUR CD DE MEXICO</td>\n",
       "      <td>Hoteles con otros servicios integrados</td>\n",
       "      <td>Ciudad de México</td>\n",
       "    </tr>\n",
       "    <tr>\n",
       "      <th>3</th>\n",
       "      <td>CHASTEL</td>\n",
       "      <td>CANACO SERVYTUR CD DE MEXICO</td>\n",
       "      <td>Hoteles con otros servicios integrados</td>\n",
       "      <td>Ciudad de México</td>\n",
       "    </tr>\n",
       "    <tr>\n",
       "      <th>4</th>\n",
       "      <td>HOTEL BLANCO</td>\n",
       "      <td>CANACO SERVYTUR CD DE MEXICO</td>\n",
       "      <td>Hoteles con otros servicios integrados</td>\n",
       "      <td>Ciudad de México</td>\n",
       "    </tr>\n",
       "    <tr>\n",
       "      <th>...</th>\n",
       "      <td>...</td>\n",
       "      <td>...</td>\n",
       "      <td>...</td>\n",
       "      <td>...</td>\n",
       "    </tr>\n",
       "    <tr>\n",
       "      <th>644</th>\n",
       "      <td>RIO LERMA 162, S.A. DE C.V.</td>\n",
       "      <td>CANACOPE SERVYTUR CD DE MEXICO</td>\n",
       "      <td>Hoteles con otros servicios integrados</td>\n",
       "      <td>Ciudad de México</td>\n",
       "    </tr>\n",
       "    <tr>\n",
       "      <th>645</th>\n",
       "      <td>OPERADORA HOTELERA BRISAS, S.A. DE C.V.</td>\n",
       "      <td>CANACOPE SERVYTUR CD DE MEXICO</td>\n",
       "      <td>Hoteles con otros servicios integrados</td>\n",
       "      <td>Ciudad de México</td>\n",
       "    </tr>\n",
       "    <tr>\n",
       "      <th>646</th>\n",
       "      <td>HOTEL PEGASO</td>\n",
       "      <td>CANACO SERVYTUR CD DE MEXICO</td>\n",
       "      <td>Hoteles con otros servicios integrados</td>\n",
       "      <td>Ciudad de México</td>\n",
       "    </tr>\n",
       "    <tr>\n",
       "      <th>647</th>\n",
       "      <td>HOTEL CANADA</td>\n",
       "      <td>CANACO SERVYTUR CD DE MEXICO</td>\n",
       "      <td>Hoteles con otros servicios integrados</td>\n",
       "      <td>Ciudad de México</td>\n",
       "    </tr>\n",
       "    <tr>\n",
       "      <th>648</th>\n",
       "      <td>HOTEL ROJA</td>\n",
       "      <td>CANACO SERVYTUR CD DE MEXICO</td>\n",
       "      <td>Hoteles con otros servicios integrados</td>\n",
       "      <td>Ciudad de México</td>\n",
       "    </tr>\n",
       "  </tbody>\n",
       "</table>\n",
       "<p>649 rows × 4 columns</p>\n",
       "</div>"
      ],
      "text/plain": [
       "                            Nombre Comercial                          Cámara  \\\n",
       "0                                    VP LIVE    CANACO SERVYTUR CD DE MEXICO   \n",
       "1                  MARKA ENTERTAINMENT GROUP    CANACO SERVYTUR CD DE MEXICO   \n",
       "2                              NH AEROPUERTO    CANACO SERVYTUR CD DE MEXICO   \n",
       "3                                    CHASTEL    CANACO SERVYTUR CD DE MEXICO   \n",
       "4                               HOTEL BLANCO    CANACO SERVYTUR CD DE MEXICO   \n",
       "..                                       ...                             ...   \n",
       "644              RIO LERMA 162, S.A. DE C.V.  CANACOPE SERVYTUR CD DE MEXICO   \n",
       "645  OPERADORA HOTELERA BRISAS, S.A. DE C.V.  CANACOPE SERVYTUR CD DE MEXICO   \n",
       "646                             HOTEL PEGASO    CANACO SERVYTUR CD DE MEXICO   \n",
       "647                             HOTEL CANADA    CANACO SERVYTUR CD DE MEXICO   \n",
       "648                               HOTEL ROJA    CANACO SERVYTUR CD DE MEXICO   \n",
       "\n",
       "                                  Actividad Entidad Federativa  \n",
       "0    Hoteles con otros servicios integrados   Ciudad de México  \n",
       "1    Hoteles con otros servicios integrados   Ciudad de México  \n",
       "2    Hoteles con otros servicios integrados   Ciudad de México  \n",
       "3    Hoteles con otros servicios integrados   Ciudad de México  \n",
       "4    Hoteles con otros servicios integrados   Ciudad de México  \n",
       "..                                      ...                ...  \n",
       "644  Hoteles con otros servicios integrados   Ciudad de México  \n",
       "645  Hoteles con otros servicios integrados   Ciudad de México  \n",
       "646  Hoteles con otros servicios integrados   Ciudad de México  \n",
       "647  Hoteles con otros servicios integrados   Ciudad de México  \n",
       "648  Hoteles con otros servicios integrados   Ciudad de México  \n",
       "\n",
       "[649 rows x 4 columns]"
      ]
     },
     "execution_count": 14,
     "metadata": {},
     "output_type": "execute_result"
    }
   ],
   "source": [
    "lista_empresas"
   ]
  }
 ],
 "metadata": {
  "kernelspec": {
   "display_name": "Python 3",
   "language": "python",
   "name": "python3"
  },
  "language_info": {
   "codemirror_mode": {
    "name": "ipython",
    "version": 3
   },
   "file_extension": ".py",
   "mimetype": "text/x-python",
   "name": "python",
   "nbconvert_exporter": "python",
   "pygments_lexer": "ipython3",
   "version": "3.7.6"
  }
 },
 "nbformat": 4,
 "nbformat_minor": 4
}
