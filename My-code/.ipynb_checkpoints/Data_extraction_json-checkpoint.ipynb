{
 "cells": [
  {
   "cell_type": "code",
   "execution_count": 1,
   "metadata": {},
   "outputs": [],
   "source": [
    "import re\n",
    "import json\n",
    "import requests\n",
    "import urllib.request"
   ]
  },
  {
   "cell_type": "code",
   "execution_count": 3,
   "metadata": {},
   "outputs": [],
   "source": [
    "#Autoriza la API de Google Maps\n",
    "with open('../../client.txt') as f:\n",
    "    YOUR_API_KEY = f.readlines()\n",
    "    YOUR_API_KEY = YOUR_API_KEY[0].split()\n",
    "    YOUR_API_KEY = YOUR_API_KEY[0]"
   ]
  },
  {
   "cell_type": "code",
   "execution_count": 4,
   "metadata": {},
   "outputs": [],
   "source": [
    "#Definición de funciones\n",
    "def decimalDegrees(grados,minutos,segundos):\n",
    "    return grados+(minutos/60)+(segundos/3600)"
   ]
  },
  {
   "cell_type": "markdown",
   "metadata": {},
   "source": [
    "Extracción de la lista de sucursales"
   ]
  },
  {
   "cell_type": "code",
   "execution_count": 5,
   "metadata": {},
   "outputs": [
    {
     "data": {
      "text/plain": [
       "'rectangle:14.540833333333333,118.45666666666666|32.718333333333334,86.71000000000001'"
      ]
     },
     "execution_count": 5,
     "metadata": {},
     "output_type": "execute_result"
    }
   ],
   "source": [
    "#Definición de variables\n",
    "output = 'json'\n",
    "input_text = 'BBVA'\n",
    "input_type = 'textquery'\n",
    "field = 'name,place_id,geometry,formatted_address,business_status'\n",
    "types = 'bank'\n",
    "\n",
    "#Las coordenadas extremas que enmarcan el territorio mexicano son:\n",
    "#Norte: 32° 43´ 06´´ latitud norte, en el Monumento 206, en la frontera con los Estados Unidos de América (3 152.90 kilómetros).\n",
    "#Sur: 14° 32´ 27´´ latitud norte, en la desembocadura del río Suchiate, frontera con Guatemala (1 149.8 kilómetros).\n",
    "#Este: 86° 42´ 36´´ longitud oeste, en el extremo suroeste de la Isla Mujeres.\n",
    "#Oeste: 118° 27´ 24´´ longitud oeste, en la Punta Roca Elefante de la Isla de Guadalupe, en el Océano Pacífico.\n",
    "\n",
    "south = decimalDegrees(14,32,27)\n",
    "west = decimalDegrees(118,27,24)\n",
    "north = decimalDegrees(32,43,6)\n",
    "east = decimalDegrees(86,42,36)\n",
    "\n",
    "location = f'rectangle:{south},{west}|{north},{east}'\n",
    "location"
   ]
  },
  {
   "cell_type": "code",
   "execution_count": 21,
   "metadata": {},
   "outputs": [],
   "source": [
    "#Generación de request\n",
    "url = f'https://maps.googleapis.com/maps/api/place/findplacefromtext/{output}?input={input_text}&inputtype={input_type}&fields={field}&type={types}&locationbias={location}&key={YOUR_API_KEY}'\n",
    "request = urllib.request.urlopen(url)"
   ]
  },
  {
   "cell_type": "code",
   "execution_count": 22,
   "metadata": {},
   "outputs": [],
   "source": [
    "data = json.load(request)"
   ]
  },
  {
   "cell_type": "code",
   "execution_count": 23,
   "metadata": {},
   "outputs": [
    {
     "data": {
      "text/plain": [
       "dict_keys(['candidates', 'status'])"
      ]
     },
     "execution_count": 23,
     "metadata": {},
     "output_type": "execute_result"
    }
   ],
   "source": [
    "data.keys()"
   ]
  },
  {
   "cell_type": "code",
   "execution_count": 24,
   "metadata": {},
   "outputs": [
    {
     "data": {
      "text/plain": [
       "[{'business_status': 'OPERATIONAL',\n",
       "  'formatted_address': 'Av. Tamaulipas 103, Hipódromo Condesa, Cuauhtémoc, 06170 Ciudad de México, CDMX, México',\n",
       "  'geometry': {'location': {'lat': 19.4107078, 'lng': -99.1750022},\n",
       "   'viewport': {'northeast': {'lat': 19.41200557989272,\n",
       "     'lng': -99.17358777010728},\n",
       "    'southwest': {'lat': 19.40930592010728, 'lng': -99.17628742989271}}},\n",
       "  'name': 'BBVA',\n",
       "  'place_id': 'ChIJjZzqtEP_0YURLz4SyZILnjs'}]"
      ]
     },
     "execution_count": 24,
     "metadata": {},
     "output_type": "execute_result"
    }
   ],
   "source": [
    "data['candidates']"
   ]
  },
  {
   "cell_type": "code",
   "execution_count": 17,
   "metadata": {},
   "outputs": [
    {
     "data": {
      "text/plain": [
       "{'business_status': 'OPERATIONAL',\n",
       " 'formatted_address': 'Av. Tamaulipas 103, Hipódromo Condesa, Cuauhtémoc, 06170 Ciudad de México, CDMX, México',\n",
       " 'geometry': {'location': {'lat': 19.4107078, 'lng': -99.1750022},\n",
       "  'viewport': {'northeast': {'lat': 19.41200557989272,\n",
       "    'lng': -99.17358777010728},\n",
       "   'southwest': {'lat': 19.40930592010728, 'lng': -99.17628742989271}}},\n",
       " 'name': 'BBVA',\n",
       " 'place_id': 'ChIJjZzqtEP_0YURLz4SyZILnjs'}"
      ]
     },
     "execution_count": 17,
     "metadata": {},
     "output_type": "execute_result"
    }
   ],
   "source": [
    "data['candidates'][0]"
   ]
  },
  {
   "cell_type": "code",
   "execution_count": 19,
   "metadata": {},
   "outputs": [
    {
     "data": {
      "text/plain": [
       "dict_keys(['business_status', 'formatted_address', 'geometry', 'name', 'place_id'])"
      ]
     },
     "execution_count": 19,
     "metadata": {},
     "output_type": "execute_result"
    }
   ],
   "source": [
    "data['candidates'][0].keys()"
   ]
  },
  {
   "cell_type": "code",
   "execution_count": 31,
   "metadata": {},
   "outputs": [
    {
     "data": {
      "text/plain": [
       "{'lat': 19.4107078, 'lng': -99.1750022}"
      ]
     },
     "execution_count": 31,
     "metadata": {},
     "output_type": "execute_result"
    }
   ],
   "source": [
    "data['candidates'][0]['geometry']['location']"
   ]
  },
  {
   "cell_type": "code",
   "execution_count": 34,
   "metadata": {},
   "outputs": [
    {
     "data": {
      "text/plain": [
       "19.4107078"
      ]
     },
     "execution_count": 34,
     "metadata": {},
     "output_type": "execute_result"
    }
   ],
   "source": [
    "lat = data['candidates'][0]['geometry']['location']['lat']\n",
    "lat"
   ]
  },
  {
   "cell_type": "code",
   "execution_count": 33,
   "metadata": {},
   "outputs": [
    {
     "data": {
      "text/plain": [
       "-99.1750022"
      ]
     },
     "execution_count": 33,
     "metadata": {},
     "output_type": "execute_result"
    }
   ],
   "source": [
    "lng = data['candidates'][0]['geometry']['location']['lng']\n",
    "lng"
   ]
  },
  {
   "cell_type": "code",
   "execution_count": null,
   "metadata": {},
   "outputs": [],
   "source": []
  }
 ],
 "metadata": {
  "kernelspec": {
   "display_name": "Python 3",
   "language": "python",
   "name": "python3"
  },
  "language_info": {
   "codemirror_mode": {
    "name": "ipython",
    "version": 3
   },
   "file_extension": ".py",
   "mimetype": "text/x-python",
   "name": "python",
   "nbconvert_exporter": "python",
   "pygments_lexer": "ipython3",
   "version": "3.8.3"
  }
 },
 "nbformat": 4,
 "nbformat_minor": 4
}
